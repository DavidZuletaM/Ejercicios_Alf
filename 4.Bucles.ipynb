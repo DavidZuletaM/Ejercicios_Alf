{
 "cells": [
  {
   "cell_type": "code",
   "execution_count": 2,
   "metadata": {},
   "outputs": [
    {
     "name": "stdout",
     "output_type": "stream",
     "text": [
      "Hola\n",
      "Hola\n",
      "Hola\n",
      "Hola\n",
      "Hola\n",
      "Hola\n",
      "Hola\n",
      "Hola\n",
      "Hola\n",
      "Hola\n"
     ]
    }
   ],
   "source": [
    "\"\"\"Escribir un programa que pida al usuario una palabra y la muestre por pantalla 10 veces.\"\"\"\n",
    "\n",
    "palabra=str(input(\"Escriba una palabra: \"))\n",
    "for i in range(10):  \n",
    "    print(palabra)"
   ]
  },
  {
   "cell_type": "code",
   "execution_count": null,
   "metadata": {},
   "outputs": [
    {
     "name": "stdout",
     "output_type": "stream",
     "text": [
      "Has cumplido 1 años\n",
      "Has cumplido 2 años\n",
      "Has cumplido 3 años\n",
      "Has cumplido 4 años\n",
      "Has cumplido 5 años\n"
     ]
    }
   ],
   "source": [
    "\"\"\"Escribir un programa que pregunte al usuario su edad y muestre por pantalla todos los años que ha cumplido (desde 1 hasta su edad).\"\"\"\n",
    "\n",
    "edad=int(input(\"Indique su edad: \"))\n",
    "for i in range(edad): #i empieza siendo 0. El número de veces que él itera es 5. Pero empieza de 0 hasta 4.\n",
    "    print(\"Has cumplido\" , i+1, \"años\")"
   ]
  },
  {
   "cell_type": "code",
   "execution_count": null,
   "metadata": {},
   "outputs": [
    {
     "name": "stdout",
     "output_type": "stream",
     "text": [
      "1 ,\n",
      "3 ,\n",
      "5 ,\n",
      "7 ,\n",
      "9 ,\n",
      "11 ,\n",
      "13 ,\n"
     ]
    }
   ],
   "source": [
    "\"\"\"Escribir un programa que pida al usuario un número entero positivo y muestre por pantalla todos los números impares desde 1\n",
    "hasta ese número separados por comas.\"\"\"\n",
    "\n",
    "num = int(input(\"Ingrese un número entero positivo: \"))\n",
    "for i in range(1, num+1, 2): \n",
    "    print(i, \",\")   #Si se coloca end=\",\" en lugar de solo \",\" el resultado se disponibilizará en un mismo renglón."
   ]
  },
  {
   "cell_type": "code",
   "execution_count": null,
   "metadata": {},
   "outputs": [
    {
     "name": "stdout",
     "output_type": "stream",
     "text": [
      "5,4,3,2,1,0,"
     ]
    }
   ],
   "source": [
    "\"\"\"Escribir un programa que pida al usuario un número entero positivo y muestre por pantalla la cuenta atrás desde ese número \n",
    "hasta cero separados por comas.\"\"\"\n",
    "\n",
    "num=int(input(\"Ingrese un número entero positivo: \"))\n",
    "for i in range(num, -1, -1):\n",
    "    print(i, end=\",\")\n",
    "    "
   ]
  },
  {
   "cell_type": "code",
   "execution_count": null,
   "metadata": {},
   "outputs": [
    {
     "name": "stdout",
     "output_type": "stream",
     "text": [
      "El capital obtenido tras el año: 1 es: 109.0\n",
      "El capital obtenido tras el año: 2 es: 118.81\n",
      "El capital obtenido tras el año: 3 es: 129.5\n",
      "El capital obtenido tras el año: 4 es: 141.16\n",
      "El capital obtenido tras el año: 5 es: 153.86\n"
     ]
    }
   ],
   "source": [
    "\"\"\"Escribir un programa que pregunte al usuario una cantidad a invertir, el interés anual y el número de años, y muestre por pantalla el capital obtenido \n",
    "en la inversión cada año que dura la inversión.\"\"\"\n",
    "\n",
    "monto= int(input(\"Cantidad a invertir: \"))\n",
    "interes= int(input(\"Interés anual (sin el simbolo %): \"))\n",
    "anios= int(input(\"Número de años: \"))\n",
    "for i in range(anios):\n",
    "    monto *= 1 + interes / 100\n",
    "    print(\"El capital obtenido tras el año: \" + str(i+1) +  \" es: \" + str(round(monto,2)))"
   ]
  },
  {
   "cell_type": "code",
   "execution_count": null,
   "metadata": {},
   "outputs": [
    {
     "name": "stdout",
     "output_type": "stream",
     "text": [
      "*\n",
      "**\n",
      "***\n",
      "****\n",
      "*****\n"
     ]
    }
   ],
   "source": [
    "\"\"\"Escribir un programa que pida al usuario un número entero y muestre por pantalla un triángulo rectángulo como el de más abajo, de altura \n",
    "el número introducido.\"\"\"\n",
    "\n",
    "\n",
    "numero= int(input(\"Introduzca un número entero positivo: \"))\n",
    "for i in range(numero):\n",
    "    print(\"*\"*(i+1))"
   ]
  },
  {
   "cell_type": "code",
   "execution_count": 22,
   "metadata": {},
   "outputs": [
    {
     "name": "stdout",
     "output_type": "stream",
     "text": [
      "*\n",
      "**\n",
      "***\n",
      "****\n",
      "*****\n",
      "******\n"
     ]
    }
   ],
   "source": [
    "#Otra forma de realizar el ejercicio anterior es: \n",
    "numero=int(input(\"Ingrese un número entero positivo: \"))\n",
    "for i in range(numero):\n",
    "    for j in range(i+1):\n",
    "        print(\"*\", end=\"\")\n",
    "    print(\"\")"
   ]
  },
  {
   "cell_type": "code",
   "execution_count": 26,
   "metadata": {},
   "outputs": [
    {
     "name": "stdout",
     "output_type": "stream",
     "text": [
      "1\t2\t3\t4\t5\t6\t7\t8\t9\t10\t\n",
      "2\t4\t6\t8\t10\t12\t14\t16\t18\t20\t\n",
      "3\t6\t9\t12\t15\t18\t21\t24\t27\t30\t\n",
      "4\t8\t12\t16\t20\t24\t28\t32\t36\t40\t\n",
      "5\t10\t15\t20\t25\t30\t35\t40\t45\t50\t\n",
      "6\t12\t18\t24\t30\t36\t42\t48\t54\t60\t\n",
      "7\t14\t21\t28\t35\t42\t49\t56\t63\t70\t\n",
      "8\t16\t24\t32\t40\t48\t56\t64\t72\t80\t\n",
      "9\t18\t27\t36\t45\t54\t63\t72\t81\t90\t\n",
      "10\t20\t30\t40\t50\t60\t70\t80\t90\t100\t\n"
     ]
    }
   ],
   "source": [
    "\"\"\"Escribir un programa que muestre por pantalla la tabla de multiplicar del 1 al 10.\"\"\"\n",
    "\n",
    "for i in range(1, 11):\n",
    "    for j in range(1, 11):\n",
    "        print((i*j), end=\"\\t\") #'\\t' es igual a tabular\n",
    "    print(\"\")"
   ]
  },
  {
   "cell_type": "code",
   "execution_count": 29,
   "metadata": {},
   "outputs": [
    {
     "name": "stdout",
     "output_type": "stream",
     "text": [
      "1 \n",
      "3 1 \n",
      "5 3 1 \n",
      "7 5 3 1 \n",
      "9 7 5 3 1 \n"
     ]
    }
   ],
   "source": [
    "\"\"\"Escribir un programa que pida al usuario un número entero y muestre por pantalla un triángulo rectángulo como el de más abajo.\"\"\"\n",
    "\n",
    "\n",
    "numero=int(input(\"Introduzca un número entero: \"))\n",
    "for i in range(1, numero+1, 2):\n",
    "    for j in range(i, 0, -2):\n",
    "        print(j, end=\" \")\n",
    "    print(\"\")"
   ]
  },
  {
   "cell_type": "code",
   "execution_count": 1,
   "metadata": {},
   "outputs": [
    {
     "name": "stdout",
     "output_type": "stream",
     "text": [
      "¡Contraseña correcta!\n"
     ]
    }
   ],
   "source": [
    "\"\"\"Escribir un programa que almacene la cadena de caracteres contraseña en una variable, pregunte al usuario por la contraseña hasta \n",
    "que introduzca la contraseña correcta.\"\"\"\n",
    "\n",
    "\n",
    "llave=0\n",
    "contraseña=\"\"\n",
    "while contraseña != llave:\n",
    "    \n",
    "    contraseña=int(input(\"Ingrese su contraseña: \"))\n",
    "    \n",
    "print(\"¡Contraseña correcta!\")"
   ]
  },
  {
   "cell_type": "code",
   "execution_count": 42,
   "metadata": {},
   "outputs": [
    {
     "name": "stdout",
     "output_type": "stream",
     "text": [
      "257 es un número primo\n"
     ]
    }
   ],
   "source": [
    "\"\"\"Escribir un programa que pida al usuario un número entero y muestre por pantalla si es un número primo o no.\"\"\"\n",
    "\n",
    "\n",
    "n=int(input(\"Ingrese un número: \"))\n",
    "i = 2\n",
    "while n % i != 0:\n",
    "    i += 1\n",
    "if i == n:\n",
    "    print(str(n) + \" es un número primo\")\n",
    "else:\n",
    "    print(str(n) + \" no es un número primo\")\n"
   ]
  },
  {
   "cell_type": "code",
   "execution_count": null,
   "metadata": {},
   "outputs": [
    {
     "name": "stdout",
     "output_type": "stream",
     "text": [
      "r\n",
      "e\n",
      "e\n",
      "L\n"
     ]
    }
   ],
   "source": [
    "\"\"\"Escribir un programa que pida al usuario una palabra y luego muestre por pantalla una a una las letras de la palabra introducida empezando por la última.\"\"\"\n",
    "\n",
    "\n",
    "palabra=input(\"Ingrese una palabra: \")\n",
    "for i in range(len(palabra)-1,-1,-1): #La palabra leer genera: (3, 2, 1, 0). Inicia con 3, finaliza antes de llegar a -1 y se devuelve ya que el paso es -1.\n",
    "    print(palabra[i])"
   ]
  },
  {
   "cell_type": "code",
   "execution_count": 7,
   "metadata": {},
   "outputs": [
    {
     "name": "stdout",
     "output_type": "stream",
     "text": [
      "La letra escogida: a aparece 2 veces en la frase escrita.\n"
     ]
    }
   ],
   "source": [
    "\"\"\"Escribir un programa en el que se pregunte al usuario por una frase y una letra, y muestre por pantalla el número de veces que aparece la letra en la frase.\"\"\"\n",
    "\n",
    "frase=input(\"Ingrese una frase: \")\n",
    "letra=input(\"Ingreses una letra: \")\n",
    "contador=0\n",
    "for i in range(len(frase)):\n",
    "    if frase[i].lower()==letra.lower():\n",
    "        contador+=1\n",
    "    else:\n",
    "        contador+=0\n",
    "print(\"La letra escogida:\", letra,\"aparece\", contador, \"veces en la frase escrita.\", sep=\" \")\n",
    "    \n",
    "    "
   ]
  },
  {
   "cell_type": "code",
   "execution_count": 8,
   "metadata": {},
   "outputs": [
    {
     "name": "stdout",
     "output_type": "stream",
     "text": [
      "La letra escogida 'e' aparece  4 veces en la frase 'hola, cómo estás? Espero que todo vaya muy bien hoy para ti'.\n"
     ]
    }
   ],
   "source": [
    "#Solución teniendo en cuenta la corrección después de ver la respuesta de la máquina:\n",
    "frase=input(\"Ingrese una frase: \")\n",
    "letra=input(\"Ingreses una letra: \")\n",
    "contador=0\n",
    "\n",
    "for i in frase:\n",
    "    if i == letra:\n",
    "        contador += 1\n",
    "        \n",
    "print(\"La letra escogida '%s' aparece %2i veces en la frase '%s'.\" %(letra,contador,frase))"
   ]
  },
  {
   "cell_type": "code",
   "execution_count": 23,
   "metadata": {},
   "outputs": [
    {
     "name": "stdout",
     "output_type": "stream",
     "text": [
      "Hola \n",
      "cierra\n",
      "apaga\n"
     ]
    }
   ],
   "source": [
    "\"\"\"Escribir un programa que muestre el eco de todo lo que el usuario introduzca hasta que el usuario escriba “salir” que terminará.\"\"\"\n",
    "\n",
    "\n",
    "while True:\n",
    "    palabra=input(\"Introduzca lo que quiera:\" )\n",
    "    if palabra.title() == \"Salir\":\n",
    "        break\n",
    "    print(palabra)"
   ]
  }
 ],
 "metadata": {
  "kernelspec": {
   "display_name": ".venv",
   "language": "python",
   "name": "python3"
  },
  "language_info": {
   "codemirror_mode": {
    "name": "ipython",
    "version": 3
   },
   "file_extension": ".py",
   "mimetype": "text/x-python",
   "name": "python",
   "nbconvert_exporter": "python",
   "pygments_lexer": "ipython3",
   "version": "3.8.8"
  }
 },
 "nbformat": 4,
 "nbformat_minor": 2
}
