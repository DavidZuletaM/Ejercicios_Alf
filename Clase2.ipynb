{
  "nbformat": 4,
  "nbformat_minor": 0,
  "metadata": {
    "colab": {
      "provenance": []
    },
    "kernelspec": {
      "name": "python3",
      "display_name": "Python 3"
    },
    "language_info": {
      "name": "python"
    }
  },
  "cells": [
    {
      "cell_type": "code",
      "execution_count": null,
      "metadata": {
        "colab": {
          "base_uri": "https://localhost:8080/"
        },
        "id": "9vidEVof9kC7",
        "outputId": "00f7b2ef-531f-4eba-a1d6-eae230ff74f7"
      },
      "outputs": [
        {
          "output_type": "stream",
          "name": "stdout",
          "text": [
            "David\n"
          ]
        }
      ],
      "source": [
        "print(\"David\")"
      ]
    },
    {
      "cell_type": "code",
      "source": [
        "saludo = \"hola\""
      ],
      "metadata": {
        "id": "qwXsoiIfkUHg"
      },
      "execution_count": null,
      "outputs": []
    },
    {
      "cell_type": "markdown",
      "source": [
        "documentación\n"
      ],
      "metadata": {
        "id": "auFI2FQPfQss"
      }
    },
    {
      "cell_type": "markdown",
      "source": [
        "#**Inicio**"
      ],
      "metadata": {
        "id": "T3DOzeZyllQs"
      }
    },
    {
      "cell_type": "markdown",
      "source": [
        "## **Primer Subtema**"
      ],
      "metadata": {
        "id": "6BMYt9PGmkQI"
      }
    },
    {
      "cell_type": "markdown",
      "source": [
        "### **Primer Subtema - Indice A**"
      ],
      "metadata": {
        "id": "Xby7wjGdnCk4"
      }
    },
    {
      "cell_type": "markdown",
      "source": [
        "## **Segundo Subtema**"
      ],
      "metadata": {
        "id": "tRS9rn9JnfsY"
      }
    },
    {
      "cell_type": "markdown",
      "source": [
        "## **MARKDOWN**"
      ],
      "metadata": {
        "id": "-I6bNOTJYVVh"
      }
    },
    {
      "cell_type": "markdown",
      "source": [
        "## Tabla1\n",
        "\n",
        "| Nombre | Edad | Teléfono | ¿Cuál es la profesión del estudiante?|\n",
        "|:---:|---:|:---|-------|\n",
        "|David|26|3002120894|Ingeniero Industrial|\n",
        "\n",
        "\n",
        "\n",
        "```\n",
        "|:--:| Centrado\n",
        "|---:| Centrado derecha\n",
        "|:---| Centrado izquierda\n",
        "|----| Centrado izquierda\n",
        "```\n",
        "\n",
        "\n"
      ],
      "metadata": {
        "id": "pKHAvRjO_UtO"
      }
    },
    {
      "cell_type": "markdown",
      "source": [
        "## **Viñetas**\n",
        "\n",
        "* Prueba1\n",
        "  - Prueba2\n"
      ],
      "metadata": {
        "id": "NUFIfnj3a2JL"
      }
    },
    {
      "cell_type": "markdown",
      "source": [
        "## **Números**\n",
        "\n",
        "\n",
        "1. Prueba3\n",
        "  - Prueba4\n",
        "  * Prueba5\n",
        "\n",
        "* Prueba6"
      ],
      "metadata": {
        "id": "hPi_fpfpciTR"
      }
    },
    {
      "cell_type": "markdown",
      "source": [
        "## **Separación por línea**\n",
        "\n",
        "---\n",
        "\n",
        "* Prueba7\n",
        "  - Prueba8\n",
        "\n",
        "1. Prueba9\n",
        "2. Prueba10\n",
        "  * Prueba11\n",
        "\n",
        "  "
      ],
      "metadata": {
        "id": "yjZrW4N_dadp"
      }
    },
    {
      "cell_type": "markdown",
      "source": [
        "## **Código Unilínea**\n",
        "\n",
        "Estoy ejecutando el comando `hola` y genera el siguiente error:\n",
        "\n",
        "\n",
        "\n",
        "```\n",
        "# El hola se está escribiendo en forma de código. Cuando se quiera escribir código se usa la doble coma invertida \" ` \".\n",
        "```\n",
        "\n"
      ],
      "metadata": {
        "id": "lasTWtBNkaT5"
      }
    },
    {
      "cell_type": "markdown",
      "source": [
        "## **Código Multilínea**\n",
        "\n",
        "Se usa triple \" ` \".\n",
        "\n",
        "\n",
        "\n",
        "```\n",
        "Select *\n",
        "From resultados_clientes_personas.mcd\n",
        "where ingestion_year=2023\n",
        "and ingestion_month=8\n",
        "```\n",
        "\n"
      ],
      "metadata": {
        "id": "AOkfBbXSmQxR"
      }
    },
    {
      "cell_type": "markdown",
      "source": [
        "## **Declarar lenguaje de programación**\n",
        "\n",
        "\n",
        "\n",
        "```sql\n",
        "Select *\n",
        "From resultados_clientes_personas.mcd\n",
        "where ingestion_year=2023\n",
        "and ingestion_month=8\n",
        "```\n",
        "\n"
      ],
      "metadata": {
        "id": "oOKpt8wcr3MV"
      }
    },
    {
      "cell_type": "markdown",
      "source": [
        "## **Magic Commands**\n",
        "\n",
        "Siempre se reconocen por esta representación `%%`.\n",
        "\n",
        "\n",
        "\n"
      ],
      "metadata": {
        "id": "oa2C598gIC3Y"
      }
    },
    {
      "cell_type": "markdown",
      "source": [
        "## **Bash**"
      ],
      "metadata": {
        "id": "L_XDeYZ-JFYX"
      }
    },
    {
      "cell_type": "code",
      "source": [
        "%%bash\n",
        "cat /etc/*release*"
      ],
      "metadata": {
        "colab": {
          "base_uri": "https://localhost:8080/"
        },
        "id": "VktxKYzFJJ1n",
        "outputId": "a849bbbb-c021-4131-c481-4e672fb1513d"
      },
      "execution_count": null,
      "outputs": [
        {
          "output_type": "stream",
          "name": "stdout",
          "text": [
            "DISTRIB_ID=Ubuntu\n",
            "DISTRIB_RELEASE=22.04\n",
            "DISTRIB_CODENAME=jammy\n",
            "DISTRIB_DESCRIPTION=\"Ubuntu 22.04.2 LTS\"\n",
            "PRETTY_NAME=\"Ubuntu 22.04.2 LTS\"\n",
            "NAME=\"Ubuntu\"\n",
            "VERSION_ID=\"22.04\"\n",
            "VERSION=\"22.04.2 LTS (Jammy Jellyfish)\"\n",
            "VERSION_CODENAME=jammy\n",
            "ID=ubuntu\n",
            "ID_LIKE=debian\n",
            "HOME_URL=\"https://www.ubuntu.com/\"\n",
            "SUPPORT_URL=\"https://help.ubuntu.com/\"\n",
            "BUG_REPORT_URL=\"https://bugs.launchpad.net/ubuntu/\"\n",
            "PRIVACY_POLICY_URL=\"https://www.ubuntu.com/legal/terms-and-policies/privacy-policy\"\n",
            "UBUNTU_CODENAME=jammy\n"
          ]
        }
      ]
    },
    {
      "cell_type": "markdown",
      "source": [
        "##WRITE FILE\n"
      ],
      "metadata": {
        "id": "hiIveR2AK3R9"
      }
    },
    {
      "cell_type": "code",
      "source": [
        "%%writefile usuarios.csv\n",
        "id;genero\n",
        "1;F\n",
        "2;F\n",
        "3;M"
      ],
      "metadata": {
        "colab": {
          "base_uri": "https://localhost:8080/"
        },
        "id": "bUGeTNtKLPUA",
        "outputId": "8486580c-926d-4527-d44d-54073c84c406"
      },
      "execution_count": null,
      "outputs": [
        {
          "output_type": "stream",
          "name": "stdout",
          "text": [
            "Writing usuarios.csv\n"
          ]
        }
      ]
    },
    {
      "cell_type": "code",
      "source": [
        "%%bash\n",
        "ls -lrt"
      ],
      "metadata": {
        "colab": {
          "base_uri": "https://localhost:8080/"
        },
        "id": "BX8epw5oL2aq",
        "outputId": "990fcdf8-2120-418a-ad87-7bdc900688f8"
      },
      "execution_count": null,
      "outputs": [
        {
          "output_type": "stream",
          "name": "stdout",
          "text": [
            "total 12\n",
            "drwxr-xr-x 1 root root 4096 Aug 17 13:29 sample_data\n",
            "drwx------ 6 root root 4096 Aug 21 03:15 drive\n",
            "-rw-r--r-- 1 root root   22 Aug 21 03:41 usuarios.csv\n"
          ]
        }
      ]
    },
    {
      "cell_type": "code",
      "source": [
        "!ls -lrt"
      ],
      "metadata": {
        "colab": {
          "base_uri": "https://localhost:8080/"
        },
        "id": "cxTUPngyQTXz",
        "outputId": "cc204925-0b8a-4a22-f2f3-7d775e793dde"
      },
      "execution_count": null,
      "outputs": [
        {
          "output_type": "stream",
          "name": "stdout",
          "text": [
            "total 12\n",
            "drwxr-xr-x 1 root root 4096 Aug 17 13:29 sample_data\n",
            "drwx------ 6 root root 4096 Aug 21 03:15 drive\n",
            "-rw-r--r-- 1 root root   22 Aug 21 03:41 usuarios.csv\n"
          ]
        }
      ]
    },
    {
      "cell_type": "code",
      "source": [
        "print(\"hola mundo cruel!\")"
      ],
      "metadata": {
        "colab": {
          "base_uri": "https://localhost:8080/"
        },
        "id": "SxER47wgol-j",
        "outputId": "0185794d-f0a9-4adb-c438-c7fa8ade43cf"
      },
      "execution_count": null,
      "outputs": [
        {
          "output_type": "stream",
          "name": "stdout",
          "text": [
            "hola mundo cruel!\n"
          ]
        }
      ]
    },
    {
      "cell_type": "code",
      "source": [
        "# Comentario de una línea"
      ],
      "metadata": {
        "id": "qatofbvopHaE"
      },
      "execution_count": null,
      "outputs": []
    },
    {
      "cell_type": "code",
      "source": [
        "#\n",
        "# Comentario de varias líneas\n",
        "#"
      ],
      "metadata": {
        "id": "LBGxzXJgqoPU"
      },
      "execution_count": null,
      "outputs": []
    },
    {
      "cell_type": "code",
      "source": [
        "\"\"\"\n",
        "Comentario entre comillas dobles.\n",
        "\n",
        "Se usa para documentar modulos y funciones, o para comentar\n",
        "bloques de código.\n",
        "\n",
        "\"\"\"\n",
        "print(\"Hola mundo cruel!\")"
      ],
      "metadata": {
        "colab": {
          "base_uri": "https://localhost:8080/"
        },
        "id": "EaAr95Hxqu7W",
        "outputId": "2a9f47fc-0e0a-4616-e975-dc06b4c30652"
      },
      "execution_count": null,
      "outputs": [
        {
          "output_type": "stream",
          "name": "stdout",
          "text": [
            "Hola mundo cruel!\n"
          ]
        }
      ]
    },
    {
      "cell_type": "markdown",
      "source": [
        "## **CODETAGS**\n",
        "\n",
        "\n",
        "\n",
        "```Python\n",
        "#TODO:    código pendiente por completar\n",
        "#FIXME:   áreas problemáticas o código que necesita ser reesrito.\n",
        "#BUG:     Defecto reportado\n",
        "#RFE:     Request For Enhancement\n",
        "#???:     Pregunta\n",
        "#!!!:     Alerta\n",
        "#TODOC:   Necesita documentación\n",
        "```\n",
        "\n"
      ],
      "metadata": {
        "id": "CaSZIAQKsG6P"
      }
    },
    {
      "cell_type": "markdown",
      "source": [
        "## **Definición de variables**"
      ],
      "metadata": {
        "id": "I_TOeXQh5wYV"
      }
    },
    {
      "cell_type": "code",
      "source": [
        "var_1 = 12\n",
        "var_2 = 1.2\n",
        "var_3 = True\n",
        "var_4 = [1,2,3]\n",
        "var_5 = (1,2,3)\n",
        "var_6 = {1,2,3}\n",
        "var_7 = {'Nombre' : 'David'}\n",
        "var_8 = 'Ingeniero Industrial'"
      ],
      "metadata": {
        "id": "xBB9MMpftuwk"
      },
      "execution_count": null,
      "outputs": []
    },
    {
      "cell_type": "code",
      "source": [
        "print(type(var_8))\n",
        "print(type(var_5))"
      ],
      "metadata": {
        "colab": {
          "base_uri": "https://localhost:8080/"
        },
        "id": "fqzm4JmGvdcb",
        "outputId": "ce6458c1-7adc-4d71-cc02-03dd65e744ea"
      },
      "execution_count": null,
      "outputs": [
        {
          "output_type": "stream",
          "name": "stdout",
          "text": [
            "<class 'str'>\n",
            "<class 'tuple'>\n"
          ]
        }
      ]
    },
    {
      "cell_type": "code",
      "source": [
        "#\n",
        "#   +   Suma\n",
        "#   -   Resta\n",
        "#   *   Multiplicación\n",
        "#   /   Division\n",
        "#   //  Parte entera de la division\n",
        "#   %   Residuo de la división\n",
        "#   **  Potenciación\n",
        "#"
      ],
      "metadata": {
        "id": "T5QhytSfwFYt"
      },
      "execution_count": null,
      "outputs": []
    },
    {
      "cell_type": "code",
      "source": [
        "print (5/2)\n",
        "print (5//2)\n",
        "print (5%2)\n",
        "print (5**2)\n"
      ],
      "metadata": {
        "colab": {
          "base_uri": "https://localhost:8080/"
        },
        "id": "Aqac8EI1xPKK",
        "outputId": "1e19dcf4-20bd-4719-fba0-b27220967225"
      },
      "execution_count": null,
      "outputs": [
        {
          "output_type": "stream",
          "name": "stdout",
          "text": [
            "2.5\n",
            "2\n",
            "1\n",
            "25\n"
          ]
        },
        {
          "output_type": "execute_result",
          "data": {
            "text/plain": [
              "2"
            ]
          },
          "metadata": {},
          "execution_count": 93
        }
      ]
    },
    {
      "cell_type": "code",
      "source": [
        "\"\"\"Le estoy pidiendo a Python que me compare el residuo de la división con el 0. Le estoy preguntando si es lo mismo\"\"\"\n",
        "4%2 == 0"
      ],
      "metadata": {
        "colab": {
          "base_uri": "https://localhost:8080/"
        },
        "id": "3fqDDzpWyMix",
        "outputId": "79d53b6a-b7ed-40ce-8009-07afc3901904"
      },
      "execution_count": null,
      "outputs": [
        {
          "output_type": "execute_result",
          "data": {
            "text/plain": [
              "True"
            ]
          },
          "metadata": {},
          "execution_count": 22
        }
      ]
    },
    {
      "cell_type": "code",
      "source": [
        "# '=' Significa 'Asignación\"\n",
        "# '==' Significa 'Comparación'"
      ],
      "metadata": {
        "id": "UtNW8Ykqyp03"
      },
      "execution_count": null,
      "outputs": []
    },
    {
      "cell_type": "code",
      "source": [
        "# Transformación de datos (Casteo)\n",
        "int(3.1416)"
      ],
      "metadata": {
        "colab": {
          "base_uri": "https://localhost:8080/"
        },
        "id": "_lQVBAyuyFIQ",
        "outputId": "968f7fe3-b988-4c08-c308-9c8f6f825148"
      },
      "execution_count": null,
      "outputs": [
        {
          "output_type": "execute_result",
          "data": {
            "text/plain": [
              "3"
            ]
          },
          "metadata": {},
          "execution_count": 24
        }
      ]
    },
    {
      "cell_type": "code",
      "source": [
        "variable_casteada=int('3')"
      ],
      "metadata": {
        "id": "0SAK_R1S0WD1"
      },
      "execution_count": null,
      "outputs": []
    },
    {
      "cell_type": "code",
      "source": [
        "print(type(variable_casteada))"
      ],
      "metadata": {
        "colab": {
          "base_uri": "https://localhost:8080/"
        },
        "id": "C2Y0GBo-1UTA",
        "outputId": "3279bf0c-8ab7-4165-a89e-81b3adfcfda8"
      },
      "execution_count": null,
      "outputs": [
        {
          "output_type": "stream",
          "name": "stdout",
          "text": [
            "<class 'int'>\n"
          ]
        }
      ]
    },
    {
      "cell_type": "code",
      "source": [
        "variable_casteada2=str(1500000)\n",
        "print (variable_casteada2)"
      ],
      "metadata": {
        "colab": {
          "base_uri": "https://localhost:8080/"
        },
        "id": "zusYKiAL1a-2",
        "outputId": "d0749fe0-f384-42b9-ba23-6ad3e78d5fef"
      },
      "execution_count": null,
      "outputs": [
        {
          "output_type": "stream",
          "name": "stdout",
          "text": [
            "1500000\n"
          ]
        }
      ]
    },
    {
      "cell_type": "code",
      "source": [
        "variable_casteada2"
      ],
      "metadata": {
        "colab": {
          "base_uri": "https://localhost:8080/",
          "height": 35
        },
        "id": "VIJflwXu1suE",
        "outputId": "c55d89f3-f3c0-4c6a-bd2e-4efc2c51ce3a"
      },
      "execution_count": null,
      "outputs": [
        {
          "output_type": "execute_result",
          "data": {
            "text/plain": [
              "'1500000'"
            ],
            "application/vnd.google.colaboratory.intrinsic+json": {
              "type": "string"
            }
          },
          "metadata": {},
          "execution_count": 29
        }
      ]
    },
    {
      "cell_type": "code",
      "source": [
        "print(type(variable_casteada2))"
      ],
      "metadata": {
        "colab": {
          "base_uri": "https://localhost:8080/"
        },
        "id": "_AGX64HT12wS",
        "outputId": "42c443a5-d84f-438d-9843-055418724cf0"
      },
      "execution_count": null,
      "outputs": [
        {
          "output_type": "stream",
          "name": "stdout",
          "text": [
            "<class 'str'>\n"
          ]
        }
      ]
    },
    {
      "cell_type": "code",
      "source": [
        "type(variable_casteada2)"
      ],
      "metadata": {
        "colab": {
          "base_uri": "https://localhost:8080/"
        },
        "id": "BPaZQv-k1xMR",
        "outputId": "ce8cee66-7a49-4f1b-fba8-314b1e0a5afd"
      },
      "execution_count": null,
      "outputs": [
        {
          "output_type": "execute_result",
          "data": {
            "text/plain": [
              "str"
            ]
          },
          "metadata": {},
          "execution_count": 30
        }
      ]
    },
    {
      "cell_type": "code",
      "source": [
        "1+True+False"
      ],
      "metadata": {
        "colab": {
          "base_uri": "https://localhost:8080/"
        },
        "id": "DqXYD4242MS4",
        "outputId": "d04feb0b-0202-4617-afc0-866a46d09432"
      },
      "execution_count": null,
      "outputs": [
        {
          "output_type": "execute_result",
          "data": {
            "text/plain": [
              "2"
            ]
          },
          "metadata": {},
          "execution_count": 33
        }
      ]
    },
    {
      "cell_type": "code",
      "source": [
        "variable_casteada3=float(\"9.5\")"
      ],
      "metadata": {
        "id": "MUSq_8cc3RzO"
      },
      "execution_count": null,
      "outputs": []
    },
    {
      "cell_type": "code",
      "source": [
        "print(type(variable_casteada3))"
      ],
      "metadata": {
        "colab": {
          "base_uri": "https://localhost:8080/"
        },
        "id": "Y0YZTbbq4abU",
        "outputId": "5873a3ae-c77c-4e9f-ad47-1b3c0a62124e"
      },
      "execution_count": null,
      "outputs": [
        {
          "output_type": "stream",
          "name": "stdout",
          "text": [
            "<class 'float'>\n"
          ]
        }
      ]
    },
    {
      "cell_type": "code",
      "source": [
        "int(True)"
      ],
      "metadata": {
        "colab": {
          "base_uri": "https://localhost:8080/"
        },
        "id": "594bkjC1wXil",
        "outputId": "83c427c9-8d84-45f9-9913-6db7e2bf0888"
      },
      "execution_count": null,
      "outputs": [
        {
          "output_type": "execute_result",
          "data": {
            "text/plain": [
              "1"
            ]
          },
          "metadata": {},
          "execution_count": 43
        }
      ]
    },
    {
      "cell_type": "code",
      "source": [
        "variable_casteada4=int(True)\n",
        "print(variable_casteada4)"
      ],
      "metadata": {
        "colab": {
          "base_uri": "https://localhost:8080/"
        },
        "id": "P9hmbxnNyXq7",
        "outputId": "3941e5c7-ca50-4b44-e6e8-53ebffb0fcca"
      },
      "execution_count": null,
      "outputs": [
        {
          "output_type": "stream",
          "name": "stdout",
          "text": [
            "1\n"
          ]
        }
      ]
    },
    {
      "cell_type": "code",
      "source": [
        "bool(1)"
      ],
      "metadata": {
        "colab": {
          "base_uri": "https://localhost:8080/"
        },
        "id": "rEBffeHL0LTv",
        "outputId": "93282e80-1a44-4c21-fdb9-87d1c96a928a"
      },
      "execution_count": null,
      "outputs": [
        {
          "output_type": "execute_result",
          "data": {
            "text/plain": [
              "True"
            ]
          },
          "metadata": {},
          "execution_count": 53
        }
      ]
    },
    {
      "cell_type": "code",
      "source": [
        "variable_casteada5= bool(\"\")\n",
        "print(type(variable_casteada5))\n",
        "variable_casteada5"
      ],
      "metadata": {
        "colab": {
          "base_uri": "https://localhost:8080/"
        },
        "id": "hgViyVut2wG-",
        "outputId": "1233b3d7-77d8-4020-84c9-0db657577ffd"
      },
      "execution_count": null,
      "outputs": [
        {
          "output_type": "stream",
          "name": "stdout",
          "text": [
            "<class 'bool'>\n"
          ]
        },
        {
          "output_type": "execute_result",
          "data": {
            "text/plain": [
              "False"
            ]
          },
          "metadata": {},
          "execution_count": 64
        }
      ]
    },
    {
      "cell_type": "code",
      "source": [
        "edad:int=12"
      ],
      "metadata": {
        "id": "31PosxUQ3w1F"
      },
      "execution_count": null,
      "outputs": []
    },
    {
      "cell_type": "code",
      "source": [
        "edad:int='David'"
      ],
      "metadata": {
        "id": "XkMGZxnv4jzs"
      },
      "execution_count": null,
      "outputs": []
    },
    {
      "cell_type": "code",
      "source": [
        "string = \"aaa\"\n",
        "string + string"
      ],
      "metadata": {
        "colab": {
          "base_uri": "https://localhost:8080/",
          "height": 35
        },
        "id": "46XJT6RD26CC",
        "outputId": "619fccbf-3477-4e20-9a99-41c6729157f4"
      },
      "execution_count": null,
      "outputs": [
        {
          "output_type": "execute_result",
          "data": {
            "text/plain": [
              "'aaaaaa'"
            ],
            "application/vnd.google.colaboratory.intrinsic+json": {
              "type": "string"
            }
          },
          "metadata": {},
          "execution_count": 2
        }
      ]
    },
    {
      "cell_type": "code",
      "source": [
        "x=y=z=1"
      ],
      "metadata": {
        "id": "jQjNHT_56OSQ"
      },
      "execution_count": null,
      "outputs": []
    },
    {
      "cell_type": "code",
      "source": [
        "d = None"
      ],
      "metadata": {
        "id": "krmJIBI26upI"
      },
      "execution_count": null,
      "outputs": []
    },
    {
      "cell_type": "code",
      "source": [
        "d is None"
      ],
      "metadata": {
        "colab": {
          "base_uri": "https://localhost:8080/"
        },
        "id": "yEwr9KTE6_KX",
        "outputId": "6976c1b1-5699-432f-d0c1-a871933b5d77"
      },
      "execution_count": null,
      "outputs": [
        {
          "output_type": "execute_result",
          "data": {
            "text/plain": [
              "True"
            ]
          },
          "metadata": {},
          "execution_count": 78
        }
      ]
    },
    {
      "cell_type": "code",
      "source": [
        "x, y, z = 1, 2, 3\n",
        "print(type(x))"
      ],
      "metadata": {
        "colab": {
          "base_uri": "https://localhost:8080/"
        },
        "id": "lNrOehUO7KtU",
        "outputId": "c1c3e683-5634-4caa-c223-ef83621b61c1"
      },
      "execution_count": null,
      "outputs": [
        {
          "output_type": "stream",
          "name": "stdout",
          "text": [
            "<class 'int'>\n"
          ]
        }
      ]
    },
    {
      "cell_type": "code",
      "source": [
        "nombre:str = 'David Zuleta Morales'\n",
        "print(nombre.upper())\n",
        "print(nombre.lower())"
      ],
      "metadata": {
        "colab": {
          "base_uri": "https://localhost:8080/"
        },
        "id": "AAooa4Rs8Z9t",
        "outputId": "6436a571-5ceb-41fc-f43b-46545ba8d404"
      },
      "execution_count": null,
      "outputs": [
        {
          "output_type": "stream",
          "name": "stdout",
          "text": [
            "DAVID ZULETA MORALES\n",
            "david zuleta morales\n"
          ]
        }
      ]
    },
    {
      "cell_type": "code",
      "source": [
        "help(str.split)"
      ],
      "metadata": {
        "colab": {
          "base_uri": "https://localhost:8080/"
        },
        "id": "42iWMVpU9Lvz",
        "outputId": "cc20d8b0-43a2-4f79-f9c7-e98c0bb8cd5c"
      },
      "execution_count": null,
      "outputs": [
        {
          "output_type": "stream",
          "name": "stdout",
          "text": [
            "Help on method_descriptor:\n",
            "\n",
            "split(self, /, sep=None, maxsplit=-1)\n",
            "    Return a list of the substrings in the string, using sep as the separator string.\n",
            "    \n",
            "      sep\n",
            "        The separator used to split the string.\n",
            "    \n",
            "        When set to None (the default value), will split on any whitespace\n",
            "        character (including \\\\n \\\\r \\\\t \\\\f and spaces) and will discard\n",
            "        empty strings from the result.\n",
            "      maxsplit\n",
            "        Maximum number of splits (starting from the left).\n",
            "        -1 (the default value) means no limit.\n",
            "    \n",
            "    Note, str.split() is mainly useful for data that has been intentionally\n",
            "    delimited.  With natural text that includes punctuation, consider using\n",
            "    the regular expression module.\n",
            "\n"
          ]
        }
      ]
    },
    {
      "cell_type": "code",
      "source": [
        "print('--\"--')"
      ],
      "metadata": {
        "colab": {
          "base_uri": "https://localhost:8080/"
        },
        "id": "LfPjCVmP-xEz",
        "outputId": "0c24cc93-415b-4ff9-bf06-911ab0be6000"
      },
      "execution_count": null,
      "outputs": [
        {
          "output_type": "stream",
          "name": "stdout",
          "text": [
            "--\"--\n"
          ]
        }
      ]
    },
    {
      "cell_type": "code",
      "source": [
        "print(\"--'--'\")"
      ],
      "metadata": {
        "colab": {
          "base_uri": "https://localhost:8080/"
        },
        "id": "CoFchofgI6LE",
        "outputId": "41a57871-87ca-49c7-9918-1d26240fb26b"
      },
      "execution_count": null,
      "outputs": [
        {
          "output_type": "stream",
          "name": "stdout",
          "text": [
            "--'--'\n"
          ]
        }
      ]
    },
    {
      "cell_type": "code",
      "source": [
        "variable_texto = \"\"\"\n",
        "tel_est:str = '3002120894'\n",
        "print(tel_est)\n",
        "\"\"\"\n",
        "print(variable_texto)"
      ],
      "metadata": {
        "colab": {
          "base_uri": "https://localhost:8080/"
        },
        "id": "nJLQrpFXKAku",
        "outputId": "e7b6866b-2c95-46ba-a32b-d638b4339d0c"
      },
      "execution_count": null,
      "outputs": [
        {
          "output_type": "stream",
          "name": "stdout",
          "text": [
            "\n",
            "tel_est:str = '3002120894'\n",
            "print(tel_est)\n",
            "\n"
          ]
        }
      ]
    },
    {
      "cell_type": "code",
      "source": [
        "tel_est:str = '3002120894'\n",
        "print(tel_est)"
      ],
      "metadata": {
        "colab": {
          "base_uri": "https://localhost:8080/"
        },
        "id": "8kBA0fOLLNHs",
        "outputId": "ae8c8ed9-1a28-474b-844e-bacffb59e978"
      },
      "execution_count": null,
      "outputs": [
        {
          "output_type": "stream",
          "name": "stdout",
          "text": [
            "3002120894\n"
          ]
        }
      ]
    },
    {
      "cell_type": "markdown",
      "source": [
        "## **Operadores de Asignación**"
      ],
      "metadata": {
        "id": "icAOuKCRMZSC"
      }
    },
    {
      "cell_type": "code",
      "source": [
        "contador:int=0\n",
        "contador=contador+1\n",
        "print(contador)"
      ],
      "metadata": {
        "colab": {
          "base_uri": "https://localhost:8080/"
        },
        "id": "0eoUpz0HMggh",
        "outputId": "11f8e0eb-756c-4638-fb73-006e8ef99b3b"
      },
      "execution_count": null,
      "outputs": [
        {
          "output_type": "stream",
          "name": "stdout",
          "text": [
            "1\n"
          ]
        }
      ]
    },
    {
      "cell_type": "markdown",
      "source": [
        "## Usando acumuladores"
      ],
      "metadata": {
        "id": "-9cO-sYwNcKq"
      }
    },
    {
      "cell_type": "code",
      "source": [
        "contador:int=0\n",
        "contador+=1\n",
        "print(contador)"
      ],
      "metadata": {
        "colab": {
          "base_uri": "https://localhost:8080/"
        },
        "id": "FxwhVr6_NPWf",
        "outputId": "04dfe045-2b1c-4942-f09d-e3e15d631c8c"
      },
      "execution_count": null,
      "outputs": [
        {
          "output_type": "stream",
          "name": "stdout",
          "text": [
            "1\n"
          ]
        }
      ]
    },
    {
      "cell_type": "code",
      "source": [
        "'hola' != 'chao'"
      ],
      "metadata": {
        "colab": {
          "base_uri": "https://localhost:8080/"
        },
        "id": "5xK9jTjuOPY-",
        "outputId": "4929547b-e583-4f60-f50a-7d1f7df10b22"
      },
      "execution_count": null,
      "outputs": [
        {
          "output_type": "execute_result",
          "data": {
            "text/plain": [
              "True"
            ]
          },
          "metadata": {},
          "execution_count": 13
        }
      ]
    },
    {
      "cell_type": "code",
      "source": [
        "'hola'=='Hola'"
      ],
      "metadata": {
        "colab": {
          "base_uri": "https://localhost:8080/"
        },
        "id": "kGqFe0xaOa2q",
        "outputId": "5964cdb8-b42b-4a3d-eb42-1989fd5de6bb"
      },
      "execution_count": null,
      "outputs": [
        {
          "output_type": "execute_result",
          "data": {
            "text/plain": [
              "False"
            ]
          },
          "metadata": {},
          "execution_count": 15
        }
      ]
    },
    {
      "cell_type": "code",
      "source": [
        "variable_hola='hola'\n",
        "variable_hola_corregida=print(variable_hola.upper())"
      ],
      "metadata": {
        "colab": {
          "base_uri": "https://localhost:8080/"
        },
        "id": "2z6Nm4wFOnJA",
        "outputId": "ded967c9-31a3-4c66-eec4-4e96d26d238b"
      },
      "execution_count": null,
      "outputs": [
        {
          "output_type": "stream",
          "name": "stdout",
          "text": [
            "HOLA\n"
          ]
        }
      ]
    },
    {
      "cell_type": "code",
      "source": [
        "variable_hola='hola'\n",
        "variable_Hola='Hola'\n",
        "print(variable_hola.upper())==print(variable_Hola.upper())"
      ],
      "metadata": {
        "colab": {
          "base_uri": "https://localhost:8080/"
        },
        "id": "Y_KcPJf1O-mS",
        "outputId": "1c33de6f-a8dc-4613-8af4-7f3caa667ff2"
      },
      "execution_count": null,
      "outputs": [
        {
          "output_type": "stream",
          "name": "stdout",
          "text": [
            "HOLA\n",
            "HOLA\n"
          ]
        },
        {
          "output_type": "execute_result",
          "data": {
            "text/plain": [
              "True"
            ]
          },
          "metadata": {},
          "execution_count": 17
        }
      ]
    },
    {
      "cell_type": "code",
      "source": [
        "'hola'=='Hola'.lower()"
      ],
      "metadata": {
        "colab": {
          "base_uri": "https://localhost:8080/"
        },
        "id": "0l7eBY81PigD",
        "outputId": "a78e3884-0703-4081-b203-51afa6338424"
      },
      "execution_count": null,
      "outputs": [
        {
          "output_type": "execute_result",
          "data": {
            "text/plain": [
              "True"
            ]
          },
          "metadata": {},
          "execution_count": 21
        }
      ]
    },
    {
      "cell_type": "code",
      "source": [
        "'hola'.title()=='Hola'"
      ],
      "metadata": {
        "colab": {
          "base_uri": "https://localhost:8080/"
        },
        "id": "vacSw4EIP8LV",
        "outputId": "e5d5efa5-8c7b-424a-b99b-7f587b664f13"
      },
      "execution_count": null,
      "outputs": [
        {
          "output_type": "execute_result",
          "data": {
            "text/plain": [
              "True"
            ]
          },
          "metadata": {},
          "execution_count": 22
        }
      ]
    },
    {
      "cell_type": "markdown",
      "source": [
        "## **Conectores Lógicos  AND, OR, NOT**"
      ],
      "metadata": {
        "id": "GqdIj8lkUmsW"
      }
    },
    {
      "cell_type": "code",
      "source": [
        "edad = 17\n",
        "genero = \"F\"\n",
        "\n",
        "edad > 18 and genero == \"F\""
      ],
      "metadata": {
        "id": "ckYxRrgEHB4X",
        "colab": {
          "base_uri": "https://localhost:8080/"
        },
        "outputId": "7874a49a-f710-4ffe-aa3f-f5cc9f8bd3cc"
      },
      "execution_count": null,
      "outputs": [
        {
          "output_type": "execute_result",
          "data": {
            "text/plain": [
              "False"
            ]
          },
          "metadata": {},
          "execution_count": 1
        }
      ]
    },
    {
      "cell_type": "code",
      "source": [
        "not True"
      ],
      "metadata": {
        "colab": {
          "base_uri": "https://localhost:8080/"
        },
        "id": "2BnocH3sTU_5",
        "outputId": "10e3e555-b86d-48ba-f7b4-ad620bbdce08"
      },
      "execution_count": null,
      "outputs": [
        {
          "output_type": "execute_result",
          "data": {
            "text/plain": [
              "False"
            ]
          },
          "metadata": {},
          "execution_count": 2
        }
      ]
    },
    {
      "cell_type": "code",
      "source": [
        "not 1 > 2"
      ],
      "metadata": {
        "colab": {
          "base_uri": "https://localhost:8080/"
        },
        "id": "G-gs0CO7TYXo",
        "outputId": "d87fe983-a13c-4151-8e27-fe680e9bc8ba"
      },
      "execution_count": null,
      "outputs": [
        {
          "output_type": "execute_result",
          "data": {
            "text/plain": [
              "True"
            ]
          },
          "metadata": {},
          "execution_count": 4
        }
      ]
    },
    {
      "cell_type": "code",
      "source": [
        "edad < 18 or genero == \"M\""
      ],
      "metadata": {
        "colab": {
          "base_uri": "https://localhost:8080/"
        },
        "id": "gBkQ99I0Toie",
        "outputId": "ceadf7b4-ce18-4425-cdfd-d9774ef0141e"
      },
      "execution_count": null,
      "outputs": [
        {
          "output_type": "execute_result",
          "data": {
            "text/plain": [
              "True"
            ]
          },
          "metadata": {},
          "execution_count": 5
        }
      ]
    },
    {
      "cell_type": "code",
      "source": [
        "not edad > 18"
      ],
      "metadata": {
        "colab": {
          "base_uri": "https://localhost:8080/"
        },
        "id": "M5gcbtoMT1QX",
        "outputId": "aa99bc04-a865-45c8-efcf-cac3ffadb2bf"
      },
      "execution_count": null,
      "outputs": [
        {
          "output_type": "execute_result",
          "data": {
            "text/plain": [
              "True"
            ]
          },
          "metadata": {},
          "execution_count": 6
        }
      ]
    },
    {
      "cell_type": "code",
      "source": [],
      "metadata": {
        "id": "H6JBZzb34tcg"
      },
      "execution_count": null,
      "outputs": []
    },
    {
      "cell_type": "markdown",
      "source": [
        "##**Operadores de Identidad**"
      ],
      "metadata": {
        "id": "aK96wbFUUAJQ"
      }
    },
    {
      "cell_type": "code",
      "source": [
        "1 is None"
      ],
      "metadata": {
        "colab": {
          "base_uri": "https://localhost:8080/"
        },
        "id": "qSp-1negfg8A",
        "outputId": "b154654a-8599-457e-abb0-6c9ba837e992"
      },
      "execution_count": null,
      "outputs": [
        {
          "output_type": "stream",
          "name": "stderr",
          "text": [
            "<>:1: SyntaxWarning: \"is\" with a literal. Did you mean \"==\"?\n",
            "<>:1: SyntaxWarning: \"is\" with a literal. Did you mean \"==\"?\n",
            "<ipython-input-10-19c75b636850>:1: SyntaxWarning: \"is\" with a literal. Did you mean \"==\"?\n",
            "  \"1\" is None\n"
          ]
        },
        {
          "output_type": "execute_result",
          "data": {
            "text/plain": [
              "False"
            ]
          },
          "metadata": {},
          "execution_count": 10
        }
      ]
    },
    {
      "cell_type": "code",
      "source": [
        "None is None"
      ],
      "metadata": {
        "colab": {
          "base_uri": "https://localhost:8080/"
        },
        "id": "yoLrrR5Nfwte",
        "outputId": "8da0a9fa-5338-4dd7-d65f-9f6b429be530"
      },
      "execution_count": null,
      "outputs": [
        {
          "output_type": "execute_result",
          "data": {
            "text/plain": [
              "True"
            ]
          },
          "metadata": {},
          "execution_count": 9
        }
      ]
    },
    {
      "cell_type": "code",
      "source": [
        "\"mundo\" in \"Hola mundo cruel!\""
      ],
      "metadata": {
        "colab": {
          "base_uri": "https://localhost:8080/"
        },
        "id": "FxcID4gZgASn",
        "outputId": "e3098c32-39d4-40de-a83c-9ce6f72f8b21"
      },
      "execution_count": null,
      "outputs": [
        {
          "output_type": "execute_result",
          "data": {
            "text/plain": [
              "True"
            ]
          },
          "metadata": {},
          "execution_count": 11
        }
      ]
    },
    {
      "cell_type": "code",
      "source": [
        "\"Mundo\" not in \"Hola mundo cruel!\""
      ],
      "metadata": {
        "colab": {
          "base_uri": "https://localhost:8080/"
        },
        "id": "1Kd2b74w2N_t",
        "outputId": "632574f8-7319-4ff3-ef30-78a480dcb94b"
      },
      "execution_count": null,
      "outputs": [
        {
          "output_type": "execute_result",
          "data": {
            "text/plain": [
              "True"
            ]
          },
          "metadata": {},
          "execution_count": 12
        }
      ]
    },
    {
      "cell_type": "code",
      "source": [
        "1 in [2,3,4]"
      ],
      "metadata": {
        "colab": {
          "base_uri": "https://localhost:8080/"
        },
        "id": "yAu1otm_3bbY",
        "outputId": "480cbaae-4431-4812-98f5-94cc8d29cbd4"
      },
      "execution_count": null,
      "outputs": [
        {
          "output_type": "execute_result",
          "data": {
            "text/plain": [
              "False"
            ]
          },
          "metadata": {},
          "execution_count": 16
        }
      ]
    },
    {
      "cell_type": "code",
      "source": [
        "1 in (1,2,3,4)"
      ],
      "metadata": {
        "colab": {
          "base_uri": "https://localhost:8080/"
        },
        "id": "ODa8YckG3iqn",
        "outputId": "0df5f209-ba3e-4d59-818e-ef61f885a17a"
      },
      "execution_count": null,
      "outputs": [
        {
          "output_type": "execute_result",
          "data": {
            "text/plain": [
              "True"
            ]
          },
          "metadata": {},
          "execution_count": 14
        }
      ]
    },
    {
      "cell_type": "code",
      "source": [
        "'Nombre' in {\"Nombre\": \"David\", \"Edad\":27 }"
      ],
      "metadata": {
        "colab": {
          "base_uri": "https://localhost:8080/"
        },
        "id": "N9h1YzST35b_",
        "outputId": "94e66dc7-acef-46e1-9257-648c5f3f6b8a"
      },
      "execution_count": null,
      "outputs": [
        {
          "output_type": "execute_result",
          "data": {
            "text/plain": [
              "True"
            ]
          },
          "metadata": {},
          "execution_count": 20
        }
      ]
    },
    {
      "cell_type": "code",
      "source": [
        "var = 0\n",
        "var == None"
      ],
      "metadata": {
        "colab": {
          "base_uri": "https://localhost:8080/"
        },
        "id": "3c4zCE4d4vSG",
        "outputId": "b520992a-598c-46b8-9542-b5f694806ab8"
      },
      "execution_count": null,
      "outputs": [
        {
          "output_type": "execute_result",
          "data": {
            "text/plain": [
              "False"
            ]
          },
          "metadata": {},
          "execution_count": 2
        }
      ]
    },
    {
      "cell_type": "markdown",
      "source": [
        "##**Strings - Métodos Disponibles**"
      ],
      "metadata": {
        "id": "WeC9Ebdi6EzK"
      }
    },
    {
      "cell_type": "code",
      "source": [
        "\"hola mundo\".capitalize()"
      ],
      "metadata": {
        "colab": {
          "base_uri": "https://localhost:8080/",
          "height": 35
        },
        "id": "w6RLxE9k5h8w",
        "outputId": "83248b74-495e-4e7d-dab6-2e9747be92df"
      },
      "execution_count": null,
      "outputs": [
        {
          "output_type": "execute_result",
          "data": {
            "text/plain": [
              "'Hola mundo'"
            ],
            "application/vnd.google.colaboratory.intrinsic+json": {
              "type": "string"
            }
          },
          "metadata": {},
          "execution_count": 21
        }
      ]
    },
    {
      "cell_type": "code",
      "source": [
        "\"cien años de soledad\".title()"
      ],
      "metadata": {
        "colab": {
          "base_uri": "https://localhost:8080/",
          "height": 35
        },
        "id": "c1lZkcQZ50Ng",
        "outputId": "99a2d1d6-b5e6-49a1-cbcc-f4133b3b0b62"
      },
      "execution_count": null,
      "outputs": [
        {
          "output_type": "execute_result",
          "data": {
            "text/plain": [
              "'Cien Años De Soledad'"
            ],
            "application/vnd.google.colaboratory.intrinsic+json": {
              "type": "string"
            }
          },
          "metadata": {},
          "execution_count": 22
        }
      ]
    },
    {
      "cell_type": "code",
      "source": [
        "\"Curso Python\".center(30, \"*\")"
      ],
      "metadata": {
        "colab": {
          "base_uri": "https://localhost:8080/",
          "height": 35
        },
        "id": "1OtqqRUG6PRv",
        "outputId": "1bb50800-65f9-47dd-9e64-be59851161e6"
      },
      "execution_count": null,
      "outputs": [
        {
          "output_type": "execute_result",
          "data": {
            "text/plain": [
              "'*********Curso Python*********'"
            ],
            "application/vnd.google.colaboratory.intrinsic+json": {
              "type": "string"
            }
          },
          "metadata": {},
          "execution_count": 27
        }
      ]
    },
    {
      "cell_type": "code",
      "source": [
        "\"abcdbcabcdefabcdelg\".count(\"abc\")"
      ],
      "metadata": {
        "colab": {
          "base_uri": "https://localhost:8080/"
        },
        "id": "djugFpsI60OA",
        "outputId": "b6bcb00b-e3da-442e-9f76-68a86785c6a0"
      },
      "execution_count": null,
      "outputs": [
        {
          "output_type": "execute_result",
          "data": {
            "text/plain": [
              "3"
            ]
          },
          "metadata": {},
          "execution_count": 28
        }
      ]
    },
    {
      "cell_type": "code",
      "source": [
        "\"1,2,3,4,5\".partition(\"3\")"
      ],
      "metadata": {
        "colab": {
          "base_uri": "https://localhost:8080/"
        },
        "id": "IIQICSOY7Fqu",
        "outputId": "f619982b-a864-46b1-f07d-49b40fdd9833"
      },
      "execution_count": null,
      "outputs": [
        {
          "output_type": "execute_result",
          "data": {
            "text/plain": [
              "('1,2,', '3', ',4,5')"
            ]
          },
          "metadata": {},
          "execution_count": 30
        }
      ]
    },
    {
      "cell_type": "code",
      "source": [
        "\"1,2,3,4,5\".split(\",\")"
      ],
      "metadata": {
        "colab": {
          "base_uri": "https://localhost:8080/"
        },
        "id": "ippGhIcq7gpk",
        "outputId": "b0964d3c-9da4-4c8e-cf1c-5d18a393a605"
      },
      "execution_count": null,
      "outputs": [
        {
          "output_type": "execute_result",
          "data": {
            "text/plain": [
              "['1', '2', '3', '4', '5']"
            ]
          },
          "metadata": {},
          "execution_count": 31
        }
      ]
    },
    {
      "cell_type": "code",
      "source": [
        "nombre:str=\"David|Zuleta|Morales\"\n",
        "nombre.split(\"|\")"
      ],
      "metadata": {
        "colab": {
          "base_uri": "https://localhost:8080/"
        },
        "id": "TvxDxbQV7v8p",
        "outputId": "f0152246-6fd7-4ac5-9ec2-cd3ea717c025"
      },
      "execution_count": null,
      "outputs": [
        {
          "output_type": "execute_result",
          "data": {
            "text/plain": [
              "['David', 'Zuleta', 'Morales']"
            ]
          },
          "metadata": {},
          "execution_count": 34
        }
      ]
    },
    {
      "cell_type": "code",
      "source": [
        "#Enter = \\n - salto de línea\n",
        "#Tabulación = \\t\n",
        "archivo_de_texto = \"\"\"id;genero\n",
        "1;F\n",
        "2;F\n",
        "3;M\"\"\"\n",
        "\n",
        "print(archivo_de_texto.split(\"\\n\"))"
      ],
      "metadata": {
        "colab": {
          "base_uri": "https://localhost:8080/"
        },
        "id": "nTs1QU398ol2",
        "outputId": "2fe2cc9b-129e-46ea-bb1d-7fc56d4aeeab"
      },
      "execution_count": null,
      "outputs": [
        {
          "output_type": "stream",
          "name": "stdout",
          "text": [
            "['id;genero', '1;F', '2;F', '3;M']\n"
          ]
        }
      ]
    },
    {
      "cell_type": "code",
      "source": [
        "#Un Split dentro de otro split\n",
        "archivo_de_texto1 = \"\"\"id;genero\n",
        "1;F\n",
        "2;F\n",
        "3;M\"\"\"\n",
        "resultado_split=archivo_de_texto1.split(\"\\n\")\n",
        "print(resultado_split)"
      ],
      "metadata": {
        "colab": {
          "base_uri": "https://localhost:8080/"
        },
        "id": "znhgNgN_-h6z",
        "outputId": "da1b6cea-22c0-4ee1-ad4e-aaf49a2e318e"
      },
      "execution_count": null,
      "outputs": [
        {
          "output_type": "stream",
          "name": "stdout",
          "text": [
            "['id;genero', '1;F', '2;F', '3;M']\n"
          ]
        }
      ]
    },
    {
      "cell_type": "code",
      "source": [
        "print(resultado_split[0].split(\";\"))"
      ],
      "metadata": {
        "colab": {
          "base_uri": "https://localhost:8080/"
        },
        "id": "y7lk41gt_c85",
        "outputId": "e5ac1529-1251-4597-9702-9f2b13a47c86"
      },
      "execution_count": null,
      "outputs": [
        {
          "output_type": "stream",
          "name": "stdout",
          "text": [
            "['id', 'genero']\n"
          ]
        }
      ]
    },
    {
      "cell_type": "code",
      "source": [
        "display(\n",
        "    \"1,2,3,4,5\".rsplit(\",\"),\n",
        "    \"1,2,3,4,5\".rsplit(\",\",maxsplit=2)\n",
        ")"
      ],
      "metadata": {
        "colab": {
          "base_uri": "https://localhost:8080/",
          "height": 52
        },
        "id": "h6r41_gP_22z",
        "outputId": "c9b08d3a-0d3c-4bf0-af78-3347debe122e"
      },
      "execution_count": null,
      "outputs": [
        {
          "output_type": "display_data",
          "data": {
            "text/plain": [
              "['1', '2', '3', '4', '5']"
            ]
          },
          "metadata": {}
        },
        {
          "output_type": "display_data",
          "data": {
            "text/plain": [
              "['1,2,3', '4', '5']"
            ]
          },
          "metadata": {}
        }
      ]
    },
    {
      "cell_type": "code",
      "source": [
        "print(\"hola\\nmundo\\ncruel\")"
      ],
      "metadata": {
        "colab": {
          "base_uri": "https://localhost:8080/"
        },
        "id": "n0i44CwqBjNz",
        "outputId": "33f641de-895b-4bf1-e104-c07b320fc6af"
      },
      "execution_count": null,
      "outputs": [
        {
          "output_type": "stream",
          "name": "stdout",
          "text": [
            "hola\n",
            "mundo\n",
            "cruel\n"
          ]
        }
      ]
    },
    {
      "cell_type": "code",
      "source": [
        "print(\"hola\\tmundo\\tcruel\")"
      ],
      "metadata": {
        "colab": {
          "base_uri": "https://localhost:8080/"
        },
        "id": "ltx_L5CgFk94",
        "outputId": "70924a9c-838c-4f86-f3a2-76b6a74a7fae"
      },
      "execution_count": null,
      "outputs": [
        {
          "output_type": "stream",
          "name": "stdout",
          "text": [
            "hola\tmundo\tcruel\n"
          ]
        }
      ]
    },
    {
      "cell_type": "code",
      "source": [
        "'abc123'.isalnum()"
      ],
      "metadata": {
        "colab": {
          "base_uri": "https://localhost:8080/"
        },
        "id": "_GqoCnRmGbg8",
        "outputId": "f9deae34-4b5b-44ae-e27d-a0313fa758fe"
      },
      "execution_count": null,
      "outputs": [
        {
          "output_type": "execute_result",
          "data": {
            "text/plain": [
              "True"
            ]
          },
          "metadata": {},
          "execution_count": 47
        }
      ]
    },
    {
      "cell_type": "code",
      "source": [
        "\"1234\".isdigit()"
      ],
      "metadata": {
        "colab": {
          "base_uri": "https://localhost:8080/"
        },
        "id": "JFCsfmx8Hs92",
        "outputId": "c2080673-e461-4212-b0e9-0e852ab7d4ac"
      },
      "execution_count": null,
      "outputs": [
        {
          "output_type": "execute_result",
          "data": {
            "text/plain": [
              "True"
            ]
          },
          "metadata": {},
          "execution_count": 48
        }
      ]
    },
    {
      "cell_type": "code",
      "source": [
        "\"12\".zfill(5)"
      ],
      "metadata": {
        "colab": {
          "base_uri": "https://localhost:8080/",
          "height": 35
        },
        "id": "MYhM-K2CH3wS",
        "outputId": "a70ed395-ac24-4c6b-8c75-7190220fa143"
      },
      "execution_count": null,
      "outputs": [
        {
          "output_type": "execute_result",
          "data": {
            "text/plain": [
              "'00012'"
            ],
            "application/vnd.google.colaboratory.intrinsic+json": {
              "type": "string"
            }
          },
          "metadata": {},
          "execution_count": 50
        }
      ]
    },
    {
      "cell_type": "code",
      "source": [
        "tipo_doc= \"CC\" #Límite 5\n",
        "num_doc=\"1234\" #Límite 15\n",
        "id=1500 #Límite 10"
      ],
      "metadata": {
        "id": "ZR6bRVFeIdE7"
      },
      "execution_count": null,
      "outputs": []
    },
    {
      "cell_type": "code",
      "source": [
        "tipo_doc.zfill(5)"
      ],
      "metadata": {
        "colab": {
          "base_uri": "https://localhost:8080/",
          "height": 35
        },
        "id": "87Yu44UaI3aS",
        "outputId": "8a9bb4e2-4049-49db-974d-033e44e06500"
      },
      "execution_count": null,
      "outputs": [
        {
          "output_type": "execute_result",
          "data": {
            "text/plain": [
              "'000CC'"
            ],
            "application/vnd.google.colaboratory.intrinsic+json": {
              "type": "string"
            }
          },
          "metadata": {},
          "execution_count": 52
        }
      ]
    },
    {
      "cell_type": "code",
      "source": [
        "num_doc.zfill(15)"
      ],
      "metadata": {
        "colab": {
          "base_uri": "https://localhost:8080/",
          "height": 35
        },
        "id": "rrF_R0VZI9Xi",
        "outputId": "42f1a0fc-cba6-4779-e682-0c1465384f45"
      },
      "execution_count": null,
      "outputs": [
        {
          "output_type": "execute_result",
          "data": {
            "text/plain": [
              "'000000000001234'"
            ],
            "application/vnd.google.colaboratory.intrinsic+json": {
              "type": "string"
            }
          },
          "metadata": {},
          "execution_count": 53
        }
      ]
    },
    {
      "cell_type": "code",
      "source": [
        "id.zfill(10)"
      ],
      "metadata": {
        "colab": {
          "base_uri": "https://localhost:8080/",
          "height": 35
        },
        "id": "7nhWLwRTJDDA",
        "outputId": "76864fac-f867-4d61-f1d6-34d509326d02"
      },
      "execution_count": null,
      "outputs": [
        {
          "output_type": "execute_result",
          "data": {
            "text/plain": [
              "'0000001500'"
            ],
            "application/vnd.google.colaboratory.intrinsic+json": {
              "type": "string"
            }
          },
          "metadata": {},
          "execution_count": 57
        }
      ]
    },
    {
      "cell_type": "code",
      "source": [
        "concat=tipo_doc.zfill(5)+num_doc.zfill(15)+str(id).zfill(10)\n",
        "print(concat)"
      ],
      "metadata": {
        "colab": {
          "base_uri": "https://localhost:8080/"
        },
        "id": "UhMABe7RJh2y",
        "outputId": "fc545917-ed3a-42a3-8432-22b68b446731"
      },
      "execution_count": null,
      "outputs": [
        {
          "output_type": "stream",
          "name": "stdout",
          "text": [
            "000CC0000000000012340000001500\n"
          ]
        }
      ]
    },
    {
      "cell_type": "markdown",
      "source": [
        "## **Strings - Slicing**"
      ],
      "metadata": {
        "id": "Wo8my6udKo9S"
      }
    },
    {
      "cell_type": "code",
      "source": [
        "Palabra:str = \"Python\"\n",
        "print(Palabra[::2]) #Toma desde el primer elemento y va tomando de 2 en 2 (Salteo)\n",
        "print(Palabra[0:2]) #Toma el rango de elementos desde el primero hasta el 3ro\n",
        "print(Palabra[-1]) #Toma el último elemento del rango\n",
        "print(Palabra[::-3]) #Toma desde el últiimo elemento y va tomando de 3 en 3\n",
        "print(Palabra[0:-1]) #Tome todo el rango menos el último elemento\n",
        "print(Palabra[-5:-2])\n",
        "print(Palabra[3:]) #Devuelve desde la posición inicial hasta el final del rango\n",
        "print(Palabra[0:])\n",
        "print(Palabra[-1:])\n",
        "print(Palabra[:]) #Devuelve todo el rango\n",
        "print(Palabra) #No es necesario utilizar [:]\n",
        "print(Palabra[0:5:2]) #Devuelve sobre todo el rango, entre el elemento 0 y el 4, contando de 2 en 2"
      ],
      "metadata": {
        "colab": {
          "base_uri": "https://localhost:8080/"
        },
        "id": "eCMWOuBjKyQ2",
        "outputId": "7f82bc69-1b9c-4e56-8ccf-75c81e5646f5"
      },
      "execution_count": null,
      "outputs": [
        {
          "output_type": "stream",
          "name": "stdout",
          "text": [
            "Pto\n",
            "Py\n",
            "n\n",
            "nt\n",
            "Pytho\n",
            "yth\n",
            "hon\n",
            "Python\n",
            "n\n",
            "Python\n",
            "Python\n",
            "Pto\n"
          ]
        }
      ]
    }
  ]
}