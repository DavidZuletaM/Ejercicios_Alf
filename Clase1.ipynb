{
  "nbformat": 4,
  "nbformat_minor": 0,
  "metadata": {
    "colab": {
      "provenance": []
    },
    "kernelspec": {
      "name": "python3",
      "display_name": "Python 3"
    },
    "language_info": {
      "name": "python"
    }
  },
  "cells": [
    {
      "cell_type": "code",
      "execution_count": null,
      "metadata": {
        "colab": {
          "base_uri": "https://localhost:8080/"
        },
        "id": "9vidEVof9kC7",
        "outputId": "00f7b2ef-531f-4eba-a1d6-eae230ff74f7"
      },
      "outputs": [
        {
          "output_type": "stream",
          "name": "stdout",
          "text": [
            "David\n"
          ]
        }
      ],
      "source": [
        "print(\"David\")"
      ]
    },
    {
      "cell_type": "code",
      "source": [
        "saludo = \"hola\""
      ],
      "metadata": {
        "id": "qwXsoiIfkUHg"
      },
      "execution_count": null,
      "outputs": []
    },
    {
      "cell_type": "markdown",
      "source": [
        "documentación\n"
      ],
      "metadata": {
        "id": "auFI2FQPfQss"
      }
    },
    {
      "cell_type": "code",
      "source": [],
      "metadata": {
        "id": "vgBwn8f1k1ox"
      },
      "execution_count": null,
      "outputs": []
    },
    {
      "cell_type": "markdown",
      "source": [
        "#**Inicio**"
      ],
      "metadata": {
        "id": "T3DOzeZyllQs"
      }
    },
    {
      "cell_type": "markdown",
      "source": [
        "## **Primer Subtema**"
      ],
      "metadata": {
        "id": "6BMYt9PGmkQI"
      }
    },
    {
      "cell_type": "markdown",
      "source": [
        "### **Primer Subtema - Indice A**"
      ],
      "metadata": {
        "id": "Xby7wjGdnCk4"
      }
    },
    {
      "cell_type": "markdown",
      "source": [
        "## **Segundo Subtema**"
      ],
      "metadata": {
        "id": "tRS9rn9JnfsY"
      }
    },
    {
      "cell_type": "markdown",
      "source": [
        "## Tabla1\n",
        "\n",
        "| Nombre | Edad | Teléfono | ¿Cuál es la profesión del estudiante?|\n",
        "|:---:|---:|:---|-------|\n",
        "|David|26|3002120894|Ingeniero Industrial|\n",
        "\n",
        "\n",
        "\n",
        "```\n",
        "|:--:| Centrado\n",
        "|---:| Centrado derecha\n",
        "|:---| Centrado izquierda\n",
        "|----| Centrado izquierda\n",
        "```\n",
        "\n",
        "\n"
      ],
      "metadata": {
        "id": "pKHAvRjO_UtO"
      }
    },
    {
      "cell_type": "markdown",
      "source": [
        "## **Viñetas**\n",
        "\n",
        "* Prueba1\n",
        "  - Prueba2\n"
      ],
      "metadata": {
        "id": "NUFIfnj3a2JL"
      }
    },
    {
      "cell_type": "markdown",
      "source": [
        "## **Números**\n",
        "\n",
        "\n",
        "1. Prueba3\n",
        "  - Prueba4\n",
        "  * Prueba5\n",
        "\n",
        "* Prueba6"
      ],
      "metadata": {
        "id": "hPi_fpfpciTR"
      }
    },
    {
      "cell_type": "markdown",
      "source": [
        "## **Separación por línea**\n",
        "\n",
        "---\n",
        "\n",
        "* Prueba7\n",
        "  - Prueba8\n",
        "\n",
        "1. Prueba9\n",
        "2. Prueba10\n",
        "  * Prueba11\n",
        "\n",
        "  "
      ],
      "metadata": {
        "id": "yjZrW4N_dadp"
      }
    },
    {
      "cell_type": "markdown",
      "source": [
        "## **Código Unilínea**\n",
        "\n",
        "Estoy ejecutando el comando `hola` y genera el siguiente error:\n",
        "\n",
        "\n",
        "\n",
        "```\n",
        "# El hola se está escribiendo en forma de código. Cuando se quiera escribir código se usa la doble coma invertida \" ` \".\n",
        "```\n",
        "\n"
      ],
      "metadata": {
        "id": "lasTWtBNkaT5"
      }
    },
    {
      "cell_type": "markdown",
      "source": [
        "## **Código Multilínea**\n",
        "\n",
        "Se usa triple \" ` \".\n",
        "\n",
        "\n",
        "\n",
        "```\n",
        "Select *\n",
        "From resultados_clientes_personas.mcd\n",
        "where ingestion_year=2023\n",
        "and ingestion_month=8\n",
        "```\n",
        "\n"
      ],
      "metadata": {
        "id": "AOkfBbXSmQxR"
      }
    },
    {
      "cell_type": "markdown",
      "source": [
        "## **Declarar lenguaje de programación**\n",
        "\n",
        "\n",
        "\n",
        "```sql\n",
        "Select *\n",
        "From resultados_clientes_personas.mcd\n",
        "where ingestion_year=2023\n",
        "and ingestion_month=8\n",
        "```\n",
        "\n"
      ],
      "metadata": {
        "id": "oOKpt8wcr3MV"
      }
    },
    {
      "cell_type": "markdown",
      "source": [
        "## **Magic Commands**\n",
        "\n",
        "Siempre se reconocen por esta representación `%%`.\n",
        "\n",
        "\n",
        "\n"
      ],
      "metadata": {
        "id": "oa2C598gIC3Y"
      }
    },
    {
      "cell_type": "markdown",
      "source": [
        "## **Bash**"
      ],
      "metadata": {
        "id": "L_XDeYZ-JFYX"
      }
    },
    {
      "cell_type": "code",
      "source": [
        "%%bash\n",
        "cat /etc/*release*"
      ],
      "metadata": {
        "colab": {
          "base_uri": "https://localhost:8080/"
        },
        "id": "VktxKYzFJJ1n",
        "outputId": "a849bbbb-c021-4131-c481-4e672fb1513d"
      },
      "execution_count": null,
      "outputs": [
        {
          "output_type": "stream",
          "name": "stdout",
          "text": [
            "DISTRIB_ID=Ubuntu\n",
            "DISTRIB_RELEASE=22.04\n",
            "DISTRIB_CODENAME=jammy\n",
            "DISTRIB_DESCRIPTION=\"Ubuntu 22.04.2 LTS\"\n",
            "PRETTY_NAME=\"Ubuntu 22.04.2 LTS\"\n",
            "NAME=\"Ubuntu\"\n",
            "VERSION_ID=\"22.04\"\n",
            "VERSION=\"22.04.2 LTS (Jammy Jellyfish)\"\n",
            "VERSION_CODENAME=jammy\n",
            "ID=ubuntu\n",
            "ID_LIKE=debian\n",
            "HOME_URL=\"https://www.ubuntu.com/\"\n",
            "SUPPORT_URL=\"https://help.ubuntu.com/\"\n",
            "BUG_REPORT_URL=\"https://bugs.launchpad.net/ubuntu/\"\n",
            "PRIVACY_POLICY_URL=\"https://www.ubuntu.com/legal/terms-and-policies/privacy-policy\"\n",
            "UBUNTU_CODENAME=jammy\n"
          ]
        }
      ]
    },
    {
      "cell_type": "markdown",
      "source": [
        "##WRITE FILE\n"
      ],
      "metadata": {
        "id": "hiIveR2AK3R9"
      }
    },
    {
      "cell_type": "code",
      "source": [
        "%%writefile usuarios.csv\n",
        "id;genero\n",
        "1;F\n",
        "2;F\n",
        "3;M"
      ],
      "metadata": {
        "colab": {
          "base_uri": "https://localhost:8080/"
        },
        "id": "bUGeTNtKLPUA",
        "outputId": "8486580c-926d-4527-d44d-54073c84c406"
      },
      "execution_count": null,
      "outputs": [
        {
          "output_type": "stream",
          "name": "stdout",
          "text": [
            "Writing usuarios.csv\n"
          ]
        }
      ]
    },
    {
      "cell_type": "code",
      "source": [
        "%%bash\n",
        "ls -lrt"
      ],
      "metadata": {
        "colab": {
          "base_uri": "https://localhost:8080/"
        },
        "id": "BX8epw5oL2aq",
        "outputId": "990fcdf8-2120-418a-ad87-7bdc900688f8"
      },
      "execution_count": null,
      "outputs": [
        {
          "output_type": "stream",
          "name": "stdout",
          "text": [
            "total 12\n",
            "drwxr-xr-x 1 root root 4096 Aug 17 13:29 sample_data\n",
            "drwx------ 6 root root 4096 Aug 21 03:15 drive\n",
            "-rw-r--r-- 1 root root   22 Aug 21 03:41 usuarios.csv\n"
          ]
        }
      ]
    },
    {
      "cell_type": "code",
      "source": [
        "!ls -lrt"
      ],
      "metadata": {
        "colab": {
          "base_uri": "https://localhost:8080/"
        },
        "id": "cxTUPngyQTXz",
        "outputId": "cc204925-0b8a-4a22-f2f3-7d775e793dde"
      },
      "execution_count": null,
      "outputs": [
        {
          "output_type": "stream",
          "name": "stdout",
          "text": [
            "total 12\n",
            "drwxr-xr-x 1 root root 4096 Aug 17 13:29 sample_data\n",
            "drwx------ 6 root root 4096 Aug 21 03:15 drive\n",
            "-rw-r--r-- 1 root root   22 Aug 21 03:41 usuarios.csv\n"
          ]
        }
      ]
    }
  ]
}