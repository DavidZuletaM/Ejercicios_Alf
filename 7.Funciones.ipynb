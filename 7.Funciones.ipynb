{
 "cells": [
  {
   "cell_type": "code",
   "execution_count": 1,
   "metadata": {},
   "outputs": [
    {
     "name": "stdout",
     "output_type": "stream",
     "text": [
      "Hola Amiga\n"
     ]
    }
   ],
   "source": [
    "\"\"\"Escribir una función que muestre por pantalla el saludo ¡Hola amiga! cada vez que se la invoque.\"\"\"\n",
    "\n",
    "\n",
    "def saludo():\n",
    "    print(\"Hola Amiga\")\n",
    "saludo()"
   ]
  },
  {
   "cell_type": "code",
   "execution_count": null,
   "metadata": {},
   "outputs": [
    {
     "name": "stdout",
     "output_type": "stream",
     "text": [
      "¡Hola David!.\n"
     ]
    }
   ],
   "source": [
    "\"\"\"Escribir una función a la que se le pase una cadena <nombre> y muestre por pantalla el saludo ¡hola <nombre>!.\"\"\"\n",
    "#Mi solución:\n",
    "nombre=input(\"Ingrese su nombre:\")\n",
    "\n",
    "def saludo():\n",
    "    print(\"¡Hola %s!.\" %nombre)\n",
    "\n",
    "saludo()"
   ]
  },
  {
   "cell_type": "code",
   "execution_count": 5,
   "metadata": {},
   "outputs": [
    {
     "name": "stdout",
     "output_type": "stream",
     "text": [
      "¡Hola David!.\n"
     ]
    }
   ],
   "source": [
    "#Solución de la máquina (Menos líneas)\n",
    "\n",
    "def saludo(nombre):\n",
    "    print(\"¡Hola %s!.\" %nombre)\n",
    "    return\n",
    "     \n",
    "saludo(\"David\")"
   ]
  },
  {
   "cell_type": "code",
   "execution_count": 10,
   "metadata": {},
   "outputs": [
    {
     "name": "stdout",
     "output_type": "stream",
     "text": [
      "5040\n"
     ]
    }
   ],
   "source": [
    "\"\"\"Escribir una función que reciba un número entero positivo y devuelva su factorial.\"\"\"\n",
    "\n",
    "def calc_factorial(x:int):\n",
    "    mult= 1\n",
    "    for i in range(x):\n",
    "        mult*= i+1\n",
    "    return mult\n",
    "\n",
    "print(calc_factorial(7))"
   ]
  },
  {
   "cell_type": "code",
   "execution_count": 19,
   "metadata": {},
   "outputs": [
    {
     "name": "stdout",
     "output_type": "stream",
     "text": [
      "145200.0\n"
     ]
    }
   ],
   "source": [
    "\"\"\"4\n",
    "Escribir una función que calcule el total de una factura tras aplicarle el IVA. La función debe recibir la cantidad sin IVA y \n",
    "el porcentaje de IVA a aplicar, y devolver el total de la factura. Si se invoca la función sin pasarle el porcentaje de IVA, deberá \n",
    "aplicar un 21%.\"\"\"\n",
    "\n",
    "def calc_factura(valor:int, IVA:float=0.21):\n",
    "    return valor+valor*IVA\n",
    "\n",
    "print(calc_factura(120000))"
   ]
  },
  {
   "cell_type": "code",
   "execution_count": 25,
   "metadata": {},
   "outputs": [
    {
     "name": "stdout",
     "output_type": "stream",
     "text": [
      "37.6992\n"
     ]
    }
   ],
   "source": [
    "\"\"\"Escribir una función que calcule el área de un círculo y otra que calcule el volumen de un cilindro usando la primera función.\"\"\"\n",
    "def calc_area(r:float):\n",
    "    return 3.1416*r**2\n",
    "\n",
    "def calc_vol(r:float,h:float):\n",
    "    return calc_area(r)*h\n",
    "\n",
    "\n",
    "print(calc_vol(2,3))"
   ]
  },
  {
   "cell_type": "code",
   "execution_count": 28,
   "metadata": {},
   "outputs": [
    {
     "name": "stdout",
     "output_type": "stream",
     "text": [
      "2.67\n"
     ]
    }
   ],
   "source": [
    "\"\"\"Escribir una función que reciba una muestra de números en una lista y devuelva su media.\"\"\"\n",
    "def calc_media(lista:list):\n",
    "    suma=0\n",
    "    for i in lista:\n",
    "        suma += i\n",
    "    return suma/len(lista)\n",
    "\n",
    "print(round(calc_media([1,2,5]),2))\n",
    "#Solución correcta pero no óptima"
   ]
  },
  {
   "cell_type": "code",
   "execution_count": 29,
   "metadata": {},
   "outputs": [
    {
     "name": "stdout",
     "output_type": "stream",
     "text": [
      "4.25\n"
     ]
    }
   ],
   "source": [
    "#Solución 1 planteada por la máquina. Óptima\n",
    "def calc_media(lista:list):\n",
    "    return sum(lista)/len(lista)\n",
    "\n",
    "print(calc_media([1,2,5,9]))"
   ]
  },
  {
   "cell_type": "code",
   "execution_count": 32,
   "metadata": {},
   "outputs": [
    {
     "name": "stdout",
     "output_type": "stream",
     "text": [
      "8.700000000000001\n"
     ]
    }
   ],
   "source": [
    "#Solución 2 planteada por la máquina. Óptima. Usando \"Args\"\n",
    "def calc_media(*muestra):\n",
    "    return sum(muestra)/len(muestra)\n",
    "\n",
    "print(calc_media(2.3, 5.7, 6.8, 9.7, 12.1, 15.6))"
   ]
  },
  {
   "cell_type": "code",
   "execution_count": 33,
   "metadata": {},
   "outputs": [
    {
     "name": "stdout",
     "output_type": "stream",
     "text": [
      "[4, 36, 225]\n"
     ]
    }
   ],
   "source": [
    "\"\"\"Escribir una función que reciba una muestra de números en una lista y devuelva otra lista con sus cuadrados.\"\"\"\n",
    "#Propuesta 1 desarrollada por mi\n",
    "def calc_cuad(lista:list):\n",
    "    n_lista=[]\n",
    "    for i in lista:\n",
    "        n_lista.append(i**2)\n",
    "    return n_lista\n",
    "\n",
    "print(calc_cuad([2,6,15]))"
   ]
  },
  {
   "cell_type": "code",
   "execution_count": 34,
   "metadata": {},
   "outputs": [
    {
     "name": "stdout",
     "output_type": "stream",
     "text": [
      "[4, 36, 225]\n"
     ]
    }
   ],
   "source": [
    "#Propuesta 2 desarrollada por mi. Optima\n",
    "def calc_cuad(*muestra):\n",
    "    n_lista=[]\n",
    "    for i in muestra:\n",
    "        n_lista.append(i**2)\n",
    "    return n_lista\n",
    "\n",
    "print(calc_cuad(2,6,15))"
   ]
  },
  {
   "cell_type": "code",
   "execution_count": 4,
   "metadata": {},
   "outputs": [
    {
     "name": "stdout",
     "output_type": "stream",
     "text": [
      "{'media': 8.700000000000001, 'desv_std': 19.45379140424817, 'varianza': 378.45000000000005}\n"
     ]
    }
   ],
   "source": [
    "\"\"\"Escribir una función que reciba una muestra de números en una lista y devuelva un diccionario con su media, varianza y desviación típica.\"\"\"\n",
    "#Propuesta desarrollada por mi. Correcto planteamiento pero la formula de la varianza no está bien.\n",
    "def funcion(*muestra):\n",
    "    dicc={}\n",
    "    suma=sum(muestra)\n",
    "    suma_sq=suma**2\n",
    "    media=suma/len(muestra)\n",
    "    desv_std=(suma_sq/len(muestra)-media**2)**(1/2)\n",
    "    varianza=desv_std**2\n",
    "    dicc[\"media\"]=media\n",
    "    dicc[\"desv_std\"]=desv_std\n",
    "    dicc[\"varianza\"]=varianza\n",
    "    return dicc\n",
    "\n",
    "print(funcion(2.3, 5.7, 6.8, 9.7, 12.1, 15.6))"
   ]
  },
  {
   "cell_type": "code",
   "execution_count": null,
   "metadata": {},
   "outputs": [
    {
     "name": "stdout",
     "output_type": "stream",
     "text": [
      "{'media': 8.700000000000001, 'varianza': 18.95666666666665, 'desv_est': 4.353925431913901}\n"
     ]
    }
   ],
   "source": [
    "#Propuesta de la máquina. Óptima\n",
    "def sq(*muestra):\n",
    "    lista=[]\n",
    "    for i in muestra:\n",
    "        lista.append(i**2)\n",
    "    return lista\n",
    "\n",
    "def funcion(*muestra):\n",
    "    dicc={}\n",
    "    dicc[\"media\"]=sum(muestra)/len(muestra)\n",
    "    dicc[\"varianza\"]=sum(sq(muestra))/len(muestra)-dicc[\"media\"]**2\n",
    "    dicc[\"desv_est\"]=dicc[\"varianza\"]**(1/2)\n",
    "    return dicc\n",
    "\n",
    "print(funcion(2.3, 5.7, 6.8, 9.7, 12.1, 15.6))"
   ]
  },
  {
   "cell_type": "code",
   "execution_count": null,
   "metadata": {},
   "outputs": [],
   "source": [
    "\"\"\"Escribir una función que calcule el máximo común divisor de dos números y otra que calcule el mínimo común múltiplo.\"\"\""
   ]
  },
  {
   "cell_type": "code",
   "execution_count": null,
   "metadata": {},
   "outputs": [],
   "source": [
    "\"\"\"Escribir una función que convierta un número decimal en binario y otra que convierta un número binario en decimal.\"\"\""
   ]
  },
  {
   "cell_type": "code",
   "execution_count": null,
   "metadata": {},
   "outputs": [],
   "source": [
    "\"\"\"Escribir un programa que reciba una cadena de caracteres y devuelva un diccionario con cada palabra que contiene y su frecuencia. Escribir otra función \n",
    "que reciba el diccionario generado con la función anterior y devuelva una tupla con la palabra más repetida y su frecuencia.\"\"\""
   ]
  }
 ],
 "metadata": {
  "kernelspec": {
   "display_name": ".venv",
   "language": "python",
   "name": "python3"
  },
  "language_info": {
   "codemirror_mode": {
    "name": "ipython",
    "version": 3
   },
   "file_extension": ".py",
   "mimetype": "text/x-python",
   "name": "python",
   "nbconvert_exporter": "python",
   "pygments_lexer": "ipython3",
   "version": "3.8.8"
  }
 },
 "nbformat": 4,
 "nbformat_minor": 2
}
