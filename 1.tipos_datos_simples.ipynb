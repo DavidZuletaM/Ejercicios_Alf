{
 "cells": [
  {
   "cell_type": "code",
   "execution_count": 1,
   "metadata": {},
   "outputs": [
    {
     "name": "stdout",
     "output_type": "stream",
     "text": [
      "Hola Mundo\n"
     ]
    }
   ],
   "source": [
    "\"\"\"Escribir un programa que muestre por pantalla la cadena ¡Hola Mundo!.\"\"\"\n",
    "\n",
    "var=\"Hola Mundo\"\n",
    "print(var)"
   ]
  },
  {
   "cell_type": "code",
   "execution_count": 3,
   "metadata": {},
   "outputs": [
    {
     "name": "stdout",
     "output_type": "stream",
     "text": [
      " Hola David, Espero te encuentres bien\n"
     ]
    }
   ],
   "source": [
    "\"\"\"Escribir un programa que pregunte el nombre del usuario en la consola y después de que el usuario lo introduzca muestre \n",
    "por pantalla la cadena ¡Hola <nombre>!, donde <nombre> es el nombre que el usuario haya introducido.\"\"\"\n",
    "\n",
    "nombre=input(\"Introduce tu nombre: \")\n",
    "print(\" Hola \" + nombre + \", Espero te encuentres bien\")"
   ]
  },
  {
   "cell_type": "code",
   "execution_count": 5,
   "metadata": {},
   "outputs": [
    {
     "name": "stdout",
     "output_type": "stream",
     "text": [
      "0.25\n"
     ]
    }
   ],
   "source": [
    "\"\"\"Escribir un programa que muestre por pantalla el resultado de la siguiente operación aritmética.\"\"\"\n",
    "\n",
    "print(((3+2)/(2*5))**2)"
   ]
  },
  {
   "cell_type": "code",
   "execution_count": 12,
   "metadata": {},
   "outputs": [
    {
     "name": "stdout",
     "output_type": "stream",
     "text": [
      "El pago correspondiente es: 72000.0\n"
     ]
    }
   ],
   "source": [
    "\"\"\"Escribir un programa que pregunte al usuario por el número de horas trabajadas y el coste por hora. Después \n",
    "debe mostrar por pantalla la paga que le corresponde.\"\"\"\n",
    "\n",
    "var1=float(input(\"Número de horas trabajadas:\"))\n",
    "var2=float(input(\"Costo por hora\"))\n",
    "result=var1*var2\n",
    "print(\"El pago correspondiente es:\", result)"
   ]
  },
  {
   "cell_type": "code",
   "execution_count": 16,
   "metadata": {},
   "outputs": [
    {
     "name": "stdout",
     "output_type": "stream",
     "text": [
      "21.0\n"
     ]
    }
   ],
   "source": [
    "\"\"\"Escribir un programa que lea un entero positivo, n, introducido por el usuario y después muestre en pantalla la suma de \n",
    "todos los enteros desde 1 hasta n. La suma de los n primeros enteros positivos puede ser calculada de la siguiente forma:\"\"\"\n",
    "\n",
    "var1=int(input(\"Indique el número entero positivo: \"))\n",
    "print(((var1*(var1+1))/2))"
   ]
  },
  {
   "cell_type": "code",
   "execution_count": 18,
   "metadata": {},
   "outputs": [
    {
     "name": "stdout",
     "output_type": "stream",
     "text": [
      "Tu indice de masa corporal es:  24.69\n"
     ]
    }
   ],
   "source": [
    "\"\"\"Escribir un programa que pida al usuario su peso (en kg) y estatura (en metros), calcule el índice de masa corporal y \n",
    "lo almacene en una variable, y muestre por pantalla la frase Tu índice de masa corporal es <imc> donde <imc> es el índice \n",
    "de masa corporal calculado redondeado con dos decimales.\"\"\"\n",
    "\n",
    "peso=float(input(\"Indíque su peso en kg: \"))\n",
    "estatura = float(input(\"Ahora indíque su estatura en metros: \"))\n",
    "i_masa_corp= round(peso/estatura**2,2)\n",
    "print(\"Tu indice de masa corporal es: \", i_masa_corp)"
   ]
  },
  {
   "cell_type": "code",
   "execution_count": 23,
   "metadata": {},
   "outputs": [
    {
     "name": "stdout",
     "output_type": "stream",
     "text": [
      "375 entre 29 da un cociente 12 y un residuo de 27\n"
     ]
    }
   ],
   "source": [
    "\"\"\"Escribir un programa que pida al usuario dos números enteros y muestre por pantalla la <n> entre <m> da un cociente <c> y \n",
    "un resto <r> donde <n> y <m> son los números introducidos por el usuario, y <c> y <r> son el cociente y el resto de la división \n",
    "entera respectivamente.\"\"\"\n",
    "\n",
    "n1=int(input(\"Ingrese un número entero: \"))\n",
    "n2=int(input(\"Ingrese otro número entero: \"))\n",
    "cociente= n1//n2\n",
    "residuo= n1%n2\n",
    "print(str(n1) + \" entre \" + str(n2) + \" da un cociente \" + str(int(cociente)) + \" y un residuo de \" + str(int(residuo)))"
   ]
  },
  {
   "cell_type": "code",
   "execution_count": null,
   "metadata": {},
   "outputs": [
    {
     "name": "stdout",
     "output_type": "stream",
     "text": [
      "El capital obtenido fue:  1883.56\n"
     ]
    }
   ],
   "source": [
    "\"\"\"Escribir un programa que pregunte al usuario una cantidad a invertir, el interés anual y el número de años, y muestre \n",
    "por pantalla el capital obtenido en la inversión.\"\"\"\n",
    "\n",
    "inversion=int(input(\"Cantidad a invertir: \"))\n",
    "interes=float(input(\"Interés anual: \"))\n",
    "n=int(input(\"Número de años: \"))\n",
    "k=round(inversion*((interes/100)+1)**n,2)\n",
    "print(\"El capital obtenido es: \", k)"
   ]
  },
  {
   "cell_type": "code",
   "execution_count": 3,
   "metadata": {},
   "outputs": [
    {
     "name": "stdout",
     "output_type": "stream",
     "text": [
      "El peso total del paquete que será enviado es 636 gramos\n"
     ]
    }
   ],
   "source": [
    "\"\"\"Una juguetería tiene mucho éxito en dos de sus productos: payasos y muñecas. Suele hacer venta por correo y la empresa de logística \n",
    "les cobra por peso de cada paquete así que deben calcular el peso de los payasos y muñecas que saldrán en cada paquete a demanda. Cada \n",
    "payaso pesa 112 g y cada muñeca 75 g. Escribir un programa que lea el número de payasos y muñecas vendidos en el último pedido y calcule \n",
    "el peso total del paquete que será enviado.\"\"\"\n",
    "\n",
    "peso_payaso = 112\n",
    "peso_muneca = 75\n",
    "n_payaso = int(input(\"Indique el número de payasos vendidos: \"))\n",
    "n_muneca = int(input(\"Indique el número de muñecas vendidas: \"))\n",
    "peso_total = (peso_payaso*n_payaso)+(peso_muneca*n_muneca)\n",
    "print(\"El peso total del paquete que será enviado es \" + str(peso_total) + \" gramos\") "
   ]
  },
  {
   "cell_type": "code",
   "execution_count": null,
   "metadata": {},
   "outputs": [
    {
     "name": "stdout",
     "output_type": "stream",
     "text": [
      "Cantidad ahorrada en los años: \n",
      "1  1000400.0 \n",
      "2  1000800.16 \n",
      "3  1001200.48\n"
     ]
    }
   ],
   "source": [
    "\"\"\"Imagina que acabas de abrir una nueva cuenta de ahorros que te ofrece el 4% de interés al año. Estos ahorros debido a intereses, \n",
    "que no se cobran hasta finales de año, se te añaden al balance final de tu cuenta de ahorros. Escribir un programa que comience \n",
    "leyendo la cantidad de dinero depositada en la cuenta de ahorros, introducida por el usuario. Después el programa debe calcular y \n",
    "mostrar por pantalla la cantidad de ahorros tras el primer, segundo y tercer años. Redondear cada cantidad a dos decimales.\"\"\"\n",
    "\n",
    "i = 0.04\n",
    "deposito=int(input(\"Dinero depositado en la cuenta de ahorros: \"))\n",
    "k_1=round(deposito*((i/100)+1)**1,2)\n",
    "k_2=round(deposito*((i/100)+1)**2,2)\n",
    "k_3=round(deposito*((i/100)+1)**3,2)\n",
    "print(\"Cantidad ahorrada en los años: \\n1 \", k_1, \"\\n2 \", k_2, \"\\n3 \", k_3)"
   ]
  },
  {
   "cell_type": "code",
   "execution_count": 46,
   "metadata": {},
   "outputs": [
    {
     "name": "stdout",
     "output_type": "stream",
     "text": [
      "Precio habitual: 3.49 \n",
      "Descuento:  60.0 %\n",
      "Precio Final 16.752000000000002\n"
     ]
    }
   ],
   "source": [
    "\"\"\"Una panadería vende barras de pan a 3.49€ cada una. El pan que no es el día tiene un descuento del 60%. \n",
    "Escribir un programa que comience leyendo el número de barras vendidas que no son del día. Después el programa debe \n",
    "mostrar el precio habitual de una barra de pan, el descuento que se le hace por no ser fresca y el coste final total.\"\"\"\n",
    "\n",
    "vlr=3.49\n",
    "desc=0.6\n",
    "q=int(input(\"Ingrese el número de barras de pan que no son del mismo día que se han vendido: \"))\n",
    "print(\"Precio habitual:\", vlr, \"\\nDescuento: \", desc*100,\"%\" \"\\nPrecio Final\", q*vlr*(1-desc))"
   ]
  }
 ],
 "metadata": {
  "kernelspec": {
   "display_name": ".venv",
   "language": "python",
   "name": "python3"
  },
  "language_info": {
   "codemirror_mode": {
    "name": "ipython",
    "version": 3
   },
   "file_extension": ".py",
   "mimetype": "text/x-python",
   "name": "python",
   "nbconvert_exporter": "python",
   "pygments_lexer": "ipython3",
   "version": "3.8.8"
  }
 },
 "nbformat": 4,
 "nbformat_minor": 2
}
