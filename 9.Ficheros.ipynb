{
 "cells": [
  {
   "cell_type": "code",
   "execution_count": null,
   "id": "c05ebaf8",
   "metadata": {},
   "outputs": [],
   "source": [
    "#Punto 1\n",
    "\"\"\"Escribir una función que pida un número entero entre 1 y 10 y guarde en un fichero (Archivo) con el nombre tabla-n.txt la tabla de \n",
    "multiplicar de ese número, donde n es el número introducido.\"\"\"\n",
    "\n",
    "n = int(input('Introduce un número entero entre 1 y 10: '))\n",
    "nombre_fichero = 'tabla-' + str(n) + '.txt'\n",
    "f = open(nombre_fichero, 'w')\n",
    "for i in range(1, 11):\n",
    "    f.write(str(n) + ' x ' + str(i) + ' = ' + str(n * i) + '\\n')\n",
    "f.close()"
   ]
  },
  {
   "cell_type": "code",
   "execution_count": 2,
   "id": "79799d6d",
   "metadata": {},
   "outputs": [],
   "source": [
    "#Método óptimo\n",
    "n = int(input('Introduce un número entero entre 1 y 10: '))\n",
    "nombre_fichero = 'tabla-' + str(n) + '.txt'\n",
    "with open(nombre_fichero, 'w') as f:\n",
    "    for i in range(1, 11):\n",
    "        f.write(str(n) + ' x ' + str(i) + ' = ' + str(n * i) + '\\n')"
   ]
  },
  {
   "cell_type": "code",
   "execution_count": 5,
   "id": "51b476c8",
   "metadata": {},
   "outputs": [
    {
     "name": "stdout",
     "output_type": "stream",
     "text": [
      "5 x 1 = 5\n",
      "5 x 2 = 10\n",
      "5 x 3 = 15\n",
      "5 x 4 = 20\n",
      "5 x 5 = 25\n",
      "5 x 6 = 30\n",
      "5 x 7 = 35\n",
      "5 x 8 = 40\n",
      "5 x 9 = 45\n",
      "5 x 10 = 50\n",
      "\n"
     ]
    }
   ],
   "source": [
    "#Punto 2\n",
    "\"\"\"Escribir una función que pida un número entero entre 1 y 10, lea el fichero tabla-n.txt con la tabla de multiplicar de ese número, \n",
    "donde n es el número introducido, y la muestre por pantalla. Si el fichero no existe debe mostrar un mensaje por pantalla informando de ello.\"\"\"\n",
    "n = int(input('Introduce un número entero entre 1 y 10: '))\n",
    "nombre_fichero = 'tabla-' + str(n) + '.txt'\n",
    "try:\n",
    "    with open(nombre_fichero, 'r') as f:\n",
    "        print(f.read())\n",
    "except FileNotFoundError:\n",
    "    print('No existe el archivo con la tabla del', n)"
   ]
  },
  {
   "cell_type": "code",
   "execution_count": 3,
   "id": "42b6261e",
   "metadata": {},
   "outputs": [
    {
     "name": "stdout",
     "output_type": "stream",
     "text": [
      "4 x 8 = 32\n",
      "\n"
     ]
    }
   ],
   "source": [
    "#Punto 3\n",
    "\"\"\"Escribir una función que pida dos números n y m entre 1 y 10, lea el fichero tabla-n.txt con la tabla de multiplicar de ese número, \n",
    "y muestre por pantalla la línea m del fichero. Si el fichero no existe debe mostrar un mensaje por pantalla informando de ello.\"\"\"\n",
    "\n",
    "n = int(input('Ingrese un número entre el 1 y el 10: '))\n",
    "m = int(input('Ingrese otro número entre el 1 y el 10: '))\n",
    "nombre_fichero='tabla-'+str(n)+'.txt'\n",
    "try:\n",
    "    with open(nombre_fichero, 'r') as f:\n",
    "        lineas=f.readlines()\n",
    "    print(lineas[m-1])\n",
    "except FileNotFoundError:\n",
    "    print('No existe el archivo con la tabla del', n)"
   ]
  },
  {
   "cell_type": "code",
   "execution_count": null,
   "id": "c15a479a",
   "metadata": {},
   "outputs": [],
   "source": [
    "#Punto 4\n",
    "\"\"\"Escribir un programa que acceda a un fichero de internet mediante su url y muestre por pantalla el número de palabras que contiene.\"\"\""
   ]
  },
  {
   "cell_type": "code",
   "execution_count": null,
   "id": "4b637011",
   "metadata": {},
   "outputs": [
    {
     "name": "stdout",
     "output_type": "stream",
     "text": [
      "La urlhttps://no-existe.txtno existe\n"
     ]
    }
   ],
   "source": [
    "def contar_palabras (url):\n",
    "    from urllib import request\n",
    "    from urllib.error import URLError\n",
    "\n",
    "    try:\n",
    "        with request.urlopen(url) as f:\n",
    "            contenido = f.read()\n",
    "    except URLError:\n",
    "        return('La url'+url+'no existe')\n",
    "    else:\n",
    "        return len(contenido.split())\n",
    "\n",
    "#print(contar_palabras('https://www.gutenberg.org/files/2000/2000-0.txt'))\n",
    "print(contar_palabras('https://no-existe.txt'))"
   ]
  },
  {
   "cell_type": "code",
   "execution_count": null,
   "id": "ba03ba7c",
   "metadata": {},
   "outputs": [],
   "source": [
    "#Punto 5\n",
    "\"\"\"Escribir un programa que abra el fichero con información sobre el PIB per cápita de los países de la Unión Europea \n",
    "(url:https://ec.europa.eu/eurostat/estat-navtree-portlet-prod/BulkDownloadListing?file=data/sdg_08_10.tsv.gz&unzip=true), \n",
    "pregunte por las iniciales de un país y muestre el PIB per cápita de ese país de todos los años disponibles.\"\"\""
   ]
  },
  {
   "cell_type": "code",
   "execution_count": null,
   "id": "8a8a7bf8",
   "metadata": {},
   "outputs": [],
   "source": [
    "#Punto 6\n",
    "\"\"\"Escribir un programa para gestionar un listín telefónico con los nombres y los teléfonos de los clientes de una empresa. El programa \n",
    "incorporar funciones crear el fichero con el listín si no existe, para consultar el teléfono de un cliente, añadir el teléfono de un nuevo \n",
    "cliente y eliminar el teléfono de un cliente. El listín debe estar guardado en el fichero de texto listin.txt donde el nombre del cliente y su \n",
    "teléfono deben aparecer separados por comas y cada cliente en una línea distinta.\"\"\""
   ]
  },
  {
   "cell_type": "code",
   "execution_count": null,
   "id": "3eb28827",
   "metadata": {},
   "outputs": [],
   "source": [
    "#Punto 7\n",
    "\"\"\"El fichero cotizacion.csv contiene las cotizaciones de las empresas del IBEX35 con las siguientes columnas: Nombre (nombre de la empresa), Final \n",
    "(precio de la acción al cierre de bolsa), Máximo (precio máximo de la acción durante la jornada), Mínimo (precio mínimo de la acción durante la jornada), \n",
    "Volumen (Volumen al cierre de bolsa), Efectivo (capitalización al cierre en miles de euros).\n",
    "1.Construir una función reciba el fichero de cotizaciones y devuelva un diccionario con los datos del fichero por columnas.\n",
    "2.Construir una función que reciba el diccionario devuelto por la función anterior y cree un fichero en formato csv con el mínimo, el máximo y la media \n",
    "de dada columna.\"\"\""
   ]
  },
  {
   "cell_type": "code",
   "execution_count": null,
   "id": "d63c75a4",
   "metadata": {},
   "outputs": [],
   "source": [
    "#Punto 8\n",
    "\"\"\"El fichero calificaciones.csv contiene las calificaciones de un curso. Durante el curso se realizaron dos exámenes parciales de teoría y un examen de \n",
    "prácticas. Los alumnos que tuvieron menos de 4 en alguno de estos exámenes pudieron repetirlo en la al final del curso (convocatoria ordinaria). Escribir \n",
    "un programa que contenga las siguientes funciones:\n",
    "\n",
    "1.Una función que reciba el fichero de calificaciones y devuelva una lista de diccionarios, donde cada diccionario contiene la información de los exámenes \n",
    "y la asistencia de un alumno. La lista tiene que estar ordenada por apellidos.\n",
    "\n",
    "2.Una función que reciba una lista de diccionarios como la que devuelve la función anterior y añada a cada diccionario un nuevo par con la nota final del \n",
    "curso. El peso de cada parcial de teoría en la nota final es de un 30% mientras que el peso del examen de prácticas es de un 40%.\n",
    "\n",
    "3.Una función que reciba una lista de diccionarios como la que devuelve la función anterior y devuelva dos listas, una con los alumnos aprobados y otra \n",
    "con los alumnos suspensos. Para aprobar el curso, la asistencia tiene que ser mayor o igual que el 75%, la nota de los exámenes parciales y de prácticas \n",
    "mayor o igual que 4 y la nota final mayor o igual que 5.\"\"\""
   ]
  }
 ],
 "metadata": {
  "kernelspec": {
   "display_name": ".venv",
   "language": "python",
   "name": "python3"
  },
  "language_info": {
   "codemirror_mode": {
    "name": "ipython",
    "version": 3
   },
   "file_extension": ".py",
   "mimetype": "text/x-python",
   "name": "python",
   "nbconvert_exporter": "python",
   "pygments_lexer": "ipython3",
   "version": "3.8.8"
  }
 },
 "nbformat": 4,
 "nbformat_minor": 5
}
