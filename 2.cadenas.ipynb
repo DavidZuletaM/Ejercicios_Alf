{
 "cells": [
  {
   "cell_type": "code",
   "execution_count": null,
   "metadata": {},
   "outputs": [
    {
     "name": "stdout",
     "output_type": "stream",
     "text": [
      "David\n",
      "David\n",
      "David\n",
      "\n"
     ]
    }
   ],
   "source": [
    "\"\"\"Escribir un programa que pregunte el nombre del usuario en la consola y un número entero e imprima por pantalla en líneas distintas \n",
    "el nombre del usuario tantas veces como el número introducido.\"\"\"\n",
    "nombre=str(input(\"Nombre del usuario: \"))\n",
    "n=int(input(\"Indique un número entero: \"))\n",
    "print((nombre+\"\\n\")*n)"
   ]
  },
  {
   "cell_type": "code",
   "execution_count": null,
   "metadata": {},
   "outputs": [
    {
     "name": "stdout",
     "output_type": "stream",
     "text": [
      "david zuleta\n",
      "DAVID ZULETA\n",
      "David Zuleta\n"
     ]
    }
   ],
   "source": [
    "\"\"\"Escribir un programa que pregunte el nombre completo del usuario en la consola y después muestre por pantalla el nombre completo \n",
    "del usuario tres veces, una con todas las letras minúsculas, otra con todas las letras mayúsculas y otra solo con la primera letra del \n",
    "nombre y de los apellidos en mayúscula. El usuario puede introducir su nombre combinando mayúsculas y minúsculas como quiera.\"\"\"\n",
    "nombre=str(input(\"Nombre completo: \"))\n",
    "print(nombre.lower())\n",
    "print(nombre.upper())\n",
    "print(nombre.title())"
   ]
  },
  {
   "cell_type": "code",
   "execution_count": null,
   "metadata": {},
   "outputs": [
    {
     "name": "stdout",
     "output_type": "stream",
     "text": [
      "DAVID tiene  5  letras\n"
     ]
    }
   ],
   "source": [
    "\"\"\"Escribir un programa que pregunte el nombre del usuario en la consola y después de que el usuario lo introduzca muestre por \n",
    "pantalla <NOMBRE> tiene <n> letras, donde <NOMBRE> es el nombre de usuario en mayúsculas y <n> es el número de letras que tienen el nombre.\"\"\"\n",
    "nombre=str(input(\"Nombre: \").upper())\n",
    "print(nombre, \"tiene \", len(nombre), \" letras\")"
   ]
  },
  {
   "cell_type": "code",
   "execution_count": null,
   "metadata": {},
   "outputs": [
    {
     "name": "stdout",
     "output_type": "stream",
     "text": [
      "El número de teléfono es:  123456789\n"
     ]
    }
   ],
   "source": [
    "\"\"\"Los teléfonos de una empresa tienen el siguiente formato prefijo-número-extension donde el prefijo es el código del país +34, \n",
    "y la extensión tiene dos dígitos (por ejemplo +34-913724710-56). Escribir un programa que pregunte por un número de teléfono con \n",
    "este formato y muestre por pantalla el número de teléfono sin el prefijo y la extensión.\"\"\"\n",
    "\n",
    "tel=str(input(\"Ingrese el número de teléfono con el siguiente formato: +xx-xxxxxxxxx-xx\"))\n",
    "print(\"El número de teléfono es: \", tel[4:-3])"
   ]
  },
  {
   "cell_type": "code",
   "execution_count": null,
   "metadata": {},
   "outputs": [
    {
     "name": "stdout",
     "output_type": "stream",
     "text": [
      "ziL atsug eM\n"
     ]
    }
   ],
   "source": [
    "\"\"\"Escribir un programa que pida al usuario que introduzca una frase en la consola y muestre por pantalla la frase invertida.\"\"\"\n",
    "frase=str(input(\"Ingrese una frase: \"))\n",
    "print(frase[::-1])"
   ]
  },
  {
   "cell_type": "code",
   "execution_count": null,
   "metadata": {},
   "outputs": [
    {
     "name": "stdout",
     "output_type": "stream",
     "text": [
      "HolA\n"
     ]
    }
   ],
   "source": [
    "\"\"\"Escribir un programa que pida al usuario que introduzca una frase en la consola y una vocal, y después muestre por pantalla\n",
    "la misma frase pero con la vocal introducida en mayúscula.\"\"\"\n",
    "frase=str(input(\"Escriba una frase: \"))\n",
    "vocal=str(input(\"Escriba una vocal en minúscula: \"))\n",
    "print(frase.replace(vocal,vocal.upper()))"
   ]
  },
  {
   "cell_type": "code",
   "execution_count": null,
   "metadata": {},
   "outputs": [
    {
     "name": "stdout",
     "output_type": "stream",
     "text": [
      " dzuletam@ceu.es\n"
     ]
    }
   ],
   "source": [
    "\"\"\"Escribir un programa que pregunte el correo electrónico del usuario en la consola y \n",
    "muestre por pantalla otro correo electrónico con el mismo nombre (la parte delante de la arroba @) \n",
    "pero con dominio ceu.es.\"\"\"\n",
    "\n",
    "correo=str(input(\"Indique su correo electrónico: \"))\n",
    "print(correo[:correo.find('@')]+'@ceu.es')"
   ]
  },
  {
   "cell_type": "code",
   "execution_count": null,
   "metadata": {},
   "outputs": [
    {
     "name": "stdout",
     "output_type": "stream",
     "text": [
      "3  euros con 456  céntimos\n"
     ]
    }
   ],
   "source": [
    "\"\"\"Escribir un programa que pregunte por consola el precio de un producto en euros con dos \n",
    "decimales y muestre por pantalla el número de euros y el número de céntimos del precio introducido.\"\"\"\n",
    "precio=input(\"Indique el precio del producto con solo dos decimales: \")\n",
    "print(precio[:precio.find(\".\")] , \" euros con\", precio[precio.find(\".\")+1:], \" céntimos\")"
   ]
  },
  {
   "cell_type": "code",
   "execution_count": null,
   "metadata": {},
   "outputs": [
    {
     "name": "stdout",
     "output_type": "stream",
     "text": [
      "día: 20\n",
      "mes: 01\n",
      "año: 1996\n"
     ]
    }
   ],
   "source": [
    "\"\"\"Escribir un programa que pregunte al usuario la fecha de su nacimiento en formato \n",
    "dd/mm/aaaa y muestra por pantalla, el día, el mes y el año. Adaptar el programa anterior \n",
    "para que también funcione cuando el día o el mes se introduzcan con un solo carácter.\"\"\"\n",
    "\n",
    "f_nacimiento = input(\"Ingrese su fecha de nacimiento en formato dd/mm/aaaa: \")\n",
    "print( \"día: \" + str(f_nacimiento[0:2]) + \"\\nmes: \" + str(f_nacimiento[3:5]) + \"\\naño: \" + str(f_nacimiento[6:]))"
   ]
  },
  {
   "cell_type": "code",
   "execution_count": 4,
   "metadata": {},
   "outputs": [
    {
     "name": "stdout",
     "output_type": "stream",
     "text": [
      "día: 1\n",
      "mes: 1\n",
      "año: 1990\n"
     ]
    }
   ],
   "source": [
    "\"Punto anterior adaptado para que reciba cuando el día o el mes se introduzcan con un solo carácter\"\n",
    "f_nacimiento = input(\"Ingrese su fecha de nacimiento en formato dd/mm/aaaa: \")\n",
    "dia= f_nacimiento[:f_nacimiento.find(\"/\")]\n",
    "mes_año = f_nacimiento[f_nacimiento.find(\"/\")+1:]\n",
    "mes= mes_año[:mes_año.find(\"/\")]\n",
    "año= mes_año[mes_año.find(\"/\")+1:]\n",
    "print(\"día: \" + str(dia) + \"\\nmes: \" + str(mes) + \"\\naño: \" + str(año))"
   ]
  },
  {
   "cell_type": "code",
   "execution_count": null,
   "metadata": {},
   "outputs": [
    {
     "name": "stdout",
     "output_type": "stream",
     "text": [
      "Manzanas\n",
      " Peras\n",
      " Piñas\n",
      " Bananos\n"
     ]
    }
   ],
   "source": [
    "\"\"\"Escribir un programa que pregunte por consola por los productos de una cesta de la compra, \n",
    "separados por comas, y muestre por pantalla cada uno de los productos en una línea distinta.\"\"\"\n",
    "productos=str(input(\"Ingrese los productos de la cesta de compra (Separarlos por comas): \"))\n",
    "print(productos.replace(\",\",\"\\n\"))"
   ]
  },
  {
   "cell_type": "code",
   "execution_count": null,
   "metadata": {},
   "outputs": [
    {
     "name": "stdout",
     "output_type": "stream",
     "text": [
      "Manzanas\n",
      " peras\n",
      " uvas\n"
     ]
    }
   ],
   "source": [
    "#Punto anterior, otra solución\n",
    "productos=str(input(\"Ingrese los productos de la cesta de compra (Separarlos por comas): \"))\n",
    "print(\"\\n\".join(productos.split(\",\")))"
   ]
  },
  {
   "cell_type": "code",
   "execution_count": null,
   "metadata": {},
   "outputs": [
    {
     "name": "stdout",
     "output_type": "stream",
     "text": [
      "Tornillo: 432 unidades x $523.00 = $225936.00\n"
     ]
    }
   ],
   "source": [
    "\"\"\"Escribir un programa que pregunte el nombre el un producto, su precio y un número \n",
    "de unidades y muestre por pantalla una cadena con el nombre del producto seguido de su \n",
    "precio unitario con 6 dígitos enteros y 2 decimales, el número de unidades con tres dígitos y \n",
    "el coste total con 8 dígitos enteros y 2 decimales.\"\"\"\n",
    "producto=str(input(\"Escriba el nombre del producto que requiere: \"))\n",
    "precio=float(input(\"Escriba el precio del producto: \"))\n",
    "uds=int(input(\"Escriba las unidades que requiere del producto: \"))\n",
    "\n",
    "print(\"{producto}: {unidades:3d} unidades x ${precio:6.2f} = ${total:8.2f}\".format(producto=producto, unidades=uds, precio=precio, total=uds*precio))"
   ]
  }
 ],
 "metadata": {
  "kernelspec": {
   "display_name": ".venv",
   "language": "python",
   "name": "python3"
  },
  "language_info": {
   "codemirror_mode": {
    "name": "ipython",
    "version": 3
   },
   "file_extension": ".py",
   "mimetype": "text/x-python",
   "name": "python",
   "nbconvert_exporter": "python",
   "pygments_lexer": "ipython3",
   "version": "3.11.5"
  }
 },
 "nbformat": 4,
 "nbformat_minor": 2
}
