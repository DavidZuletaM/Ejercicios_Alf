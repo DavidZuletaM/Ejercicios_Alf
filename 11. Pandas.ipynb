{
 "cells": [
  {
   "cell_type": "code",
   "execution_count": 1,
   "metadata": {},
   "outputs": [],
   "source": [
    "import pandas as pd"
   ]
  },
  {
   "cell_type": "code",
   "execution_count": 3,
   "metadata": {},
   "outputs": [
    {
     "name": "stdout",
     "output_type": "stream",
     "text": [
      "Ventas\n",
      " 2021    350.0\n",
      "2022    400.0\n",
      "2023    430.0\n",
      "2024    380.0\n",
      "2025    200.0\n",
      "dtype: float64\n",
      "Ventas con descuento\n",
      " 2021    315.0\n",
      "2022    360.0\n",
      "2023    387.0\n",
      "2024    342.0\n",
      "2025    180.0\n",
      "dtype: float64\n"
     ]
    }
   ],
   "source": [
    "#Tuve que cambiar el kernel usando la versión de python que tengo instalada en mi pc (3.8.3). No pude ejecutar pandas en el ambiente virutal instalado. \n",
    "#Al parecer se debe a una incopatibildad entre la versión instalada de la librería de pandas con la versión de python (3.11.5) que usa mi ambiente virtual.\n",
    "#Yo probé instalando distintas versiones de la librería pero en todas me arrojaba error. Puede ser que la versión de python 3.11.5 quedó defectuosa para el uso de pandas \n",
    "#(o por lo menos para el uso de su mayoría de versiones en este python 3.11.5).\n",
    "\"\"\"Escribir un programa que pregunte al usuario por las ventas de un rango de años y muestre por pantalla una serie con los datos de las ventas indexada \n",
    "por los años, antes y después de aplicarles un descuento del 10%.\"\"\"\n",
    "\n",
    "inicio=int(input(\"Introduce el año inicial:\"))\n",
    "final=int(input(\"Introduce el año final:\"))\n",
    "ventas={}\n",
    "for i in range(inicio, final+1):\n",
    "    ventas[i]=float(input(\"Introduce las ventas del año \" + str(i) + \":\"))\n",
    "ventas= pd.Series(ventas)\n",
    "print(\"Ventas\\n\", ventas)\n",
    "print(\"Ventas con descuento\\n\", ventas*0.9)"
   ]
  },
  {
   "cell_type": "code",
   "execution_count": 5,
   "metadata": {},
   "outputs": [
    {
     "name": "stdout",
     "output_type": "stream",
     "text": [
      "Min                  3.900000\n",
      "Max                  5.000000\n",
      "Media                4.525000\n",
      "Desviación típica    0.464579\n",
      "dtype: float64\n"
     ]
    }
   ],
   "source": [
    "\"\"\"Escribir una función que reciba un diccionario con las notas de los alumno de un curso y devuelva una serie con la nota mínima, la máxima, \n",
    "media y la desviación típica.\"\"\"\n",
    "\n",
    "def serie(notas):\n",
    "    notas = pd.Series(notas)\n",
    "    estadisticos = pd.Series([notas.min(), notas.max(), notas.mean(), notas.std()], index=['Min', 'Max', 'Media', 'Desviación típica'])\n",
    "    return estadisticos\n",
    "    \n",
    "notas={\"David\":3.9,\"Liz\":4.5,\"Manuela\":4.7,\"Mateo\":5.0}\n",
    "print(serie(notas))"
   ]
  },
  {
   "cell_type": "code",
   "execution_count": 6,
   "metadata": {},
   "outputs": [
    {
     "name": "stdout",
     "output_type": "stream",
     "text": [
      "count    4.000000\n",
      "mean     4.525000\n",
      "std      0.464579\n",
      "min      3.900000\n",
      "25%      4.350000\n",
      "50%      4.600000\n",
      "75%      4.775000\n",
      "max      5.000000\n",
      "dtype: float64\n"
     ]
    }
   ],
   "source": [
    "#Método óptimo\n",
    "def serie(notas):\n",
    "    notas = pd.Series(notas)\n",
    "    return notas.describe()\n",
    "    \n",
    "notas={\"David\":3.9,\"Liz\":4.5,\"Manuela\":4.7,\"Mateo\":5.0}\n",
    "print(serie(notas))"
   ]
  },
  {
   "cell_type": "code",
   "execution_count": 7,
   "metadata": {},
   "outputs": [
    {
     "name": "stdout",
     "output_type": "stream",
     "text": [
      "Andrés    4.5\n",
      "Felipe    3.2\n",
      "dtype: float64\n"
     ]
    }
   ],
   "source": [
    "\"\"\"Escribir una función que reciba un diccionario con las notas de los alumnos de un curso y devuelva una serie con las \n",
    "notas de los alumnos aprobados ordenadas de mayor a menor.\"\"\"\n",
    "def aprobados(notas):\n",
    "    notas=pd.Series(notas)\n",
    "    return notas[notas>=3].sort_values(ascending=False)\n",
    "\n",
    "notas={'Felipe':3.2,'Andrés':4.5,'Manuel':2.8,'Laura':1.3}\n",
    "print(aprobados(notas))"
   ]
  },
  {
   "cell_type": "code",
   "execution_count": null,
   "metadata": {},
   "outputs": [],
   "source": [
    "\"\"\"Escribir programa que genere y muestre por pantalla un DataFrame con los datos de la tabla siguiente:\"\"\""
   ]
  },
  {
   "cell_type": "markdown",
   "metadata": {},
   "source": [
    "| Mes     | Ventas | Gastos |\n",
    "| ------- | -----: | -----: |\n",
    "| Enero   |  30500 |  22000 |\n",
    "| Febrero |  35600 |  23400 |\n",
    "| Marzo   |  28300 |  18100 |\n",
    "| Abril   |  33900 |  20700 |"
   ]
  },
  {
   "cell_type": "code",
   "execution_count": 4,
   "metadata": {},
   "outputs": [
    {
     "name": "stdout",
     "output_type": "stream",
     "text": [
      "       Mes  Ventas  Gastos\n",
      "0    Enero   30500   22000\n",
      "1  Febrero   35600   23400\n",
      "2    Marzo   28300   18100\n",
      "3    Abril   33900   20700\n"
     ]
    }
   ],
   "source": [
    "datos = {'Mes':['Enero','Febrero','Marzo','Abril'],'Ventas':[30500,35600,28300,33900],'Gastos':[22000,23400,18100,20700]}\n",
    "df = pd.DataFrame(datos)\n",
    "print(df)"
   ]
  },
  {
   "cell_type": "code",
   "execution_count": 8,
   "metadata": {},
   "outputs": [
    {
     "name": "stdout",
     "output_type": "stream",
     "text": [
      "       Mes  Ventas  Gastos\n",
      "0    Enero   30500   22000\n",
      "1  Febrero   35600   23400\n",
      "2    Marzo   28300   18100\n",
      "3    Abril   33900   20700\n"
     ]
    }
   ],
   "source": [
    "#Solución 2\n",
    "datos = [['Enero',30500,22000],['Febrero',35600,23400],['Marzo',28300,18100],['Abril',33900,20700]]\n",
    "df = pd.DataFrame(datos, columns=['Mes','Ventas','Gastos'])\n",
    "print(df)"
   ]
  },
  {
   "cell_type": "code",
   "execution_count": 14,
   "metadata": {},
   "outputs": [
    {
     "name": "stdout",
     "output_type": "stream",
     "text": [
      "18700\n"
     ]
    }
   ],
   "source": [
    "\"\"\"Escribir una función que reciba un DataFrame con el formato del ejercicio anterior, una lista de meses, y devuelva el balance \n",
    "(ventas - gastos) total en los meses indicados.\"\"\"\n",
    "\n",
    "datos = {'Mes':['Enero','Febrero','Marzo','Abril'],'Ventas':[30500,35600,28300,33900],'Gastos':[22000,23400,18100,20700]}\n",
    "df = pd.DataFrame(datos)\n",
    "\n",
    "def balance(df,meses):\n",
    "    df['Balance'] = df.Ventas - df.Gastos\n",
    "    return df[df.Mes.isin(meses)].Balance.sum()\n",
    "\n",
    "print(balance(df,['Enero','Marzo']))"
   ]
  },
  {
   "cell_type": "code",
   "execution_count": 15,
   "metadata": {},
   "outputs": [
    {
     "name": "stdout",
     "output_type": "stream",
     "text": [
      "18700\n"
     ]
    }
   ],
   "source": [
    "#Solución 2\n",
    "datos = {'Mes':['Enero','Febrero','Marzo','Abril'],'Ventas':[30500,35600,28300,33900],'Gastos':[22000,23400,18100,20700]}\n",
    "df = pd.DataFrame(datos)\n",
    "\n",
    "def balance(df,meses):\n",
    "    df['Balance'] = df.Ventas - df.Gastos\n",
    "    return df.set_index('Mes').loc[meses,'Balance'].sum()\n",
    "\n",
    "print(balance(df,['Enero','Marzo']))"
   ]
  },
  {
   "cell_type": "code",
   "execution_count": null,
   "metadata": {},
   "outputs": [],
   "source": [
    "\"\"\"El fichero cotizacion.csv contiene las cotizaciones de las empresas del IBEX35 con las siguientes columnas: nombre (nombre de la empresa), \n",
    "Final (precio de la acción al cierre de bolsa), Máximo (precio máximo de la acción durante la jornada), Mínimo (precio mínimo de la acción durante \n",
    "la jornada), volumen (Volumen al cierre de bolsa), Efectivo (capitalización al cierre en miles de euros). Construir una función que construya un \n",
    "DataFrame a partir del un fichero con el formato anterior y devuelva otro DataFrame con el mínimo, el máximo y la media de dada columna.\"\"\""
   ]
  },
  {
   "cell_type": "code",
   "execution_count": null,
   "metadata": {},
   "outputs": [],
   "source": [
    "\"\"\"El fichero titanic.csv contiene información sobre los pasajeros del Titanic. Escribir un programa con los siguientes requisitos:\n",
    "\n",
    "Generar un DataFrame con los datos del fichero.\n",
    "Mostrar por pantalla las dimensiones del DataFrame, el número de datos que contiene, los nombres de sus columnas y filas, los tipos de datos de las columnas, las 10 primeras filas y las 10 últimas filas\n",
    "Mostrar por pantalla los datos del pasajero con identificador 148.\n",
    "Mostrar por pantalla las filas pares del DataFrame.\n",
    "Mostrar por pantalla los nombres de las personas que iban en primera clase ordenadas alfabéticamente.\n",
    "Mostrar por pantalla el porcentaje de personas que sobrevivieron y murieron.\n",
    "Mostrar por pantalla el porcentaje de personas que sobrevivieron en cada clase.\n",
    "Eliminar del DataFrame los pasajeros con edad desconocida.\n",
    "Mostrar por pantalla la edad media de las mujeres que viajaban en cada clase.\n",
    "Añadir una nueva columna booleana para ver si el pasajero era menor de edad o no.\n",
    "Mostrar por pantalla el porcentaje de menores y mayores de edad que sobrevivieron en cada clase.\"\"\""
   ]
  },
  {
   "cell_type": "code",
   "execution_count": null,
   "metadata": {},
   "outputs": [],
   "source": [
    "\"\"\"Los ficheros emisiones-2016.csv, emisiones-2017.csv, emisiones-2018.csv y emisiones-2019.csv, contienen datos sobre las emisiones contaminates en la ciudad de Madrid en \n",
    "los años 2016, 2017, 2018 y 2019 respectivamente. Escribir un programa con los siguientes requisitos:\n",
    "\n",
    "Generar un DataFrame con los datos de los cuatro ficheros.\n",
    "Filtrar las columnas del DataFrame para quedarse con las columnas ESTACION, MAGNITUD, AÑO, MES y las correspondientes a los días D01, D02, etc.\n",
    "Reestructurar el DataFrame para que los valores de los contaminantes de las columnas de los días aparezcan en una única columna.\n",
    "Añadir una columna con la fecha a partir de la concatenación del año, el mes y el día (usar el módulo datetime).\n",
    "Eliminar las filas con fechas no válidas (utilizar la función isnat del módulo numpy) y ordenar el DataFrame por estaciones contaminantes y fecha.\n",
    "Mostrar por pantalla las estaciones y los contaminantes disponibles en el DataFrame.\n",
    "Crear una función que reciba una estación, un contaminante y un rango de fechas y devuelva una serie con las emisiones del contaminante dado en la estación y rango de fechas dado.\n",
    "Mostrar un resumen descriptivo (mínimo, máximo, media, etc.) para cada contaminante.\n",
    "Mostrar un resumen descriptivo para cada contaminante por distritos.\n",
    "Crear una función que reciba una estación y un contaminante y devuelva un resumen descriptivo de las emisiones del contaminante indicado en la estación indicada.\n",
    "Crear una función que devuelva las emisiones medias mensuales de un contaminante y un año dados para todos las estaciones.\n",
    "Crear un función que reciba una estación de medición y devuelva un DataFrame con las medias mensuales de los distintos tipos de contaminantes.\"\"\""
   ]
  }
 ],
 "metadata": {
  "kernelspec": {
   "display_name": ".venv",
   "language": "python",
   "name": "python3"
  },
  "language_info": {
   "codemirror_mode": {
    "name": "ipython",
    "version": 3
   },
   "file_extension": ".py",
   "mimetype": "text/x-python",
   "name": "python",
   "nbconvert_exporter": "python",
   "pygments_lexer": "ipython3",
   "version": "3.8.8"
  }
 },
 "nbformat": 4,
 "nbformat_minor": 2
}
