{
 "cells": [
  {
   "cell_type": "code",
   "execution_count": null,
   "metadata": {},
   "outputs": [
    {
     "name": "stdout",
     "output_type": "stream",
     "text": [
      "['matemáticas', 'física', 'química', 'historia', 'lengua']\n"
     ]
    }
   ],
   "source": [
    "\"\"\"Escribir un programa que almacene las asignaturas de un curso (por ejemplo Matemáticas, Física, Química, Historia y Lengua) en una lista \n",
    "y la muestre por pantalla.\"\"\"\n",
    "\n",
    "lista=[\"matemáticas\", \"física\", \"química\", \"historia\", \"lengua\"]\n",
    "print(lista)"
   ]
  },
  {
   "cell_type": "code",
   "execution_count": 4,
   "metadata": {},
   "outputs": [
    {
     "name": "stdout",
     "output_type": "stream",
     "text": [
      "Yo estudio matemáticas\n",
      "Yo estudio física\n",
      "Yo estudio química\n",
      "Yo estudio historia\n",
      "Yo estudio lengua\n"
     ]
    }
   ],
   "source": [
    "\"\"\"Escribir un programa que almacene las asignaturas de un curso (por ejemplo Matemáticas, Física, Química, Historia y Lengua) en una lista \n",
    "y la muestre por pantalla el mensaje Yo estudio <asignatura>, donde <asignatura> es cada una de las asignaturas de la lista.\"\"\"\n",
    "\n",
    "lista=[\"matemáticas\", \"física\", \"química\", \"historia\", \"lengua\"]\n",
    "for i in lista: \n",
    "    print(\"Yo estudio \" + i)"
   ]
  },
  {
   "cell_type": "code",
   "execution_count": null,
   "metadata": {},
   "outputs": [
    {
     "name": "stdout",
     "output_type": "stream",
     "text": [
      "En  matemáticas has sacado 4\n",
      "En  física has sacado 3.8\n",
      "En  química has sacado 3.5\n",
      "En  historia has sacado 4.1\n",
      "En  lengua has sacado 4.4\n"
     ]
    }
   ],
   "source": [
    "\"\"\"Escribir un programa que almacene las asignaturas de un curso (por ejemplo Matemáticas, Física, Química, Historia y Lengua) en una lista, pregunte \n",
    "al usuario la nota que ha sacado en cada asignatura, y después las muestre por pantalla con el mensaje En <asignatura> has sacado <nota> donde <asignatura> \n",
    "es cada una des las asignaturas de la lista y <nota> cada una de las correspondientes notas introducidas por el usuario.\"\"\"\n",
    "\n",
    "lista=[\"matemáticas\", \"física\", \"química\", \"historia\", \"lengua\"]\n",
    "notas=[]\n",
    "for materia in lista:\n",
    "    nota=input(\"Indique su nota en \" + str(materia))\n",
    "    notas.append(nota)\n",
    "\n",
    "for i in range(len(lista)):\n",
    "    print(\"En \", str(lista[i]) + \" has sacado \" + str(notas[i]))"
   ]
  },
  {
   "cell_type": "code",
   "execution_count": 5,
   "metadata": {},
   "outputs": [
    {
     "name": "stdout",
     "output_type": "stream",
     "text": [
      "Los números ganadores son: [147, 789, 963]\n"
     ]
    }
   ],
   "source": [
    "\"\"\"Escribir un programa que pregunte al usuario los números ganadores de la lotería primitiva, los almacene en una lista y los muestre \n",
    "por pantalla ordenados de menor a mayor.\"\"\"\n",
    "\n",
    "lista=[]\n",
    "for i in range(3):\n",
    "    lista.append(int(input(\"Ingrese los números ganadores de la lotería:\")))\n",
    "lista.sort()\n",
    "print(\"Los números ganadores son: \" + str(lista))"
   ]
  },
  {
   "cell_type": "code",
   "execution_count": 25,
   "metadata": {},
   "outputs": [
    {
     "name": "stdout",
     "output_type": "stream",
     "text": [
      "10,9,8,7,6,5,4,3,2,1,"
     ]
    }
   ],
   "source": [
    "\"\"\"Escribir un programa que almacene en una lista los números del 1 al 10 y los muestre por pantalla en orden inverso separados por comas.\"\"\"\n",
    "\n",
    "lista=[1,2,3,4,5,6,7,8,9,10]\n",
    "for i in lista:\n",
    "    print(lista[-i], end=\",\")"
   ]
  },
  {
   "cell_type": "code",
   "execution_count": 59,
   "metadata": {},
   "outputs": [
    {
     "name": "stdout",
     "output_type": "stream",
     "text": [
      "Usted debe repetir: ['química', 'historia']\n"
     ]
    }
   ],
   "source": [
    "\"\"\"Escribir un programa que almacene las asignaturas de un curso (por ejemplo Matemáticas, Física, Química, Historia y Lengua) en una lista,\n",
    "pregunte al usuario la nota que ha sacado en cada asignatura y elimine de la lista las asignaturas aprobadas. Al final el programa debe mostrar\n",
    "por pantalla las asignaturas que el usuario tiene que repetir.\"\"\"\n",
    "\n",
    "#Solución al punto 6 indicada por la máquina.\n",
    "lista=[\"matemáticas\", \"física\", \"química\", \"historia\", \"lengua\"]\n",
    "aprobadas=[]\n",
    "for i in lista:\n",
    "    nota=float(input(\"Ingrese su calificación en \" + i))\n",
    "    if nota>=3:\n",
    "        aprobadas.append(i)\n",
    "    \n",
    "for i in aprobadas:\n",
    "    lista.remove(i)\n",
    "\n",
    "print(\"Usted debe repetir:\" , str(lista))"
   ]
  },
  {
   "cell_type": "code",
   "execution_count": 48,
   "metadata": {},
   "outputs": [
    {
     "name": "stdout",
     "output_type": "stream",
     "text": [
      "Usted debe repertir lengua\n"
     ]
    }
   ],
   "source": [
    "#Este es mi primer intento. Falló ya que al ingresar las calificaciones y estas cumplir con la condición, se eliminaban registros y eso desordenaba el indice\n",
    "# lo que no permitía ingresar la nota a todas las materias. \n",
    "lista=[\"matemáticas\", \"física\", \"química\", \"historia\", \"lengua\"]\n",
    "\n",
    "for i in lista: #Es mejor reorganizar desde atrás para adelante\n",
    "    nota=float(input(\"Ingrese su calificación en \" + i))\n",
    "    if nota>=3:\n",
    "        lista.remove(i) \n",
    "\n",
    "print(\"Usted debe repertir \" + i)"
   ]
  },
  {
   "cell_type": "code",
   "execution_count": 27,
   "metadata": {},
   "outputs": [
    {
     "name": "stdout",
     "output_type": "stream",
     "text": [
      "Usted debe repetir: ['física', 'química']\n"
     ]
    }
   ],
   "source": [
    "#Correccion a mi intento.\n",
    "\n",
    "lista=[\"matemáticas\", \"física\", \"química\", \"historia\", \"lengua\"]\n",
    "\n",
    "for i in range(len(lista)-1, -1, -1): \n",
    "    nota=float(input(\"Ingrese su calificación en: \" + lista[i]))\n",
    "    if nota>=3:\n",
    "        lista.pop(i) \n",
    "print(\"Usted debe repetir:\", lista)"
   ]
  },
  {
   "cell_type": "code",
   "execution_count": null,
   "metadata": {},
   "outputs": [
    {
     "name": "stdout",
     "output_type": "stream",
     "text": [
      "['a', 'b', 'd', 'e', 'g', 'h', 'j', 'k', 'm', 'n', 'o', 'p', 'r', 's', 'u', 'v', 'x', 'y']\n"
     ]
    }
   ],
   "source": [
    "\"\"\"Escribir un programa que almacene el abecedario en una lista, elimine de la lista las letras que ocupen posiciones múltiplos de 3, y \n",
    "muestre por pantalla la lista resultante.\"\"\"\n",
    "abecedario=['a', 'b', 'c', 'd', 'e', 'f', 'g', 'h', 'i', 'j', 'k', 'l', 'm', 'n', 'ñ', 'o', 'p', 'q', 'r', 's', 't', 'u', 'v', 'w', 'x', 'y', 'z'] #Las posiciones siempre se cuentan desde el 0.\n",
    "for i in range(len(abecedario),0,-1): #Para efectos de la solución del problema, se necesita que el último número sea 27 para realizar correctamente la depuración, en ese caso \n",
    "#el primer número no puede ser -1 --> range(len(abecedario),-1,-1): como si lo fue en el ejercicio anterior.\n",
    "    if i%3==0:\n",
    "        abecedario.pop(i-1) #Se coloca i-1 ya que las posiciones en la lista están dadas desde el 0, para este caso sería desde 0 hasta 26 (equivalente a 27 posiciones).\n",
    "print(abecedario)"
   ]
  },
  {
   "cell_type": "code",
   "execution_count": null,
   "metadata": {},
   "outputs": [
    {
     "name": "stdout",
     "output_type": "stream",
     "text": [
      "La palabra ['h', 'o', 'l', 'a'] no es un palindromo\n"
     ]
    }
   ],
   "source": [
    "\"\"\"Escribir un programa que pida al usuario una palabra y muestre por pantalla si es un palíndromo.\"\"\"\n",
    "\n",
    "palabra=str(input(\"Escriba una palabra: \"))\n",
    "reversed_palabra= palabra\n",
    "palabra=list(palabra)\n",
    "reversed_palabra=list(reversed_palabra)\n",
    "reversed_palabra.reverse()\n",
    "if palabra==reversed_palabra:\n",
    "    print(\"La palabra\", str(palabra), \"es un palindromo\", sep=\" \")\n",
    "else: \n",
    "    print(\"La palabra\", str(palabra), \"no es un palindromo\", sep=\" \")"
   ]
  },
  {
   "cell_type": "code",
   "execution_count": 6,
   "metadata": {},
   "outputs": [
    {
     "name": "stdout",
     "output_type": "stream",
     "text": [
      "La vocal: a aparece 1 veces en la palabra: hola\n",
      "La vocal: e aparece 0 veces en la palabra: hola\n",
      "La vocal: i aparece 0 veces en la palabra: hola\n",
      "La vocal: o aparece 1 veces en la palabra: hola\n",
      "La vocal: u aparece 0 veces en la palabra: hola\n"
     ]
    }
   ],
   "source": [
    "\"Escribir un programa que pida al usuario una palabra y muestre por pantalla el número de veces que contiene cada vocal.\"\n",
    "\n",
    "palabra=str(input(\"Ingrese una palabra: \"))\n",
    "vocal=['a','e','i','o','u']\n",
    "for i in vocal:\n",
    "    contador = 0\n",
    "    for j in palabra:\n",
    "        if i == j:\n",
    "            contador += 1\n",
    "    print(\"La vocal: \" + i + \" aparece \" + str(contador) + \" veces en la palabra: \" + palabra)"
   ]
  },
  {
   "cell_type": "code",
   "execution_count": 14,
   "metadata": {},
   "outputs": [
    {
     "name": "stdout",
     "output_type": "stream",
     "text": [
      "El precio más alto es: 80\n",
      "El precio más bajo es: 8\n"
     ]
    }
   ],
   "source": [
    "\"\"\"Escribir un programa que almacene en una lista los siguientes precios, 50, 75, 46, 22, 80, 65, 8, y muestre por pantalla el menor y \n",
    "el mayor de los precios.\"\"\"\n",
    "\n",
    "precios=[50,75,46,22,80,65,8]\n",
    "min=max=precios[0]\n",
    "for i in precios:\n",
    "    if i<min:\n",
    "        min=i\n",
    "    elif i>max:\n",
    "        max=i\n",
    "print(\"El precio más alto es:\", max, sep=\" \")\n",
    "print(\"El precio más bajo es:\", min, sep=\" \")\n",
    "        "
   ]
  },
  {
   "cell_type": "code",
   "execution_count": 2,
   "metadata": {},
   "outputs": [
    {
     "name": "stdout",
     "output_type": "stream",
     "text": [
      "El producto escalar de estos dos vectores: (1, 2, 3) y (-1, 0, 2) es 5\n"
     ]
    }
   ],
   "source": [
    "\"\"\"Escribir un programa que almacene los vectores (1,2,3) y (-1,0,2) en dos tuplas y muestre por pantalla su producto escalar.\"\"\"\n",
    "\n",
    "v1= (1,2,3)\n",
    "v2= (-1,0,2)\n",
    "p_escalar = 0\n",
    "for i in range(len(v1)):\n",
    "    p_escalar += v1[i]*v2[i]\n",
    "print(\"El producto escalar de estos dos vectores:\", v1, \"y\", v2, \"es\", p_escalar, sep=\" \")"
   ]
  },
  {
   "cell_type": "code",
   "execution_count": null,
   "metadata": {},
   "outputs": [],
   "source": [
    "\"\"\"Escribir un programa que almacene las matrices (mirar a continuación) en una tupla y muestre por pantalla su producto.\n",
    "Nota: Para representar matrices mediante tuplas usar tuplas anidadas, representando cada vector fila en una tupla.\"\"\"\n"
   ]
  },
  {
   "cell_type": "markdown",
   "metadata": {},
   "source": [
    "$$\n",
    "A = \\left(\n",
    "  \\begin{array}{rrr}\n",
    "  1 & 2 & 3\\\\\n",
    "  4 & 5 & 6\n",
    "  \\end{array}\n",
    "  \\right)\n",
    "  \\quad  y\n",
    "  \\quad\n",
    "  B = \\left(\n",
    "  \\begin{array}{rr}\n",
    "  -1 & 0\\\\\n",
    "  0 & 1\\\\\n",
    "  1 & 1\n",
    "  \\end{array}\n",
    "  \\right)\n",
    "$$\n"
   ]
  },
  {
   "cell_type": "code",
   "execution_count": 4,
   "metadata": {},
   "outputs": [
    {
     "name": "stdout",
     "output_type": "stream",
     "text": [
      "(2, 5)\n",
      "(2, 11)\n"
     ]
    }
   ],
   "source": [
    "a = ((1, 2, 3),\n",
    "     (4, 5, 6))\n",
    "b = ((-1, 0),\n",
    "     (0, 1),\n",
    "     (1, 1))\n",
    "producto = [[0,0],\n",
    "            [0,0]]\n",
    "for i in range(len(a)):\n",
    "    for j in range(len(b[0])):\n",
    "        for k in range(len(b)):\n",
    "            producto[i][j]+=a[i][k] * b[k][j]\n",
    "for i in range(len(producto)):\n",
    "    producto[i]=tuple(producto[i])\n",
    "producto=tuple(producto)\n",
    "for i in range(len(producto)):\n",
    "    print(producto[i])"
   ]
  },
  {
   "cell_type": "code",
   "execution_count": null,
   "metadata": {},
   "outputs": [
    {
     "name": "stdout",
     "output_type": "stream",
     "text": [
      "('11', '71')\n"
     ]
    }
   ],
   "source": [
    "\"\"\"Escribir un programa que pregunte por una muestra de números, separados por comas, los guarde en una tupla y muestre por \n",
    "pantalla su media y desviación típica.\"\"\"\n",
    "#Intento 1\n",
    "v1=input(\"Ingrese una muestra de números separados por ',':\")\n",
    "v1=v1.split(',')\n",
    "v1=tuple(v1)\n",
    "print((v1))  #Cuando se imprimen los resultados, la tupla no está compuesta por números sino string. Qué se debe hacer para convertir \n",
    "#los elementos en string??  mirar abajo--> (1)."
   ]
  },
  {
   "cell_type": "code",
   "execution_count": 2,
   "metadata": {},
   "outputs": [
    {
     "name": "stdout",
     "output_type": "stream",
     "text": [
      "La media es: 30.0 y la desviación típica o estandar es: 19.0\n"
     ]
    }
   ],
   "source": [
    "v1=input(\"Ingrese una muestra de números separados por ',':\")\n",
    "v1=v1.split(',')\n",
    "n=len(v1)\n",
    "for i in range(n): #--> (1)\n",
    "    v1[i]=int(v1[i])\n",
    "v1=tuple(v1)\n",
    "suma=0\n",
    "suma_sq = 0\n",
    "for i in v1:\n",
    "    suma += i\n",
    "    suma_sq += i**2\n",
    "media=suma/n\n",
    "desv_std=(suma_sq/n-media**2)**(1/2)\n",
    "print(\"La media es:\", media, \"y la desviación típica o estandar es:\", desv_std, sep=\" \")\n"
   ]
  }
 ],
 "metadata": {
  "kernelspec": {
   "display_name": ".venv",
   "language": "python",
   "name": "python3"
  },
  "language_info": {
   "codemirror_mode": {
    "name": "ipython",
    "version": 3
   },
   "file_extension": ".py",
   "mimetype": "text/x-python",
   "name": "python",
   "nbconvert_exporter": "python",
   "pygments_lexer": "ipython3",
   "version": "3.8.8"
  }
 },
 "nbformat": 4,
 "nbformat_minor": 2
}
