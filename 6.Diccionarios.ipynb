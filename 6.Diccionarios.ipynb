{
 "cells": [
  {
   "cell_type": "code",
   "execution_count": 18,
   "metadata": {},
   "outputs": [
    {
     "name": "stdout",
     "output_type": "stream",
     "text": [
      "La divisa  no está en el diccionario\n",
      "La divisa  no está en el diccionario\n",
      "La divisa  no está en el diccionario\n"
     ]
    }
   ],
   "source": [
    "\"\"\"Escribir un programa que guarde en una variable el diccionario {'Euro':'€', 'Dollar':'$', 'Yen':'¥'}, pregunte al usuario por una \n",
    "divisa y muestre su símbolo o un mensaje de aviso si la divisa no está en el diccionario.\"\"\"\n",
    "#Intento solución punto 1\n",
    "dicc={'Euro':'€', 'Dollar':'$', 'Yen':'¥'}\n",
    "divisa=input(\"Indique una divisa\") #Se ingresó la palabra \"Dolar\"\n",
    "for i in dicc:\n",
    "    if divisa.title()==i:\n",
    "        print(dicc[i])\n",
    "        break\n",
    "    else:\n",
    "        print(\"La divisa \" + str(divisa) + \" no está en el diccionario\") "
   ]
  },
  {
   "cell_type": "code",
   "execution_count": 19,
   "metadata": {},
   "outputs": [
    {
     "name": "stdout",
     "output_type": "stream",
     "text": [
      "€\n"
     ]
    }
   ],
   "source": [
    "#Solución 1 según la máquina\n",
    "dicc={'Euro':'€', 'Dollar':'$', 'Yen':'¥'}\n",
    "divisa=input(\"Indique una divisa\")\n",
    "print(dicc.get(divisa.title(), \"La divisa no está\"))"
   ]
  },
  {
   "cell_type": "code",
   "execution_count": 20,
   "metadata": {},
   "outputs": [
    {
     "name": "stdout",
     "output_type": "stream",
     "text": [
      "¥\n"
     ]
    }
   ],
   "source": [
    "#Solución 2 según la máquina\n",
    "dicc={'Euro':'€', 'Dollar':'$', 'Yen':'¥'}\n",
    "divisa=input(\"Indique una divisa\")\n",
    "if divisa.title() in dicc:\n",
    "    print(dicc[divisa.title()])\n",
    "else:\n",
    "    print(\"La divisa no está en el diccionario\")"
   ]
  },
  {
   "cell_type": "code",
   "execution_count": 29,
   "metadata": {},
   "outputs": [
    {
     "name": "stdout",
     "output_type": "stream",
     "text": [
      "David tiene 28 años, vive en California de El Poblado y su número de teléfono es 3002120894\n"
     ]
    }
   ],
   "source": [
    "\"\"\"Escribir un programa que pregunte al usuario su nombre, edad, dirección y teléfono y lo guarde en un diccionario. \n",
    "Después debe mostrar por pantalla el mensaje <nombre> tiene <edad> años, vive en <dirección> y su número de teléfono es <teléfono>.\"\"\"\n",
    "\n",
    "nombre=input(\"Indique su nombre:\")\n",
    "edad=input(\"Indique su edad:\")\n",
    "direccion=input(\"Indique su dirección:\")\n",
    "telefono=input(\"Indique su teléfono:\")\n",
    "dicc={\"nombre\":nombre,\"edad\":edad,\"dirección\":direccion,\"teléfono\":telefono}\n",
    "print(dicc[\"nombre\"], \"tiene\", dicc[\"edad\"], \"años, vive en\", dicc[\"dirección\"], \"y su número de teléfono es\", dicc[\"teléfono\"])"
   ]
  },
  {
   "cell_type": "code",
   "execution_count": null,
   "metadata": {},
   "outputs": [],
   "source": [
    "\"\"\"Escribir un programa que guarde en un diccionario los precios de las frutas de la tabla, pregunte al usuario por una fruta, \n",
    "un número de kilos y muestre por pantalla el precio de ese número de kilos de fruta. Si la fruta no está en el diccionario debe \n",
    "mostrar un mensaje informando de ello.\"\"\""
   ]
  },
  {
   "cell_type": "markdown",
   "metadata": {},
   "source": [
    "| Fruta | Precio|\n",
    "|:-|:-:|\n",
    "|Plátano | 1.35 |\n",
    "|Manzana | 0.80|\n",
    "|Pera| 0.85|\n",
    "|Naranja | 0.70|\n"
   ]
  },
  {
   "cell_type": "code",
   "execution_count": null,
   "metadata": {},
   "outputs": [
    {
     "name": "stdout",
     "output_type": "stream",
     "text": [
      "El precio que debe pagar por los 3.2 kilos de manzana es: 2.56 USD\n"
     ]
    }
   ],
   "source": [
    "dicc={\"Plátano\":1.35,\"Manzana\":0.8,\"Pera\":0.85,\"Naranja\":0.7}\n",
    "fruta=input(\"Indique que fruta quiere:\")\n",
    "\n",
    "if fruta.title() in dicc.keys():\n",
    "    kg=float(input(\"Cuantos kilos quiere:\"))\n",
    "    print(\"El precio que debe pagar por los\", kg, \"kilos de\", fruta, \"es:\", round(dicc[fruta.title()]*kg,2), \"USD\", sep=\" \")\n",
    "else:\n",
    "    print(fruta,\"no está entre los productos que ofrecemos.\", sep=\" \")"
   ]
  },
  {
   "cell_type": "code",
   "execution_count": null,
   "metadata": {},
   "outputs": [
    {
     "name": "stdout",
     "output_type": "stream",
     "text": [
      "20 de Enero de 1996\n"
     ]
    }
   ],
   "source": [
    "\"\"\"Escribir un programa que pregunte una fecha en formato dd/mm/aaaa y muestre por pantalla la misma fecha en formato dd de <mes> \n",
    "de aaaa donde <mes> es el nombre del mes.\"\"\"\n",
    "#No tuve en cuenta que ya puedo trabajar con listas. No era necesario trabajar con sentencias de cadenas.\n",
    "fecha=input(\"Indique una fecha en formato: dd/mm/aaaa\")\n",
    "dia=fecha[:fecha.find(\"/\")]\n",
    "mes_anio=fecha[fecha.find(\"/\")+1:]\n",
    "mes=mes_anio[:mes_anio.find(\"/\")]\n",
    "anio=mes_anio[mes_anio.find(\"/\")+1:]\n",
    "dicc={\"dia\":dia,\"mes\":mes,\"año\":anio}\n",
    "dicc_mes={\"01\":\"Enero\",\"02\":\"Febrero\",\"03\":\"Marzo\",\"04\":\"Abril\",\"05\":\"Mayo\",\"06\":\"Junio\",\"07\":\"Julio\",\"08\":\"Agosto\",\"09\":\"Septiembre\",\"10\":\"Octubre\",\"11\":\"Noviembre\",\"12\":\"Diciembre\"}\n",
    "print(dicc[\"dia\"], \"de\", dicc_mes[mes], \"de\", dicc[\"año\"])"
   ]
  },
  {
   "cell_type": "code",
   "execution_count": 52,
   "metadata": {},
   "outputs": [
    {
     "name": "stdout",
     "output_type": "stream",
     "text": [
      "20 de Enero de 1996\n"
     ]
    }
   ],
   "source": [
    "#Solución de la máquina\n",
    "dicc_mes={1:\"Enero\",2:\"Febrero\",3:\"Marzo\",4:\"Abril\",5:\"Mayo\",6:\"Junio\",7:\"Julio\",8:\"Agosto\",9:\"Septiembre\",10:\"Octubre\",11:\"Noviembre\",12:\"Diciembre\"}\n",
    "fecha=input(\"Indique una fecha en formato: dd/mm/aaaa\")\n",
    "fecha=fecha.split(\"/\")\n",
    "print(fecha[0], \"de\", dicc_mes[int(fecha[1])], \"de\", fecha[2])"
   ]
  },
  {
   "cell_type": "code",
   "execution_count": 53,
   "metadata": {},
   "outputs": [
    {
     "name": "stdout",
     "output_type": "stream",
     "text": [
      "Matemáticas tiene 6 créditos\n",
      "Física tiene 4 créditos\n",
      "Química tiene 5 créditos\n",
      "El total de créditos del curso es: 15\n"
     ]
    }
   ],
   "source": [
    "\"\"\"Escribir un programa que almacene el diccionario con los créditos de las asignaturas de un curso \n",
    "{'Matemáticas': 6, 'Física': 4, 'Química': 5} y después muestre por pantalla los créditos de cada asignatura en el formato <asignatura> \n",
    "tiene <créditos> créditos, donde <asignatura> es cada una de las asignaturas del curso, y <créditos> son sus créditos. \n",
    "Al final debe mostrar también el número total de créditos del curso.\"\"\"\n",
    "\n",
    "dicc={'Matemáticas': 6, 'Física': 4, 'Química': 5} \n",
    "creditos=0\n",
    "for i in dicc: \n",
    "    print(i, \"tiene\", dicc[i], \"créditos\")\n",
    "    creditos += dicc[i]\n",
    "print(\"El total de créditos del curso es:\", creditos, sep=\" \")"
   ]
  },
  {
   "cell_type": "code",
   "execution_count": 54,
   "metadata": {},
   "outputs": [
    {
     "name": "stdout",
     "output_type": "stream",
     "text": [
      "Matemáticas tiene 6 créditos.\n",
      "Física tiene 4 créditos.\n",
      "Química tiene 5 créditos.\n",
      "El número total de créditos del curso es: 15\n"
     ]
    }
   ],
   "source": [
    "#Solución de la máquina. Usa la palabra reservada items() que es la manera abreviada de resolverlo.\n",
    "dicc={'Matemáticas': 6, 'Física': 4, 'Química': 5} \n",
    "total_creditos=0\n",
    "for materia, creditos in dicc.items():\n",
    "    total_creditos += creditos\n",
    "    print(materia, \"tiene\", creditos, \"créditos.\")\n",
    "print(\"El número total de créditos del curso es:\", total_creditos, sep=\" \")\n"
   ]
  },
  {
   "cell_type": "code",
   "execution_count": null,
   "metadata": {},
   "outputs": [
    {
     "name": "stdout",
     "output_type": "stream",
     "text": [
      "{'nombre': 'David'}\n",
      "{'nombre': 'David', 'edad': '28'}\n",
      "{'nombre': 'David', 'edad': '28', 'sexo': 'Masculino'}\n",
      "{'nombre': 'David', 'edad': '28', 'sexo': 'Masculino', 'telefono': '3002120894'}\n",
      "{'nombre': 'David', 'edad': '28', 'sexo': 'Masculino', 'telefono': '3002120894', 'correo': 'zuletamoralesdavid@gmail.com'}\n"
     ]
    }
   ],
   "source": [
    "\"\"\"Escribir un programa que cree un diccionario vacío y lo vaya llenado con información sobre una persona (por ejemplo nombre, edad, \n",
    "sexo, teléfono, correo electrónico, etc.) que se le pida al usuario. Cada vez que se añada un nuevo dato debe imprimirse el contenido \n",
    "del diccionario.\"\"\"\n",
    "dicc={}\n",
    "dicc['nombre']=input(\"Cuál es su nombre?\")\n",
    "print(dicc)\n",
    "dicc['edad']=input(\"Cuál es tu edad?\")\n",
    "print(dicc)\n",
    "dicc['sexo']=input(\"Cuál es tu sexo?\")\n",
    "print(dicc)\n",
    "dicc['telefono']=input(\"Cuál es tu número de teléfono?\")\n",
    "print(dicc)\n",
    "dicc['correo']=input(\"Cuál es tu correo?\")\n",
    "print(dicc)"
   ]
  },
  {
   "cell_type": "code",
   "execution_count": 57,
   "metadata": {},
   "outputs": [
    {
     "name": "stdout",
     "output_type": "stream",
     "text": [
      "{'Nombre': 'David'}\n",
      "{'Nombre': 'David', 'Edad': '28'}\n",
      "{'Nombre': 'David', 'Edad': '28', 'Genero': 'Masculino'}\n",
      "{'Nombre': 'David', 'Edad': '28', 'Genero': 'Masculino', 'Teléfono': '3002120894'}\n",
      "{'Nombre': 'David', 'Edad': '28', 'Genero': 'Masculino', 'Teléfono': '3002120894', 'Correo': 'zuletamoralesdavid@gmail.com'}\n"
     ]
    }
   ],
   "source": [
    "#Solución de la máquina. Realmente lo que se requiere es que las preguntas al usuario no estén quemadas en el código.\n",
    "dicc={}\n",
    "continuar=True\n",
    "while continuar:\n",
    "    pregunta=input(\"Qué dato quieres conocer?\")\n",
    "    respuesta=input(str(pregunta)+ \":\")\n",
    "    dicc[pregunta]=respuesta\n",
    "    print(dicc)\n",
    "    continuar=input(\"Quieres continuar realizando preguntas? Sí o No\") == \"Sí\""
   ]
  },
  {
   "cell_type": "code",
   "execution_count": 61,
   "metadata": {},
   "outputs": [
    {
     "name": "stdout",
     "output_type": "stream",
     "text": [
      "Arroz \t 7000\n",
      "Carne \t 15000\n",
      "Lulo \t 5000\n",
      "Huevos \t 12000\n",
      "costo total \t 39000\n"
     ]
    }
   ],
   "source": [
    "\"\"\"Escribir un programa que cree un diccionario simulando una cesta de la compra. El programa debe preguntar el artículo y \n",
    "su precio y añadir el par al diccionario, hasta que el usuario decida terminar. Después se debe mostrar por pantalla la lista de la \n",
    "compra y el coste total, con el siguiente formato\"\"\"\n",
    "dicc={}\n",
    "continuar= True\n",
    "costo_total= 0 \n",
    "while continuar:\n",
    "    articulo=input(\"Qué artículo quiere?\")\n",
    "    precio=int(input(\"Cuál es el precio?\"))\n",
    "    dicc[articulo]=precio\n",
    "    continuar=input(\"Desea llevar más productos? Sí o No\") == \"Sí\"\n",
    "\n",
    "for articulo, precio in dicc.items():\n",
    "    costo_total += precio\n",
    "    print(articulo,\"\\t\",precio)\n",
    "print(\"costo total\",\"\\t\",costo_total)    "
   ]
  },
  {
   "cell_type": "markdown",
   "metadata": {},
   "source": [
    "|Lista de la compra| |\n",
    "|:-|-:|\n",
    "|Artículo 1 | Precio|\n",
    "|Artículo 2 | Precio|\n",
    "|Artículo 3 | Precio|\n",
    "|...| ...|\n",
    "|Total| Coste|\n"
   ]
  },
  {
   "cell_type": "code",
   "execution_count": 69,
   "metadata": {},
   "outputs": [
    {
     "name": "stdout",
     "output_type": "stream",
     "text": [
      "Hello How estás? Fine gracias "
     ]
    }
   ],
   "source": [
    "\"\"\"Escribir un programa que cree un diccionario de traducción español-inglés. El usuario introducirá las palabras en español \n",
    "e inglés separadas por dos puntos, y cada par <palabra>:<traducción> separados por comas. El programa debe crear un diccionario \n",
    "con las palabras y sus traducciones. Después pedirá una frase en español y utilizará el diccionario para traducirla palabra a palabra. \n",
    "Si una palabra no está en el diccionario debe dejarla sin traducir.\"\"\"\n",
    "\n",
    "dicc={}\n",
    "traductor=input(\"Ingrese el diccionario de español-inglés: (Separar las palabras de español y inglés por ':'. También separar los pares de palabras por ',')\")\n",
    "traductor=traductor.split(\",\")\n",
    "for i in traductor:\n",
    "    clave, valor = i.split(\":\")\n",
    "    dicc[clave]=valor\n",
    "frase=input(\"Ingrese una frase en español:\")\n",
    "frase=frase.split(\" \")\n",
    "for i in frase:\n",
    "    if i.title() in dicc.keys():\n",
    "        print(dicc[i.title()], end=\" \")\n",
    "    else:\n",
    "        print(i, end=\" \")\n"
   ]
  },
  {
   "cell_type": "code",
   "execution_count": 78,
   "metadata": {},
   "outputs": [
    {
     "name": "stdout",
     "output_type": "stream",
     "text": [
      "La cantidad cobrada hasta el momento es: 0 \n",
      "La cantidad pendiente de cobro es: 0\n",
      "La cantidad cobrada hasta el momento es: 0 \n",
      "La cantidad pendiente de cobro es: 30000\n",
      "La cantidad cobrada hasta el momento es: 0 \n",
      "La cantidad pendiente de cobro es: 230000\n",
      "La cantidad cobrada hasta el momento es: 0 \n",
      "La cantidad pendiente de cobro es: 380000\n",
      "La cantidad cobrada hasta el momento es: 200000 \n",
      "La cantidad pendiente de cobro es: 180000\n",
      "La cantidad cobrada hasta el momento es: 230000 \n",
      "La cantidad pendiente de cobro es: 150000\n"
     ]
    }
   ],
   "source": [
    "\"\"\"Escribir un programa que gestione las facturas pendientes de cobro de una empresa. Las facturas se almacenarán en un diccionario \n",
    "donde la clave de cada factura será el número de factura y el valor el coste de la factura. El programa debe preguntar al usuario si \n",
    "quiere añadir una nueva factura, pagar una existente o terminar. Si desea añadir una nueva factura se preguntará por el número de factura \n",
    "y su coste y se añadirá al diccionario. Si se desea pagar una factura se preguntará por el número de factura y se eliminará del diccionario. \n",
    "Después de cada operación el programa debe mostrar por pantalla la cantidad cobrada hasta el momento y la cantidad pendiente de cobro.\"\"\"\n",
    "\n",
    "dicc={}\n",
    "continuar=''\n",
    "cantidad_cobrada=0\n",
    "cantidad_pendiente_cobro=0\n",
    "while continuar != 3:\n",
    "    \n",
    "    if continuar == 1:\n",
    "        factura=int(input(\"Ingrese el número de la factura:\"))\n",
    "        valor=int(input(\"Ingrese el costo de la factura:\"))\n",
    "        dicc[factura]=valor\n",
    "        cantidad_pendiente_cobro += valor\n",
    "    elif continuar ==2:\n",
    "        factura=int(input(\"Ingrese el número de la factura:\"))\n",
    "        valor=dicc.pop(factura, 0) #Elimina la clave específica del diccionario y obtiene su valor asociado. Si la clave no existe en el diccionario, devuelve el valor por defecto (0).\n",
    "        cantidad_cobrada += valor\n",
    "        cantidad_pendiente_cobro -= valor\n",
    "        \n",
    "    \n",
    "    print(\"La cantidad cobrada hasta el momento es:\", cantidad_cobrada, \"\\nLa cantidad pendiente de cobro es:\", cantidad_pendiente_cobro, sep=\" \")\n",
    "    continuar=int(input(\"Quiere añadir una nueva factura (1), pagar una existente (2) o terminar(3)?\"))\n",
    "    \n"
   ]
  },
  {
   "cell_type": "code",
   "execution_count": null,
   "metadata": {},
   "outputs": [],
   "source": [
    "\"\"\"Escribir un programa que permita gestionar la base de datos de clientes de una empresa. Los clientes se \n",
    "guardarán en un diccionario en el que la clave de cada cliente será su NIF, y el valor será otro diccionario con los \n",
    "datos del cliente (nombre, dirección, teléfono, correo, preferente), donde preferente tendrá el valor True si se trata\n",
    "de un cliente preferente. El programa debe preguntar al usuario por una opción del siguiente menú: \n",
    "(1) Añadir cliente, (2) Eliminar cliente, (3) Mostrar cliente, (4) Listar todos los clientes, (5) Listar clientes preferentes, \n",
    "(6) Terminar. En función de la opción elegida el programa tendrá que hacer lo siguiente:\n",
    "\n",
    "Preguntar los datos del cliente, crear un diccionario con los datos y añadirlo a la base de datos.\n",
    "Preguntar por el NIF del cliente y eliminar sus datos de la base de datos.\n",
    "Preguntar por el NIF del cliente y mostrar sus datos.\n",
    "Mostrar lista de todos los clientes de la base datos con su NIF y nombre.\n",
    "Mostrar la lista de clientes preferentes de la base de datos con su NIF y nombre.\n",
    "Terminar el programa.\"\"\""
   ]
  },
  {
   "cell_type": "code",
   "execution_count": null,
   "metadata": {},
   "outputs": [],
   "source": [
    "\"\"\"El directorio de los clientes de una empresa está organizado en una cadena de texto como la de más abajo, donde \n",
    "cada línea contiene la información del nombre, email, teléfono, nif, y el descuento que se le aplica. Las líneas se separan \n",
    "con el carácter de cambio de línea \\n y la primera línea contiene los nombres de los campos con la información contenida en \n",
    "el directorio.\"\"\"\n",
    "\n",
    "\"nif;nombre;email;teléfono;descuento\\n01234567L;Luis González;luisgonzalez@mail.com;656343576;12.5\\n71476342J;Macarena Ramírez;macarena@mail.com;692839321;8\\n63823376M;Juan José Martínez;juanjo@mail.com;664888233;5.2\\n98376547F;Carmen Sánchez;carmen@mail.com;667677855;15.7\"\n",
    "\n",
    "\"\"\"Escribir un programa que genere un diccionario con la información del directorio, donde cada elemento corresponda a un cliente y \n",
    "tenga por clave su nif y por valor otro diccionario con el resto de la información del cliente. Los diccionarios con la información de \n",
    "cada cliente tendrán como claves los nombres de los campos y como valores la información de cada cliente correspondientes a los campos. \n",
    "Es decir, un diccionario como el siguiente\"\"\"\n",
    "\n",
    "{'01234567L': {'nombre': 'Luis González', 'email': 'luisgonzalez@mail.com', 'teléfono': '656343576', 'descuento': 12.5}, '71476342J': {'nombre': 'Macarena Ramírez', 'email': 'macarena@mail.com', 'teléfono': '692839321', 'descuento': 8.0}, '63823376M': {'nombre': 'Juan José Martínez', 'email': 'juanjo@mail.com', 'teléfono': '664888233', 'descuento': 5.2}, '98376547F': {'nombre': 'Carmen Sánchez', 'email': 'carmen@mail.com', 'teléfono': '667677855', 'descuento': 15.7}}"
   ]
  }
 ],
 "metadata": {
  "kernelspec": {
   "display_name": ".venv",
   "language": "python",
   "name": "python3"
  },
  "language_info": {
   "codemirror_mode": {
    "name": "ipython",
    "version": 3
   },
   "file_extension": ".py",
   "mimetype": "text/x-python",
   "name": "python",
   "nbconvert_exporter": "python",
   "pygments_lexer": "ipython3",
   "version": "3.8.8"
  }
 },
 "nbformat": 4,
 "nbformat_minor": 2
}
