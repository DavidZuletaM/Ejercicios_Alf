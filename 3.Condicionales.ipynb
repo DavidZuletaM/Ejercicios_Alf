{
 "cells": [
  {
   "cell_type": "code",
   "execution_count": 6,
   "metadata": {},
   "outputs": [
    {
     "name": "stdout",
     "output_type": "stream",
     "text": [
      "Es menor de edad\n"
     ]
    }
   ],
   "source": [
    "\"\"\"Escribir un programa que pregunte al usuario su edad y muestre por pantalla si es mayor de edad o no.\"\"\"\n",
    "\n",
    "edad=int(input(\"Indique su edad: \"))\n",
    "if edad >= 18:\n",
    "    print(\"Es mayor de edad\")\n",
    "else:\n",
    "    print(\"Es menor de edad\")"
   ]
  },
  {
   "cell_type": "code",
   "execution_count": 5,
   "metadata": {},
   "outputs": [
    {
     "name": "stdout",
     "output_type": "stream",
     "text": [
      "La contraseña es incorrecta\n"
     ]
    }
   ],
   "source": [
    "\"\"\"Escribir un programa que almacene la cadena de caracteres contraseña en una variable, pregunte al usuario por la contraseña e imprima por \n",
    "pantalla si la contraseña introducida por el usuario coincide con la guardada en la variable sin tener en cuenta mayúsculas y minúsculas.\"\"\"\n",
    "\n",
    "contraseña= \"Viv!enda\"\n",
    "pregunta=str(input(\"Ingrese su contraseña: \"))\n",
    "if pregunta.lower() == contraseña.lower():\n",
    "    print(\"La contraseña es correcta\")\n",
    "else: print(\"La contraseña es incorrecta\")    \n"
   ]
  },
  {
   "cell_type": "code",
   "execution_count": 6,
   "metadata": {},
   "outputs": [
    {
     "name": "stdout",
     "output_type": "stream",
     "text": [
      "Error. No se puede dividir sobre 0\n"
     ]
    }
   ],
   "source": [
    "\"\"\"Escribir un programa que pida al usuario dos números y muestre por pantalla su división. Si el divisor es cero el programa debe mostrar un error.\"\"\"\n",
    "\n",
    "n1= int(input(\"Ingrese un número: \"))\n",
    "n2= int(input(\"Ingrese un segundo número: \"))\n",
    "\n",
    "if n2 == 0:\n",
    "    print(\"Error. No se puede dividir sobre 0\")\n",
    "else: \n",
    "    print(n1/n2)"
   ]
  },
  {
   "cell_type": "code",
   "execution_count": 10,
   "metadata": {},
   "outputs": [
    {
     "name": "stdout",
     "output_type": "stream",
     "text": [
      "El número 7 es impar\n"
     ]
    }
   ],
   "source": [
    "\"\"\"Escribir un programa que pida al usuario un número entero y muestre por pantalla si es par o impar.\"\"\"\n",
    "\n",
    "n=int(input(\"Ingrese un número entero: \"))\n",
    "res=(n % 2)\n",
    "if res == 0:\n",
    "    print(\"El número \" + str(n) + \" es par\")\n",
    "    \n",
    "else:\n",
    "    print(\"El número \" + str(n) + \" es impar\")\n",
    "    "
   ]
  },
  {
   "cell_type": "code",
   "execution_count": 16,
   "metadata": {},
   "outputs": [
    {
     "name": "stdout",
     "output_type": "stream",
     "text": [
      "Usted no debe tributar\n"
     ]
    }
   ],
   "source": [
    "\"\"\"Para tributar un determinado impuesto se debe ser mayor de 16 años y tener unos ingresos iguales o superiores a 1000 € mensuales. \n",
    "Escribir un programa que pregunte al usuario su edad y sus ingresos mensuales y muestre por pantalla si el usuario tiene que tributar o no.\"\"\"\n",
    "\n",
    "edad= int(input(\"Ingrese su edad: \"))\n",
    "ingresos= int(input(\"Ingrese sus ingresos mensuales: \"))\n",
    "\n",
    "if edad > 16 and ingresos >= 1000: \n",
    "    print(\"Usted debe tributar\")\n",
    "    \n",
    "else: \n",
    "    print(\"Usted no debe tributar\")"
   ]
  },
  {
   "cell_type": "code",
   "execution_count": null,
   "metadata": {},
   "outputs": [
    {
     "name": "stdout",
     "output_type": "stream",
     "text": [
      "Pertenece al grupo A\n"
     ]
    }
   ],
   "source": [
    "\"\"\"Los alumnos de un curso se han dividido en dos grupos A y B de acuerdo al sexo y el nombre. El grupo A esta formado por las \n",
    "mujeres con un nombre anterior a la M y los hombres con un nombre posterior a la N y el grupo B por el resto. Escribir un programa \n",
    "que pregunte al usuario su nombre y sexo, y muestre por pantalla el grupo que le corresponde.\"\"\"\n",
    "\n",
    "nombre=str(input(\"Indique su nombre: \"))\n",
    "sexo=str(input(\"Masculino = M o Femenino = F\"))\n",
    "\n",
    "if (sexo.lower() == \"f\" and nombre.lower() < \"m\") or (sexo.lower() == \"m\" and nombre.lower() > \"n\"):\n",
    "    print(\"Pertenece al grupo A\")\n",
    "    \n",
    "else:\n",
    "    print(\"Pertenece al grupo B\")"
   ]
  },
  {
   "cell_type": "code",
   "execution_count": null,
   "metadata": {},
   "outputs": [],
   "source": [
    "\"\"\"Los tramos impositivos para la declaración de la renta en un determinado país son los siguientes:\"\"\""
   ]
  },
  {
   "cell_type": "markdown",
   "metadata": {},
   "source": [
    "|         Renta          | Tipo impositivo |\n",
    "| :--------------------: | :-------------: |\n",
    "|    Menos de 10000€     |       5%        |\n",
    "| Entre 10000€ y 20000€  |       15%       |\n",
    "| Entre 20000€ y 35000€  |       20%       |\n",
    "| Entre 35000€ y 60000€  |       30%       |\n",
    "|     Más de 60000€      |       45%       |"
   ]
  },
  {
   "cell_type": "code",
   "execution_count": null,
   "metadata": {},
   "outputs": [],
   "source": [
    "\"\"\"Escribir un programa que pregunte al usuario su renta anual y muestre por pantalla el tipo impositivo que le corresponde.\"\"\""
   ]
  },
  {
   "cell_type": "code",
   "execution_count": null,
   "metadata": {},
   "outputs": [
    {
     "name": "stdout",
     "output_type": "stream",
     "text": [
      "El tipo impositivo es 15%\n"
     ]
    }
   ],
   "source": [
    "ingresos=float(input(\"Indique sus ingresos anuales: \"))\n",
    "\n",
    "if ingresos < 10000:\n",
    "    print(\"El tipo impositivo es 5%\")\n",
    "elif ingresos <20000:\n",
    "    print(\"El tipo impositivo es 15%\")\n",
    "elif ingresos <35000:\n",
    "    print(\"El tipo impositivo es 20%\")\n",
    "elif ingresos <60000:\n",
    "    print(\"El tipo impositivo es 30%\")\n",
    "else:\n",
    "    print(\"El tipo impositivo es 45%\")"
   ]
  },
  {
   "cell_type": "code",
   "execution_count": 32,
   "metadata": {},
   "outputs": [
    {
     "name": "stdout",
     "output_type": "stream",
     "text": [
      "El valor que debes pagar en impuestos es: 1500.0 USD\n"
     ]
    }
   ],
   "source": [
    "#Punto anterior, nueva pregunta. Cuanto debe pagar?\n",
    "\n",
    "ingresos= float(input(\"Indique sus ingresos anuales: \"))\n",
    "\n",
    "if ingresos < 10000: \n",
    "    impuestos=5\n",
    "elif ingresos < 20000:\n",
    "    impuestos=15\n",
    "elif ingresos < 35000:\n",
    "    impuestos=20\n",
    "elif ingresos < 60000:\n",
    "    impuestos=30\n",
    "else:\n",
    "    impuestos=45\n",
    "    \n",
    "print(\"El valor que debes pagar en impuestos es:\", ingresos*(impuestos/100), \"USD\", sep=\" \")"
   ]
  },
  {
   "cell_type": "code",
   "execution_count": null,
   "metadata": {},
   "outputs": [],
   "source": [
    "\"\"\"En una determinada empresa, sus empleados son evaluados al final de cada año. Los puntos que pueden obtener en la evaluación comienzan en 0.0 \n",
    "y pueden ir aumentando, traduciéndose en mejores beneficios. Los puntos que pueden conseguir los empleados pueden ser 0.0, 0.4, 0.6 o más, pero no \n",
    "valores intermedios entre las cifras mencionadas. A continuación se muestra una tabla con los niveles correspondientes a cada puntuación. La cantidad \n",
    "de dinero conseguida en cada nivel es de 2.400€ multiplicada por la puntuación del nivel.\n",
    "\"\"\""
   ]
  },
  {
   "cell_type": "markdown",
   "metadata": {},
   "source": [
    "|    Nivel    | Puntuación |\n",
    "| :---------: | :--------: |\n",
    "| Inaceptable |    0.0     |\n",
    "|  Aceptable  |    0.4     |\n",
    "|  Meritorio  |    0.6     |"
   ]
  },
  {
   "cell_type": "code",
   "execution_count": null,
   "metadata": {},
   "outputs": [],
   "source": [
    "\"\"\"Escribir un programa que lea la puntuación del usuario e indique su nivel de rendimiento, así como la cantidad de dinero que recibirá el usuario.\"\"\""
   ]
  },
  {
   "cell_type": "code",
   "execution_count": 43,
   "metadata": {},
   "outputs": [
    {
     "name": "stdout",
     "output_type": "stream",
     "text": [
      "Tu nivel de rendimiento fue Meritorio\n",
      "Tu bonificación será: 1766.40\n"
     ]
    }
   ],
   "source": [
    "puntuacion=float(input(\"Ingrese su puntuación: \"))\n",
    "dinero=2400\n",
    "if puntuacion == 0.0:\n",
    "    nivel=\"Inaceptable\"\n",
    "\n",
    "elif puntuacion == 0.4:\n",
    "    nivel=\"Aceptable\"\n",
    "\n",
    "elif puntuacion >= 0.6:\n",
    "    nivel=\"Meritorio\"\n",
    "\n",
    "else: \n",
    "    nivel=\"\"\n",
    "    \n",
    "\n",
    "if nivel==\"\":\n",
    "        print(\"No ingresó una puntuación válida.\")\n",
    "else:\n",
    "        print(\"Tu nivel de rendimiento fue %s\" %nivel)\n",
    "        print(\"Tu bonificación será: %.2f\" %(puntuacion*dinero))\n",
    "    \n"
   ]
  },
  {
   "cell_type": "code",
   "execution_count": null,
   "metadata": {},
   "outputs": [],
   "source": [
    "\"\"\"\n",
    "Punto 9\n",
    "Escribir un programa para una empresa que tiene salas de juegos para todas las edades y quiere calcular de forma automática el precio que debe cobrar \n",
    "a sus clientes por entrar. El programa debe preguntar al usuario la edad del cliente y mostrar el precio de la entrada. Si el cliente es menor de 4 años \n",
    "puede entrar gratis, si tiene entre 4 y 18 años debe pagar 5€ y si es mayor de 18 años, 10€.\"\"\""
   ]
  },
  {
   "cell_type": "code",
   "execution_count": null,
   "metadata": {},
   "outputs": [
    {
     "name": "stdout",
     "output_type": "stream",
     "text": [
      "El precio de la entrada es: 0 USD\n"
     ]
    }
   ],
   "source": [
    "edad=int(input(\"Ingrese su edad: \"))\n",
    "\n",
    "if edad < 4:\n",
    "    entrada=0\n",
    "elif edad <= 18:\n",
    "    entrada=5\n",
    "else:\n",
    "    entrada=10\n",
    "\n",
    "print(\"El precio de la entrada es: %i USD\" %entrada)"
   ]
  },
  {
   "cell_type": "code",
   "execution_count": 8,
   "metadata": {},
   "outputs": [
    {
     "name": "stdout",
     "output_type": "stream",
     "text": [
      "La pizza elegida es No vegetariana\n",
      "Los ingredientes son: \n",
      "1.Mozzarella\n",
      "2.Tomate\n",
      "3.Salmón\n"
     ]
    }
   ],
   "source": [
    "\"\"\"La pizzería Bella Napoli ofrece pizzas vegetarianas y no vegetarianas a sus clientes. Los ingredientes para cada tipo de pizza aparecen a continuación.\n",
    "\n",
    "Ingredientes vegetarianos: Pimiento y tofu.\n",
    "Ingredientes no vegetarianos: Peperoni, Jamón y Salmón.\n",
    "\n",
    "Escribir un programa que pregunte al usuario si quiere una pizza vegetariana o no, y en función de su respuesta le muestre un menú con los ingredientes \n",
    "disponibles para que elija. Solo se puede eligir un ingrediente además de la mozzarella y el tomate que están en todas la pizzas. Al final se debe mostrar \n",
    "por pantalla si la pizza elegida es vegetariana o no y todos los ingredientes que lleva.\"\"\"\n",
    "\n",
    "\n",
    "respuesta= str(input(\"¿Quiere pizza vegetariana? Si o No\"))\n",
    "if respuesta[0].lower() == \"s\":\n",
    "    tipo_pizza = \"Vegetariana\"\n",
    "    ingredientes=int(input(\"¿Qué ingredientes quiere para su pizza?\\n1.Pimiento\\n2.Tofu\"))\n",
    "    if ingredientes == 1:\n",
    "        op=\"Pimiento\"\n",
    "    else: \n",
    "        op=\"Tofu\"\n",
    "    \n",
    "else: \n",
    "    tipo_pizza = \"No vegetariana\"\n",
    "    ingredientes=int(input(\"¿Qué ingrediente quiere para su pizza?\\n1.Peperoni\\n2.Jamón\\n3.Salmón\"))\n",
    "    if ingredientes == 1:\n",
    "        op=\"Peperoni\"\n",
    "    elif ingredientes == 2:\n",
    "        op=\"Jamón\"\n",
    "    else:\n",
    "        op=\"Salmón\"    \n",
    "    \n",
    "    \n",
    "print(\"La pizza elegida es %s\" %tipo_pizza)\n",
    "print(\"Los ingredientes son: \\n1.Mozzarella\\n2.Tomate\\n3.%s\" %op)"
   ]
  },
  {
   "cell_type": "code",
   "execution_count": 1,
   "metadata": {},
   "outputs": [
    {
     "name": "stdout",
     "output_type": "stream",
     "text": [
      "Bienvenido a la pizzeria Bella Napoli.\n",
      "Tipos de pizza\n",
      "\t1- Vegetariana\n",
      "\t2- No vegetariana\n",
      "\n",
      "Ingredientes de pizzas no vegetarianas\n",
      "\t1- Peperoni\n",
      "\t2- Jamón\n",
      "\t3- Salmón\n",
      "\n",
      "Pizza no vegetarina con mozarrella, tomate y peperoni\n"
     ]
    }
   ],
   "source": [
    "#Solución de la máquina al problema: La diferencia es que el menú lo muestra en la pantalla, es decir, cada pregunta la realiza en pantalla \n",
    "# y no en la caja\n",
    " \n",
    "# Presentación del menú con los tipos de pizza\n",
    "print(\"Bienvenido a la pizzeria Bella Napoli.\\nTipos de pizza\\n\\t1- Vegetariana\\n\\t2- No vegetariana\\n\")\n",
    "tipo = input(\"Introduce el número correspondiente al tipo de pizza que quieres:\")\n",
    "# Decisión sobre el tipo de pizza\n",
    "if tipo == \"1\":\n",
    "    print(\"Ingredientes de pizzas vegetarianas\\n\\t 1- Pimiento\\n\\t2- Tofu\\n\")\n",
    "    ingrediente = input(\"Introduce el ingrediente que deseas: \")\n",
    "    print(\"Pizza vegetariana con mozzarella, tomate y \", end=\"\")\n",
    "    if ingrediente == \"1\":\n",
    "        print(\"pimiento\")\n",
    "    else: \n",
    "        print(\"tofu\")\n",
    "else:\n",
    "    print(\"Ingredientes de pizzas no vegetarianas\\n\\t1- Peperoni\\n\\t2- Jamón\\n\\t3- Salmón\\n\")\n",
    "    ingrediente = input(\"Introduce el ingrediente que deseas: \")\n",
    "    print(\"Pizza no vegetarina con mozarrella, tomate y \", end=\"\")\n",
    "    if ingrediente == \"1\":\n",
    "        print(\"peperoni\")\n",
    "    elif ingrediente == \"2\":\n",
    "        print(\"jamón\")\n",
    "    else:\n",
    "        print(\"salmón\")"
   ]
  }
 ],
 "metadata": {
  "kernelspec": {
   "display_name": ".venv",
   "language": "python",
   "name": "python3"
  },
  "language_info": {
   "codemirror_mode": {
    "name": "ipython",
    "version": 3
   },
   "file_extension": ".py",
   "mimetype": "text/x-python",
   "name": "python",
   "nbconvert_exporter": "python",
   "pygments_lexer": "ipython3",
   "version": "3.11.5"
  }
 },
 "nbformat": 4,
 "nbformat_minor": 2
}
