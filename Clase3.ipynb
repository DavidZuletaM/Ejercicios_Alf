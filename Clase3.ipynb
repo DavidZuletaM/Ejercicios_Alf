{
  "cells": [
    {
      "cell_type": "markdown",
      "metadata": {
        "id": "VX1MaTrKlTUk"
      },
      "source": [
        "# Condicionales"
      ]
    },
    {
      "cell_type": "code",
      "execution_count": null,
      "metadata": {
        "colab": {
          "base_uri": "https://localhost:8080/"
        },
        "id": "ivh_RWgFlczh",
        "outputId": "655e4c4f-e08f-43c2-8681-8cda76fee9e7"
      },
      "outputs": [
        {
          "name": "stdout",
          "output_type": "stream",
          "text": [
            "1 es menor que 2\n"
          ]
        }
      ],
      "source": [
        "if 1 < 2:\n",
        "  print(\"1 es menor que 2\")"
      ]
    },
    {
      "cell_type": "code",
      "execution_count": null,
      "metadata": {
        "colab": {
          "base_uri": "https://localhost:8080/"
        },
        "id": "mrvOJsp0l2Q2",
        "outputId": "58901931-da1e-479e-a417-1c9aa69981e4"
      },
      "outputs": [
        {
          "name": "stdout",
          "output_type": "stream",
          "text": [
            "1 no es igual a 2\n"
          ]
        }
      ],
      "source": [
        "if not 1 == 2:\n",
        "  print(\"1 no es igual a 2\")"
      ]
    },
    {
      "cell_type": "code",
      "execution_count": null,
      "metadata": {
        "colab": {
          "base_uri": "https://localhost:8080/"
        },
        "id": "v5lOxQiLmZ9n",
        "outputId": "81f994b4-1e06-47da-bb3d-3b6375001521"
      },
      "outputs": [
        {
          "name": "stdout",
          "output_type": "stream",
          "text": [
            "0 no es Falso\n"
          ]
        }
      ],
      "source": [
        "if not 0:\n",
        "  print(\"0 no es Falso\")"
      ]
    },
    {
      "cell_type": "code",
      "execution_count": null,
      "metadata": {
        "colab": {
          "base_uri": "https://localhost:8080/"
        },
        "id": "DozLkW_wm79y",
        "outputId": "f1e9c6a9-ee63-4b33-bc51-2abfa01987ad"
      },
      "outputs": [
        {
          "name": "stdout",
          "output_type": "stream",
          "text": [
            "30>20>10 es correcto\n"
          ]
        }
      ],
      "source": [
        "if 30>20>10:\n",
        "  print(\"30>20>10 es correcto\")"
      ]
    },
    {
      "cell_type": "code",
      "execution_count": null,
      "metadata": {
        "id": "0nEjOcdrorKh"
      },
      "outputs": [],
      "source": [
        "one = 1\n",
        "two = 2\n",
        "is_two_gt_one = two > one"
      ]
    },
    {
      "cell_type": "code",
      "execution_count": null,
      "metadata": {
        "colab": {
          "base_uri": "https://localhost:8080/"
        },
        "id": "RHX9i-4_o8hV",
        "outputId": "bccca69b-d031-43cf-ac26-b9a8949c95c6"
      },
      "outputs": [
        {
          "name": "stdout",
          "output_type": "stream",
          "text": [
            "2 > 1 es correcto\n"
          ]
        }
      ],
      "source": [
        "if is_two_gt_one==True:   #Método no necesario\n",
        "  print(\"2 > 1 es correcto\")"
      ]
    },
    {
      "cell_type": "code",
      "execution_count": null,
      "metadata": {
        "colab": {
          "base_uri": "https://localhost:8080/"
        },
        "id": "ZVLd2nJrqoqb",
        "outputId": "0a634005-c1f5-4cf6-d9e4-53e3136a0377"
      },
      "outputs": [
        {
          "name": "stdout",
          "output_type": "stream",
          "text": [
            "2 > 1 es correcto\n"
          ]
        }
      ],
      "source": [
        "if is_two_gt_one:   #Método simplificado\n",
        "  print(\"2 > 1 es correcto\")"
      ]
    },
    {
      "cell_type": "code",
      "execution_count": null,
      "metadata": {
        "colab": {
          "base_uri": "https://localhost:8080/"
        },
        "id": "Yt7tHsinrSlB",
        "outputId": "331511a3-eacc-48d4-8c59-4519add0e694"
      },
      "outputs": [
        {
          "name": "stdout",
          "output_type": "stream",
          "text": [
            "Correcto\n"
          ]
        }
      ],
      "source": [
        "if (30>20) and (20>10):\n",
        "  print(\"Correcto\")"
      ]
    },
    {
      "cell_type": "code",
      "execution_count": null,
      "metadata": {
        "colab": {
          "base_uri": "https://localhost:8080/"
        },
        "id": "0QpmLGmrreA0",
        "outputId": "6e98f1b8-ef7e-4bbc-9dea-41ed66e87a87"
      },
      "outputs": [
        {
          "name": "stdout",
          "output_type": "stream",
          "text": [
            "Una de las dos condiciones es correcta\n"
          ]
        }
      ],
      "source": [
        "if (30>20) or (20<10):\n",
        "  print(\"Una de las dos condiciones es correcta\")"
      ]
    },
    {
      "cell_type": "markdown",
      "metadata": {
        "id": "gbMkFqxrsP2E"
      },
      "source": [
        "## Estructura condicionales Elif - Else"
      ]
    },
    {
      "cell_type": "code",
      "execution_count": null,
      "metadata": {
        "id": "LIef-Zr0sASp"
      },
      "outputs": [],
      "source": [
        "'''\n",
        "if condicion: --------Obligatorio\n",
        "elif condicion2: -------- Opcionales\n",
        "elif condicion3: --------Opcionales\n",
        "else ---------Opcionales\n",
        "'''\n"
      ]
    },
    {
      "cell_type": "code",
      "execution_count": null,
      "metadata": {
        "colab": {
          "base_uri": "https://localhost:8080/"
        },
        "id": "a6mRkZ9esdca",
        "outputId": "2eee761c-b552-4caf-ad6e-b86f1c81a92b"
      },
      "outputs": [
        {
          "name": "stdout",
          "output_type": "stream",
          "text": [
            "El valor mínimo de la lista es menor que cero!\n"
          ]
        }
      ],
      "source": [
        "some_list = [-1, 0, 1, 2]\n",
        "\n",
        "if min(some_list) < 0:\n",
        "    print(\"El valor mínimo de la lista es menor que cero!\")\n",
        "else:\n",
        "    print(\"El valor mínimo de la lista no es menor que cero!\")"
      ]
    },
    {
      "cell_type": "code",
      "execution_count": null,
      "metadata": {
        "colab": {
          "base_uri": "https://localhost:8080/"
        },
        "id": "HCeWzZBCtv4w",
        "outputId": "b677ba19-7491-4963-f308-15a4db791d40"
      },
      "outputs": [
        {
          "name": "stdout",
          "output_type": "stream",
          "text": [
            "El número es menor que cero!\n"
          ]
        }
      ],
      "source": [
        "num: int = -3\n",
        "if num > 0:\n",
        "    print(\"El número es mayor que cero!\")\n",
        "\n",
        "elif num == 0:\n",
        "    print(\"El número es igual a cero!\")\n",
        "\n",
        "else:\n",
        "    print(\"El número es menor que cero!\")"
      ]
    },
    {
      "cell_type": "code",
      "execution_count": null,
      "metadata": {
        "colab": {
          "base_uri": "https://localhost:8080/"
        },
        "id": "iM2M7YnGuQZ_",
        "outputId": "6c7bb417-a3d4-47ff-8d55-c7dc2736bc02"
      },
      "outputs": [
        {
          "name": "stdout",
          "output_type": "stream",
          "text": [
            "El número es mayor que cero!\n"
          ]
        }
      ],
      "source": [
        "num: int = 8\n",
        "if num > 0:\n",
        "\n",
        "    print(\"El número es mayor que cero!\")\n",
        "\n",
        "else:   #Otra sintaxis\n",
        "\n",
        "    if num == 0:\n",
        "        print(\"El número es igual a cero!\")\n",
        "    else:\n",
        "        print(\"El número es menor que cero!\")"
      ]
    },
    {
      "cell_type": "code",
      "execution_count": null,
      "metadata": {
        "colab": {
          "base_uri": "https://localhost:8080/"
        },
        "id": "P-bpdNPVuqfs",
        "outputId": "fa869e79-a662-4f28-bd90-a67de81457b4"
      },
      "outputs": [
        {
          "data": {
            "text/plain": [
              "18"
            ]
          },
          "execution_count": 36,
          "metadata": {},
          "output_type": "execute_result"
        }
      ],
      "source": [
        "num:int=2\n",
        "value={\n",
        "    0:10,\n",
        "    1:15,\n",
        "    2:18,\n",
        "    }[num]\n",
        "value"
      ]
    },
    {
      "cell_type": "markdown",
      "metadata": {
        "id": "vDfy9Lwrv1W1"
      },
      "source": [
        "#Iteradores usando For"
      ]
    },
    {
      "cell_type": "code",
      "execution_count": null,
      "metadata": {
        "colab": {
          "base_uri": "https://localhost:8080/"
        },
        "id": "9AyOuRVwv4nh",
        "outputId": "b99467f5-fbc1-4d40-9792-a802e0267da1"
      },
      "outputs": [
        {
          "name": "stdout",
          "output_type": "stream",
          "text": [
            "Gato 4\n",
            "Ventana 7\n",
            "Puerta 6\n",
            "Sala 4\n"
          ]
        }
      ],
      "source": [
        "Palabras = [\"Gato\",\"Ventana\", \"Puerta\", \"Sala\"]\n",
        "for i in Palabras :     #i es una variable temporal\n",
        "  print (i, len(i))  #Condicional Controlado"
      ]
    },
    {
      "cell_type": "code",
      "execution_count": null,
      "metadata": {
        "colab": {
          "base_uri": "https://localhost:8080/"
        },
        "id": "SaKugmocx_Jk",
        "outputId": "2e542bab-fd65-4dea-8d45-692e6537ab18"
      },
      "outputs": [
        {
          "name": "stdout",
          "output_type": "stream",
          "text": [
            "Gato 4\n",
            "Ventana 7\n",
            "Puerta 6\n",
            "Sala 4\n",
            "Finalizado\n"
          ]
        }
      ],
      "source": [
        "Palabras = [\"Gato\",\"Ventana\", \"Puerta\", \"Sala\"]\n",
        "for i in Palabras :\n",
        "  print (i, len(i))\n",
        "else:     #Else Opcional\n",
        "   print(\"Finalizado\")  #Sintaxis alargada"
      ]
    },
    {
      "cell_type": "code",
      "execution_count": null,
      "metadata": {
        "colab": {
          "base_uri": "https://localhost:8080/",
          "height": 35
        },
        "id": "E44HOsyS1er2",
        "outputId": "cd34128b-bb1e-458d-ddde-852563ced230"
      },
      "outputs": [
        {
          "data": {
            "application/vnd.google.colaboratory.intrinsic+json": {
              "type": "string"
            },
            "text/plain": [
              "'Gato'"
            ]
          },
          "execution_count": 33,
          "metadata": {},
          "output_type": "execute_result"
        }
      ],
      "source": [
        "Palabras[0]"
      ]
    },
    {
      "cell_type": "code",
      "execution_count": null,
      "metadata": {
        "colab": {
          "base_uri": "https://localhost:8080/"
        },
        "id": "VrqQV-hw1OGh",
        "outputId": "8d9889b3-5c5b-40b5-8039-c08e4c528d08"
      },
      "outputs": [
        {
          "name": "stdout",
          "output_type": "stream",
          "text": [
            "Gato 4\n",
            "Ventana 7\n",
            "Puerta 6\n",
            "Sala 4\n",
            "Finalizado\n"
          ]
        }
      ],
      "source": [
        "Palabras = [\"Gato\",\"Ventana\", \"Puerta\", \"Sala\"]\n",
        "for i in Palabras :\n",
        "  print (i, len(i))\n",
        "print(\"Finalizado\")  #Sintaxis simplificada"
      ]
    },
    {
      "cell_type": "code",
      "execution_count": null,
      "metadata": {
        "colab": {
          "base_uri": "https://localhost:8080/"
        },
        "id": "Nz_B-Sp02wKn",
        "outputId": "a79b2151-1c1e-4a3a-bd7a-38cd081f4978"
      },
      "outputs": [
        {
          "name": "stdout",
          "output_type": "stream",
          "text": [
            "a\n",
            "b\n",
            "c\n",
            "d\n",
            "e\n"
          ]
        }
      ],
      "source": [
        "for letra in \"abcde\":\n",
        "  print(letra)"
      ]
    },
    {
      "cell_type": "code",
      "execution_count": null,
      "metadata": {
        "colab": {
          "base_uri": "https://localhost:8080/"
        },
        "id": "3Q-7Tqgs3C47",
        "outputId": "19c9b6ed-e979-4c4b-fce9-20dfbba05684"
      },
      "outputs": [
        {
          "name": "stdout",
          "output_type": "stream",
          "text": [
            "aaaaaaaaaa\n",
            "bbbbbbbbbb\n",
            "cccccccccc\n",
            "dddddddddd\n",
            "eeeeeeeeee\n"
          ]
        }
      ],
      "source": [
        "for letra in \"abcde\":  #\"letra\" está Jarcodeado (Quemado). Es lo mismo que tener la variable letra = \"abcde\"\n",
        "  print(letra*10)"
      ]
    },
    {
      "cell_type": "code",
      "execution_count": null,
      "metadata": {
        "colab": {
          "base_uri": "https://localhost:8080/"
        },
        "id": "NJb3CsXE3f9p",
        "outputId": "a6588c0e-d900-4879-c263-66467fe0b898"
      },
      "outputs": [
        {
          "name": "stdout",
          "output_type": "stream",
          "text": [
            "aaaaaaaaaa\n",
            "a\n",
            "bbbbbbbbbb\n",
            "b\n",
            "cccccccccc\n",
            "c\n",
            "dddddddddd\n",
            "d\n",
            "eeeeeeeeee\n",
            "e\n"
          ]
        }
      ],
      "source": [
        "for letra in \"abcde\":\n",
        "  print(letra*10)\n",
        "  print(letra)"
      ]
    },
    {
      "cell_type": "code",
      "execution_count": null,
      "metadata": {
        "colab": {
          "base_uri": "https://localhost:8080/"
        },
        "id": "FSgiOUoE4CM6",
        "outputId": "8a8c5626-9d6f-4307-dcb5-d0643125c185"
      },
      "outputs": [
        {
          "name": "stdout",
          "output_type": "stream",
          "text": [
            "[1, 2, 3, 1, 2, 3] (1, 2, 3, 1, 2, 3)\n"
          ]
        }
      ],
      "source": [
        "#Recorderis\n",
        "Variable1=[1,2,3]*2\n",
        "Variable2= (1,2,3)*2\n",
        "\n",
        "print(Variable1, Variable2)"
      ]
    },
    {
      "cell_type": "code",
      "execution_count": null,
      "metadata": {
        "colab": {
          "base_uri": "https://localhost:8080/"
        },
        "id": "dxp2epDI5DPq",
        "outputId": "a226f9ae-99e6-498b-b539-bd52b7342c17"
      },
      "outputs": [
        {
          "name": "stdout",
          "output_type": "stream",
          "text": [
            "a\n",
            "b\n",
            "c\n"
          ]
        }
      ],
      "source": [
        "dicc={     ##Los diccionarios son tipos de datos no ordenados\n",
        "    \"a\": 1,\n",
        "    \"b\": 2,\n",
        "    \"c\": 3,\n",
        "}\n",
        "\n",
        "for i in dicc:\n",
        "  print(i)"
      ]
    },
    {
      "cell_type": "code",
      "execution_count": null,
      "metadata": {
        "id": "v49-QGYV66EP"
      },
      "outputs": [],
      "source": [
        "#Recorderis\n",
        "v1= (4,5,6) #Tupla (Estructura de datos)\n",
        "v2= [4,5,6] #Lista (Estructura de datos)"
      ]
    },
    {
      "cell_type": "code",
      "execution_count": null,
      "metadata": {
        "colab": {
          "base_uri": "https://localhost:8080/"
        },
        "id": "doA-kMRE73Gm",
        "outputId": "ee3f8154-8ef9-4124-8b50-77b2ede1cd19"
      },
      "outputs": [
        {
          "data": {
            "text/plain": [
              "[12, 5, 6]"
            ]
          },
          "execution_count": 52,
          "metadata": {},
          "output_type": "execute_result"
        }
      ],
      "source": [
        "v2[0]=4*3\n",
        "v2"
      ]
    },
    {
      "cell_type": "code",
      "execution_count": null,
      "metadata": {
        "colab": {
          "base_uri": "https://localhost:8080/",
          "height": 193
        },
        "id": "gmp-aNcz8Ox3",
        "outputId": "ccb52f66-26cc-4d82-9d0d-fe827a4234f4"
      },
      "outputs": [
        {
          "ename": "TypeError",
          "evalue": "ignored",
          "output_type": "error",
          "traceback": [
            "\u001b[0;31m---------------------------------------------------------------------------\u001b[0m",
            "\u001b[0;31mTypeError\u001b[0m                                 Traceback (most recent call last)",
            "\u001b[0;32m<ipython-input-53-c06d53dc8e77>\u001b[0m in \u001b[0;36m<cell line: 1>\u001b[0;34m()\u001b[0m\n\u001b[0;32m----> 1\u001b[0;31m \u001b[0mv1\u001b[0m\u001b[0;34m[\u001b[0m\u001b[0;36m0\u001b[0m\u001b[0;34m]\u001b[0m\u001b[0;34m=\u001b[0m\u001b[0;36m4\u001b[0m\u001b[0;34m*\u001b[0m\u001b[0;36m3\u001b[0m\u001b[0;34m\u001b[0m\u001b[0;34m\u001b[0m\u001b[0m\n\u001b[0m\u001b[1;32m      2\u001b[0m \u001b[0mv1\u001b[0m\u001b[0;34m\u001b[0m\u001b[0;34m\u001b[0m\u001b[0m\n",
            "\u001b[0;31mTypeError\u001b[0m: 'tuple' object does not support item assignment"
          ]
        }
      ],
      "source": [
        "v1[0]=4*3 #No se permite para Tuplas\n",
        "v1"
      ]
    },
    {
      "cell_type": "code",
      "execution_count": null,
      "metadata": {
        "colab": {
          "base_uri": "https://localhost:8080/"
        },
        "id": "RiBWqKuU8YA7",
        "outputId": "01c333e8-a598-4153-faef-3a247d709f1e"
      },
      "outputs": [
        {
          "name": "stdout",
          "output_type": "stream",
          "text": [
            "valor\n"
          ]
        }
      ],
      "source": [
        "# Explicación más a detalle sobre los diccionarios (Estructura de datos)\n",
        "dicc1 = {\"llave\":\"valor\"}\n",
        "print(dicc1[\"llave\"])"
      ]
    },
    {
      "cell_type": "code",
      "execution_count": null,
      "metadata": {
        "colab": {
          "base_uri": "https://localhost:8080/"
        },
        "id": "hrWtTdLY9u4L",
        "outputId": "6804d14a-556b-429a-8676-11e47ef49053"
      },
      "outputs": [
        {
          "name": "stdout",
          "output_type": "stream",
          "text": [
            "15\n"
          ]
        }
      ],
      "source": [
        "dicc2 = {\"valor\":15}\n",
        "print(dicc2[\"valor\"])"
      ]
    },
    {
      "cell_type": "code",
      "execution_count": null,
      "metadata": {
        "colab": {
          "base_uri": "https://localhost:8080/"
        },
        "id": "VVjjRS4GkguP",
        "outputId": "bd089d04-c1e8-4da1-ded5-c235363eacb2"
      },
      "outputs": [
        {
          "name": "stdout",
          "output_type": "stream",
          "text": [
            "{'valor': 15, 'Prueba1': 10, 'Prueba3': 20, 'Prueba4': 40, ('Prueba6', 'Prueba2'): (10, 20)}\n"
          ]
        }
      ],
      "source": [
        "dicc2[\"Prueba6\",\"Prueba2\"] = 10,20\n",
        "print(dicc2)"
      ]
    },
    {
      "cell_type": "code",
      "execution_count": null,
      "metadata": {
        "colab": {
          "base_uri": "https://localhost:8080/"
        },
        "id": "HHfYxjUD_ZtB",
        "outputId": "3fa61f20-ba2a-487b-aed1-b14308a80277"
      },
      "outputs": [
        {
          "name": "stdout",
          "output_type": "stream",
          "text": [
            "150\n"
          ]
        }
      ],
      "source": [
        "dicc2[\"valor\"]=150\n",
        "print(dicc2[\"valor\"])"
      ]
    },
    {
      "cell_type": "code",
      "execution_count": null,
      "metadata": {
        "colab": {
          "base_uri": "https://localhost:8080/"
        },
        "id": "AgFGWEsTA0xE",
        "outputId": "088c7f84-fcb5-42fa-e4c5-b2e9e27989b7"
      },
      "outputs": [
        {
          "name": "stdout",
          "output_type": "stream",
          "text": [
            "{'valor': 150}\n"
          ]
        }
      ],
      "source": [
        "print(dicc2)"
      ]
    },
    {
      "cell_type": "code",
      "execution_count": null,
      "metadata": {
        "colab": {
          "base_uri": "https://localhost:8080/"
        },
        "id": "EacrAoxyA76X",
        "outputId": "d221b724-1680-4f6f-ab33-a53237d4efc9"
      },
      "outputs": [
        {
          "name": "stdout",
          "output_type": "stream",
          "text": [
            "{'valor': 150, 'Tel': '3002120894'}\n"
          ]
        }
      ],
      "source": [
        "dicc2[\"Tel\"]= \"3002120894\"  #Agregar llaves al diccionario\n",
        "print(dicc2)"
      ]
    },
    {
      "cell_type": "code",
      "execution_count": null,
      "metadata": {
        "colab": {
          "base_uri": "https://localhost:8080/"
        },
        "id": "bhsyOfA1CI1r",
        "outputId": "32f4a95a-0323-4323-dcd5-1f5e51e5f2ec"
      },
      "outputs": [
        {
          "name": "stdout",
          "output_type": "stream",
          "text": [
            "{'valor': 150, 'Tel': '3002120894', 'email': {'email': 'demo@gmail.com'}, 'llave2': {'email': 'demo@gmail.com'}}\n"
          ]
        }
      ],
      "source": [
        "dicc2[\"llave2\"] = {\"email\":\"demo@gmail.com\"}\n",
        "print(dicc2)"
      ]
    },
    {
      "cell_type": "code",
      "execution_count": null,
      "metadata": {
        "id": "FNaR6vecDP7v"
      },
      "outputs": [],
      "source": [
        "dicc2[\"llave2\"] = \"demo2@gmail.com\""
      ]
    },
    {
      "cell_type": "code",
      "execution_count": null,
      "metadata": {
        "colab": {
          "base_uri": "https://localhost:8080/"
        },
        "id": "mftY9WZJDcKO",
        "outputId": "37b08490-cf38-4e72-f393-6d9343fd5e7f"
      },
      "outputs": [
        {
          "name": "stdout",
          "output_type": "stream",
          "text": [
            "{'valor': 150, 'Tel': '3002120894', 'email': {'email': 'demo@gmail.com'}, 'llave2': 'demo2@gmail.com'}\n"
          ]
        }
      ],
      "source": [
        "print(dicc2)"
      ]
    },
    {
      "cell_type": "code",
      "execution_count": null,
      "metadata": {
        "colab": {
          "base_uri": "https://localhost:8080/"
        },
        "id": "Hv9rjxv9EwVI",
        "outputId": "db82bab7-5060-4217-9201-567be633c9e5"
      },
      "outputs": [
        {
          "name": "stdout",
          "output_type": "stream",
          "text": [
            "{'email': 'demo@gmail.com'}\n"
          ]
        }
      ],
      "source": [
        "print(dicc2[\"email\"])"
      ]
    },
    {
      "cell_type": "code",
      "execution_count": null,
      "metadata": {
        "colab": {
          "base_uri": "https://localhost:8080/"
        },
        "id": "7VKpuiOxFr2-",
        "outputId": "4a1c1680-9af6-4547-fc5a-68f25247150b"
      },
      "outputs": [
        {
          "name": "stdout",
          "output_type": "stream",
          "text": [
            "demo@gmail.com\n"
          ]
        }
      ],
      "source": [
        "print(dicc2[\"email\"][\"email\"])"
      ]
    },
    {
      "cell_type": "code",
      "execution_count": null,
      "metadata": {
        "colab": {
          "base_uri": "https://localhost:8080/"
        },
        "id": "k4DdydhPF_iL",
        "outputId": "13b2d5ea-8ba5-4ed1-9b92-f68366a0b860"
      },
      "outputs": [
        {
          "name": "stdout",
          "output_type": "stream",
          "text": [
            "a\n",
            "b\n",
            "c\n"
          ]
        }
      ],
      "source": [
        "dicc={\n",
        "    \"a\": 1,\n",
        "    \"b\": 2,\n",
        "    \"c\": 3,\n",
        "}\n",
        "\n",
        "for key in dicc.keys():\n",
        "  print(key)"
      ]
    },
    {
      "cell_type": "code",
      "execution_count": null,
      "metadata": {
        "colab": {
          "base_uri": "https://localhost:8080/"
        },
        "id": "pKcZ6dXXI59O",
        "outputId": "f333a76f-b069-4128-af38-2f171e91ccd6"
      },
      "outputs": [
        {
          "name": "stdout",
          "output_type": "stream",
          "text": [
            "1\n",
            "2\n",
            "3\n"
          ]
        }
      ],
      "source": [
        "dicc={\n",
        "    \"a\": 1,\n",
        "    \"b\": 2,\n",
        "    \"c\": 3,\n",
        "}\n",
        "\n",
        "for value in dicc.values():\n",
        "  print(value)"
      ]
    },
    {
      "cell_type": "code",
      "execution_count": null,
      "metadata": {
        "colab": {
          "base_uri": "https://localhost:8080/"
        },
        "id": "MVdp-V3-I_tn",
        "outputId": "1dfe592e-a7d4-407a-ed6d-8b9a4596bdf5"
      },
      "outputs": [
        {
          "name": "stdout",
          "output_type": "stream",
          "text": [
            "('a', 1)\n",
            "('b', 2)\n",
            "('c', 3)\n"
          ]
        }
      ],
      "source": [
        "dicc={\n",
        "    \"a\": 1,\n",
        "    \"b\": 2,\n",
        "    \"c\": 3,\n",
        "}\n",
        "\n",
        "for item in dicc.items():\n",
        "  print(item)"
      ]
    },
    {
      "cell_type": "code",
      "execution_count": null,
      "metadata": {
        "id": "8BHb_NCEJYpD"
      },
      "outputs": [],
      "source": [
        "\"\"\"\n",
        "Es necesario identificar el tipo de dato que tiene una variable cuando se imprime\n",
        "('a', 1) ---- Tupla con dos elementos: Primer elemento tipo Str y el segundo tipo int\n",
        "('b', 2) ---- Tupla con dos elementos: Primer elemento tipo Str y el segundo tipo int\n",
        "('c', 3) ---- Tupla con dos elementos: Primer elemento tipo Str y el segundo tipo int\n",
        "\"\"\""
      ]
    },
    {
      "cell_type": "code",
      "execution_count": null,
      "metadata": {
        "colab": {
          "base_uri": "https://localhost:8080/"
        },
        "id": "Jgk7v9zDKRtq",
        "outputId": "08693f54-2b8b-4b1a-ac05-4f250c6dcd16"
      },
      "outputs": [
        {
          "name": "stdout",
          "output_type": "stream",
          "text": [
            "('a', 1)\n",
            "('b', 2)\n",
            "('c', 3)\n"
          ]
        }
      ],
      "source": [
        "dicc={     #Forma tradicional\n",
        "    \"a\": 1,\n",
        "    \"b\": 2,\n",
        "    \"c\": 3,\n",
        "}\n",
        "\n",
        "for item in dicc.items():\n",
        "  print(item)"
      ]
    },
    {
      "cell_type": "code",
      "execution_count": null,
      "metadata": {
        "colab": {
          "base_uri": "https://localhost:8080/"
        },
        "id": "HUQqCxYNLZFh",
        "outputId": "8dd0d428-ab2e-4093-c274-1e0036b97326"
      },
      "outputs": [
        {
          "name": "stdout",
          "output_type": "stream",
          "text": [
            "nombre llave: a\n",
            "nombre llave: b\n",
            "nombre llave: c\n"
          ]
        }
      ],
      "source": [
        "dicc={     #Truco Profesor Luis\n",
        "    \"a\": 1,\n",
        "    \"b\": 2,\n",
        "    \"c\": 3,\n",
        "}\n",
        "\n",
        "for key, value in dicc.items():\n",
        "  print(\"nombre llave:\",key)"
      ]
    },
    {
      "cell_type": "code",
      "execution_count": null,
      "metadata": {
        "colab": {
          "base_uri": "https://localhost:8080/"
        },
        "id": "MSKwwrvfL5in",
        "outputId": "34a3ef77-2c2a-4f57-f288-85d78003ff1c"
      },
      "outputs": [
        {
          "name": "stdout",
          "output_type": "stream",
          "text": [
            "nombre llave: a\n",
            "nombre valor: 1\n",
            "nombre llave: b\n",
            "nombre valor: 2\n",
            "nombre llave: c\n",
            "nombre valor: 3\n"
          ]
        }
      ],
      "source": [
        "dicc={     #Truco Profesor Luis\n",
        "    \"a\": 1,\n",
        "    \"b\": 2,\n",
        "    \"c\": 3,\n",
        "}\n",
        "\n",
        "for key, value in dicc.items():\n",
        "  print(\"nombre llave:\",key)\n",
        "  print(\"nombre valor:\",value)"
      ]
    },
    {
      "cell_type": "code",
      "execution_count": null,
      "metadata": {
        "colab": {
          "base_uri": "https://localhost:8080/"
        },
        "id": "EMO3T6_3m_0E",
        "outputId": "d40515cf-348c-4778-bf68-eabdf3ca8a9c"
      },
      "outputs": [
        {
          "name": "stdout",
          "output_type": "stream",
          "text": [
            "('a', 1)\n"
          ]
        }
      ],
      "source": [
        "valor = (\"a\",1)\n",
        "print(valor)"
      ]
    },
    {
      "cell_type": "code",
      "execution_count": null,
      "metadata": {
        "colab": {
          "base_uri": "https://localhost:8080/"
        },
        "id": "he_eNhKQn7FG",
        "outputId": "c37452ea-f44b-4b3a-9be2-97c923c88ad0"
      },
      "outputs": [
        {
          "name": "stdout",
          "output_type": "stream",
          "text": [
            "uno\n",
            "dos\n"
          ]
        }
      ],
      "source": [
        "a,b = (\"uno\", \"dos\")\n",
        "print(a)\n",
        "print(b)"
      ]
    },
    {
      "cell_type": "code",
      "execution_count": null,
      "metadata": {
        "colab": {
          "base_uri": "https://localhost:8080/"
        },
        "id": "JT0LAnGcp52h",
        "outputId": "d337d23f-c275-4448-96d5-0391f70a4a53"
      },
      "outputs": [
        {
          "data": {
            "text/plain": [
              "[0, 1, 2, 3, 4]"
            ]
          },
          "execution_count": 6,
          "metadata": {},
          "output_type": "execute_result"
        }
      ],
      "source": [
        "list(range(5))"
      ]
    },
    {
      "cell_type": "code",
      "execution_count": null,
      "metadata": {
        "colab": {
          "base_uri": "https://localhost:8080/"
        },
        "id": "lTnOX95uq6K3",
        "outputId": "5d17a72d-6acd-4d87-f808-3e65a4b2e4ad"
      },
      "outputs": [
        {
          "data": {
            "text/plain": [
              "10"
            ]
          },
          "execution_count": 7,
          "metadata": {},
          "output_type": "execute_result"
        }
      ],
      "source": [
        "sum(range(5))"
      ]
    },
    {
      "cell_type": "code",
      "execution_count": null,
      "metadata": {
        "colab": {
          "base_uri": "https://localhost:8080/"
        },
        "id": "wFv7vg_6rK6Q",
        "outputId": "a5a9cb9b-32e8-42c9-f981-6b24fab37a42"
      },
      "outputs": [
        {
          "name": "stdout",
          "output_type": "stream",
          "text": [
            "5, 6, 7, 8, 9, "
          ]
        }
      ],
      "source": [
        "for i in range(5, 10):\n",
        "    print(i, end=\", \")"
      ]
    },
    {
      "cell_type": "code",
      "execution_count": null,
      "metadata": {
        "colab": {
          "base_uri": "https://localhost:8080/"
        },
        "id": "j9FSISnnsMW6",
        "outputId": "06b3ace9-f3bd-42ce-da4d-08bbddb07104"
      },
      "outputs": [
        {
          "name": "stdout",
          "output_type": "stream",
          "text": [
            "0 a\n",
            "1 b\n",
            "2 c\n",
            "3 d\n",
            "4 e\n"
          ]
        }
      ],
      "source": [
        "list_a = [\"a\", \"b\", \"c\", \"d\", \"e\"]\n",
        "for index in range(len(list_a)):\n",
        "    print(index, list_a[index])"
      ]
    },
    {
      "cell_type": "code",
      "execution_count": null,
      "metadata": {
        "colab": {
          "base_uri": "https://localhost:8080/"
        },
        "id": "AoZ9fTvmsPSq",
        "outputId": "8da38de4-342e-426b-e3bb-9f4b48e7b6f8"
      },
      "outputs": [
        {
          "name": "stdout",
          "output_type": "stream",
          "text": [
            ">>> first element\n",
            "b\n",
            "c\n",
            "d\n",
            ">>> last element\n"
          ]
        }
      ],
      "source": [
        "list_a = [\"a\", \"b\", \"c\", \"d\", \"e\"]\n",
        "\n",
        "for element in list_a:\n",
        "\n",
        "    if element == list_a[0]:\n",
        "        print(\">>> first element\")\n",
        "        continue\n",
        "\n",
        "    if element == list_a[-1]:\n",
        "        print(\">>> last element\")\n",
        "        continue\n",
        "\n",
        "    print(element)"
      ]
    },
    {
      "cell_type": "code",
      "execution_count": null,
      "metadata": {
        "colab": {
          "base_uri": "https://localhost:8080/"
        },
        "id": "kAz30i_gfKl2",
        "outputId": "7d8eb342-08c8-445a-ed26-abdfc45b79f5"
      },
      "outputs": [
        {
          "name": "stdout",
          "output_type": "stream",
          "text": [
            ">>> first element\n"
          ]
        }
      ],
      "source": [
        "list_a = [\"a\", \"b\", \"c\", \"d\", \"e\"]\n",
        "\n",
        "for element in list_a:\n",
        "\n",
        "    if element == list_a[0]:\n",
        "        print(\">>> first element\")\n",
        "        break\n",
        "\n",
        "    if element == list_a[-1]:\n",
        "        print(\">>> last element\")\n",
        "        continue\n",
        "\n",
        "    print(element)"
      ]
    },
    {
      "cell_type": "code",
      "execution_count": null,
      "metadata": {
        "colab": {
          "base_uri": "https://localhost:8080/"
        },
        "id": "AisqxL-rhACt",
        "outputId": "95dd7d78-0ddf-41b6-95cd-1ad9d45b2365"
      },
      "outputs": [
        {
          "name": "stdout",
          "output_type": "stream",
          "text": [
            ">>> first element\n",
            "b\n",
            "c\n",
            ">>> last element\n"
          ]
        }
      ],
      "source": [
        "list_a = [\"a\", \"b\", \"c\", \"d\", \"e\"]\n",
        "\n",
        "for element in list_a:\n",
        "\n",
        "    if element == list_a[0]:\n",
        "        print(\">>> first element\")\n",
        "        continue\n",
        "\n",
        "    if element == list_a[-2]:\n",
        "        print(\">>> last element\")\n",
        "        break\n",
        "\n",
        "    print(element)"
      ]
    },
    {
      "cell_type": "code",
      "execution_count": null,
      "metadata": {
        "colab": {
          "base_uri": "https://localhost:8080/",
          "height": 140
        },
        "id": "YFqYXcosJA2p",
        "outputId": "3ae09181-72c7-4022-c001-5cfe054ebe3a"
      },
      "outputs": [
        {
          "ename": "SyntaxError",
          "evalue": "ignored",
          "output_type": "error",
          "traceback": [
            "\u001b[0;36m  File \u001b[0;32m\"<ipython-input-2-7210a526c58b>\"\u001b[0;36m, line \u001b[0;32m1\u001b[0m\n\u001b[0;31m    for _ in range(5):\u001b[0m\n\u001b[0m                      ^\u001b[0m\n\u001b[0;31mSyntaxError\u001b[0m\u001b[0;31m:\u001b[0m incomplete input\n"
          ]
        }
      ],
      "source": [
        "for _ in range(5):"
      ]
    },
    {
      "cell_type": "code",
      "execution_count": null,
      "metadata": {
        "id": "ygqOrZ2eJmGP"
      },
      "outputs": [],
      "source": [
        "for _ in range(5):\n",
        "    pass"
      ]
    },
    {
      "cell_type": "code",
      "execution_count": null,
      "metadata": {
        "colab": {
          "base_uri": "https://localhost:8080/"
        },
        "id": "atlK5xZHKJ8o",
        "outputId": "1448b300-841c-4093-81e8-6b6b132d2bc5"
      },
      "outputs": [
        {
          "name": "stdout",
          "output_type": "stream",
          "text": [
            "0\n",
            "1\n",
            "2\n",
            "8\n",
            "9\n"
          ]
        }
      ],
      "source": [
        "for index in range(10):\n",
        "    if index > 2 and index < 8:\n",
        "        pass\n",
        "    else:\n",
        "        print(index)"
      ]
    },
    {
      "cell_type": "markdown",
      "metadata": {
        "id": "qlCCZQM6dxvs"
      },
      "source": [
        "# Iteradores usando While"
      ]
    },
    {
      "cell_type": "code",
      "execution_count": null,
      "metadata": {
        "colab": {
          "base_uri": "https://localhost:8080/"
        },
        "id": "3LhzHaecKWcG",
        "outputId": "d9d3e99d-1a2d-451b-81ad-d6665f918a18"
      },
      "outputs": [
        {
          "name": "stdout",
          "output_type": "stream",
          "text": [
            "0\n",
            "1\n",
            "2\n",
            "3\n",
            "4\n",
            "fin\n"
          ]
        }
      ],
      "source": [
        "counter = 0\n",
        "\n",
        "while counter < 5:\n",
        "    #\n",
        "    # Cuerpo del while\n",
        "    #\n",
        "    print(counter)\n",
        "    counter = counter + 1\n",
        "#Else:\n",
        "print(\"fin\")   #No es necesario colocar el Else"
      ]
    },
    {
      "cell_type": "markdown",
      "metadata": {
        "id": "VddQwwBJd_kB"
      },
      "source": [
        "#Creación de funciones"
      ]
    },
    {
      "cell_type": "markdown",
      "metadata": {
        "id": "jLzrHJ65tuYI"
      },
      "source": [
        "## Funciones declaradas"
      ]
    },
    {
      "cell_type": "code",
      "execution_count": 1,
      "metadata": {
        "id": "6gKSKbjFaVzY"
      },
      "outputs": [],
      "source": [
        "#Funciones sin argumentos y sin retornos\n",
        "\n",
        "def nombre():\n",
        "  print(\"Saludo\")"
      ]
    },
    {
      "cell_type": "code",
      "execution_count": 2,
      "metadata": {
        "colab": {
          "base_uri": "https://localhost:8080/"
        },
        "id": "Tc7lNEbmaefl",
        "outputId": "51ffa512-d742-454a-849b-aeeedb9c09ed"
      },
      "outputs": [
        {
          "name": "stdout",
          "output_type": "stream",
          "text": [
            "Saludo\n"
          ]
        }
      ],
      "source": [
        "nombre()"
      ]
    },
    {
      "cell_type": "code",
      "execution_count": null,
      "metadata": {
        "colab": {
          "base_uri": "https://localhost:8080/",
          "height": 210
        },
        "id": "8RqgYVHoaqF0",
        "outputId": "8c31c515-db14-4596-ba37-b59a8c1880b3"
      },
      "outputs": [
        {
          "ename": "TypeError",
          "evalue": "ignored",
          "output_type": "error",
          "traceback": [
            "\u001b[0;31m---------------------------------------------------------------------------\u001b[0m",
            "\u001b[0;31mTypeError\u001b[0m                                 Traceback (most recent call last)",
            "\u001b[0;32m<ipython-input-11-46aa64174aac>\u001b[0m in \u001b[0;36m<cell line: 3>\u001b[0;34m()\u001b[0m\n\u001b[1;32m      1\u001b[0m \u001b[0;32mdef\u001b[0m \u001b[0mnombre2\u001b[0m\u001b[0;34m(\u001b[0m\u001b[0mnombre\u001b[0m\u001b[0;34m:\u001b[0m\u001b[0mstr\u001b[0m\u001b[0;34m)\u001b[0m\u001b[0;34m:\u001b[0m\u001b[0;34m\u001b[0m\u001b[0;34m\u001b[0m\u001b[0m\n\u001b[1;32m      2\u001b[0m   \u001b[0mprint\u001b[0m\u001b[0;34m(\u001b[0m\u001b[0;34m\"Saludo\"\u001b[0m\u001b[0;34m,\u001b[0m \u001b[0mnombre\u001b[0m\u001b[0;34m)\u001b[0m\u001b[0;34m\u001b[0m\u001b[0;34m\u001b[0m\u001b[0m\n\u001b[0;32m----> 3\u001b[0;31m \u001b[0mnombre2\u001b[0m\u001b[0;34m(\u001b[0m\u001b[0;34m)\u001b[0m\u001b[0;34m\u001b[0m\u001b[0;34m\u001b[0m\u001b[0m\n\u001b[0m",
            "\u001b[0;31mTypeError\u001b[0m: nombre2() missing 1 required positional argument: 'nombre'"
          ]
        }
      ],
      "source": [
        "def nombre2(nombre:str):\n",
        "  print(\"Saludo\", nombre)\n",
        "nombre2()"
      ]
    },
    {
      "cell_type": "code",
      "execution_count": null,
      "metadata": {
        "colab": {
          "base_uri": "https://localhost:8080/"
        },
        "id": "gtpapCYpb4xY",
        "outputId": "8836c9e4-afcd-4d9d-c7e0-a9e49e2a0c02"
      },
      "outputs": [
        {
          "name": "stdout",
          "output_type": "stream",
          "text": [
            "Saludo Luis\n"
          ]
        }
      ],
      "source": [
        "## Funciones con argumentos y sin retornos\n",
        "def nombre2(nombre:str):   #Dentro del nombre de la función () se encuentran los parámetros\n",
        "  print(\"Saludo\", nombre)\n",
        "nombre2(\"Luis\")   ##Luis es el argumento"
      ]
    },
    {
      "cell_type": "code",
      "execution_count": 3,
      "metadata": {
        "id": "wJ5l16mXeFIF"
      },
      "outputs": [],
      "source": [
        "## Funciones con argumentos y con retornos\n",
        "def nombre3(nombre:str):\n",
        "  texto_saludo =f\"Saludo {nombre}\" #Se almacenará el valor transformado\n",
        "  return texto_saludo"
      ]
    },
    {
      "cell_type": "code",
      "execution_count": null,
      "metadata": {
        "id": "ucmyrEkIfxMA"
      },
      "outputs": [],
      "source": [
        "saludo = nombre3(\"Luis\")"
      ]
    },
    {
      "cell_type": "code",
      "execution_count": null,
      "metadata": {
        "colab": {
          "base_uri": "https://localhost:8080/"
        },
        "id": "ygg4VIE1gtnL",
        "outputId": "20960c40-3aa2-4ae3-d687-f7a8319f34de"
      },
      "outputs": [
        {
          "name": "stdout",
          "output_type": "stream",
          "text": [
            "Saludo Luis\n"
          ]
        }
      ],
      "source": [
        "print(saludo)"
      ]
    },
    {
      "cell_type": "code",
      "execution_count": null,
      "metadata": {
        "colab": {
          "base_uri": "https://localhost:8080/"
        },
        "id": "M47GuWJbg2WQ",
        "outputId": "d2e49c70-165f-40dd-d7d9-e0d41619f4a2"
      },
      "outputs": [
        {
          "name": "stdout",
          "output_type": "stream",
          "text": [
            "SALUDO LUIS\n",
            "*******************Saludo Luis********************\n",
            "*******************SALUDO LUIS********************\n",
            "*******************SALUDO LUIS********************\n"
          ]
        }
      ],
      "source": [
        "print(saludo.upper())\n",
        "print(saludo.center(50, \"*\"))\n",
        "print(saludo.upper().center(50, \"*\"))\n",
        "print(saludo.center(50, \"*\").upper())"
      ]
    },
    {
      "cell_type": "code",
      "execution_count": null,
      "metadata": {
        "id": "fBSyBsvahvpy"
      },
      "outputs": [],
      "source": [
        "def nombre3(nombre:str, email:str, edad:int = 0):  #edad = 0 es un argumento opcional, es decir, no siempre se debe enviar. Los demás argumentos son obligatorios\n",
        "  texto_saludo =f\"Saludo {nombre}, email {email}\"\n",
        "  return texto_saludo, edad ** 2  #En este caso la función devuelve 2 valores"
      ]
    },
    {
      "cell_type": "code",
      "execution_count": null,
      "metadata": {
        "colab": {
          "base_uri": "https://localhost:8080/"
        },
        "id": "XdbB_38GjIxG",
        "outputId": "84808d60-c183-452d-d055-7396fa39849c"
      },
      "outputs": [
        {
          "data": {
            "text/plain": [
              "('Saludo David, email dzuletam@unal.edu.co', 0)"
            ]
          },
          "execution_count": 25,
          "metadata": {},
          "output_type": "execute_result"
        }
      ],
      "source": [
        "nombre3(\"David\",\"dzuletam@unal.edu.co\")   #Cuando se retorna más de un valor, siempre de retorna en tupla"
      ]
    },
    {
      "cell_type": "code",
      "execution_count": null,
      "metadata": {
        "colab": {
          "base_uri": "https://localhost:8080/"
        },
        "id": "qgPgy6T2jcqJ",
        "outputId": "b03abc14-0bfe-448d-f88f-b9677e12aae2"
      },
      "outputs": [
        {
          "data": {
            "text/plain": [
              "('Saludo David, email dzuletam@unal.edu.co', 400)"
            ]
          },
          "execution_count": 26,
          "metadata": {},
          "output_type": "execute_result"
        }
      ],
      "source": [
        "nombre3(\"David\",\"dzuletam@unal.edu.co\", 20)"
      ]
    },
    {
      "cell_type": "code",
      "execution_count": null,
      "metadata": {
        "colab": {
          "base_uri": "https://localhost:8080/"
        },
        "id": "88T6N9tUlQVq",
        "outputId": "485ed1ac-773a-4244-d8fe-b306319167ff"
      },
      "outputs": [
        {
          "data": {
            "text/plain": [
              "('Saludo David, email dzuletam@unal.edu.co', 400)"
            ]
          },
          "execution_count": 27,
          "metadata": {},
          "output_type": "execute_result"
        }
      ],
      "source": [
        "nombre3(\"David\",\"dzuletam@unal.edu.co\",edad=20)"
      ]
    },
    {
      "cell_type": "code",
      "execution_count": null,
      "metadata": {
        "id": "Wehg4oh6lebL"
      },
      "outputs": [],
      "source": [
        "saludo, exponencial = nombre3(\"David\",\"dzuletam@unal.edu.co\",edad=20) #Igual número de valores de la lista como de variables"
      ]
    },
    {
      "cell_type": "code",
      "execution_count": null,
      "metadata": {
        "colab": {
          "base_uri": "https://localhost:8080/"
        },
        "id": "IremoNntnDGL",
        "outputId": "b08d527e-6fa0-47fa-b064-1c81e4a4ada1"
      },
      "outputs": [
        {
          "name": "stdout",
          "output_type": "stream",
          "text": [
            "Saludo David, email dzuletam@unal.edu.co\n"
          ]
        }
      ],
      "source": [
        "print(saludo)"
      ]
    },
    {
      "cell_type": "code",
      "execution_count": null,
      "metadata": {
        "colab": {
          "base_uri": "https://localhost:8080/"
        },
        "id": "1vLVsPxRnHHe",
        "outputId": "5b63b8bc-9277-4589-ea99-bfc058c99dbd"
      },
      "outputs": [
        {
          "name": "stdout",
          "output_type": "stream",
          "text": [
            "400\n"
          ]
        }
      ],
      "source": [
        "print(exponencial)"
      ]
    },
    {
      "cell_type": "code",
      "execution_count": null,
      "metadata": {
        "colab": {
          "base_uri": "https://localhost:8080/"
        },
        "id": "ewhgpxOzWkK4",
        "outputId": "9f0d0f66-5a78-4557-c99f-b1208b30b2fd"
      },
      "outputs": [
        {
          "data": {
            "text/plain": [
              "('Saludo David, email dzuletam@unal.edu.co', 400)"
            ]
          },
          "execution_count": 4,
          "metadata": {},
          "output_type": "execute_result"
        }
      ],
      "source": [
        "saludo1 = nombre3(\"David\",\"dzuletam@unal.edu.co\",edad=20)\n",
        "saludo1"
      ]
    },
    {
      "cell_type": "code",
      "execution_count": null,
      "metadata": {
        "colab": {
          "base_uri": "https://localhost:8080/",
          "height": 35
        },
        "id": "IccdHhPCXDlK",
        "outputId": "5a2b7b3a-2f16-4c46-f71a-3de2f5ae1e89"
      },
      "outputs": [
        {
          "data": {
            "application/vnd.google.colaboratory.intrinsic+json": {
              "type": "string"
            },
            "text/plain": [
              "'Saludo David, email dzuletam@unal.edu.co'"
            ]
          },
          "execution_count": 7,
          "metadata": {},
          "output_type": "execute_result"
        }
      ],
      "source": [
        "saludo1= nombre3(\"David\",\"dzuletam@unal.edu.co\",edad=20)[0]\n",
        "saludo1"
      ]
    },
    {
      "cell_type": "code",
      "execution_count": null,
      "metadata": {
        "colab": {
          "base_uri": "https://localhost:8080/"
        },
        "id": "ZeF8SwzSX9ar",
        "outputId": "b7d1b3a4-a47e-437e-f4ba-9b04a7821bda"
      },
      "outputs": [
        {
          "data": {
            "text/plain": [
              "400"
            ]
          },
          "execution_count": 9,
          "metadata": {},
          "output_type": "execute_result"
        }
      ],
      "source": [
        "saludo1= nombre3(\"David\",\"dzuletam@unal.edu.co\",edad=20)[1]\n",
        "saludo1"
      ]
    },
    {
      "cell_type": "code",
      "execution_count": null,
      "metadata": {
        "id": "Zl3n2L5sYYMt"
      },
      "outputs": [],
      "source": [
        "def square(x):\n",
        "    x_squared = x ** 2\n",
        "    return x_squared"
      ]
    },
    {
      "cell_type": "code",
      "execution_count": null,
      "metadata": {
        "colab": {
          "base_uri": "https://localhost:8080/"
        },
        "id": "ATnaQ-ZVYahJ",
        "outputId": "f24b7ab0-5103-4998-f3e2-98289a332b9e"
      },
      "outputs": [
        {
          "data": {
            "text/plain": [
              "4"
            ]
          },
          "execution_count": 18,
          "metadata": {},
          "output_type": "execute_result"
        }
      ],
      "source": [
        "square(x=2)"
      ]
    },
    {
      "cell_type": "code",
      "execution_count": null,
      "metadata": {
        "colab": {
          "base_uri": "https://localhost:8080/",
          "height": 52
        },
        "id": "ts_M8473ZoaG",
        "outputId": "d2b7f5ad-3646-4880-9d7c-e7e361fa13ce"
      },
      "outputs": [
        {
          "data": {
            "text/plain": [
              "4"
            ]
          },
          "metadata": {},
          "output_type": "display_data"
        },
        {
          "data": {
            "text/plain": [
              "4"
            ]
          },
          "metadata": {},
          "output_type": "display_data"
        }
      ],
      "source": [
        "display(\n",
        "    square(2),\n",
        "    square(x=2),\n",
        ")"
      ]
    },
    {
      "cell_type": "code",
      "execution_count": null,
      "metadata": {
        "id": "R473IzM1cqJ0"
      },
      "outputs": [],
      "source": [
        "def sum_of_squares(x,y):\n",
        " return square(x)+ square(y)  #Dentro de la función se hace llamado a la función anterior"
      ]
    },
    {
      "cell_type": "code",
      "execution_count": null,
      "metadata": {
        "colab": {
          "base_uri": "https://localhost:8080/"
        },
        "id": "yDetf26BdVTD",
        "outputId": "f6f5eea4-dd8e-44f3-cecb-f7b138628bab"
      },
      "outputs": [
        {
          "data": {
            "text/plain": [
              "13"
            ]
          },
          "execution_count": 25,
          "metadata": {},
          "output_type": "execute_result"
        }
      ],
      "source": [
        "sum_of_squares(2,3)"
      ]
    },
    {
      "cell_type": "code",
      "execution_count": null,
      "metadata": {
        "colab": {
          "base_uri": "https://localhost:8080/"
        },
        "id": "ZvlR8C5rd2RG",
        "outputId": "3024ada4-bc91-471c-e1c8-062fb4eb676f"
      },
      "outputs": [
        {
          "name": "stdout",
          "output_type": "stream",
          "text": [
            "a: 1\n",
            "b: 2\n",
            "c: 3\n"
          ]
        }
      ],
      "source": [
        "def my_function(a, b, c):\n",
        "    print(\"a:\", a)\n",
        "    print(\"b:\", b)\n",
        "    print(\"c:\", c)\n",
        "\n",
        "\n",
        "my_function(1, 2, 3)"
      ]
    },
    {
      "cell_type": "code",
      "execution_count": null,
      "metadata": {
        "id": "IDcCakcqUApx"
      },
      "outputs": [],
      "source": [
        "import pandas as pd"
      ]
    },
    {
      "cell_type": "code",
      "execution_count": null,
      "metadata": {
        "id": "6qOgw4eAVA7f"
      },
      "outputs": [],
      "source": [
        "pd.read_csv()"
      ]
    },
    {
      "cell_type": "code",
      "execution_count": null,
      "metadata": {
        "colab": {
          "base_uri": "https://localhost:8080/"
        },
        "id": "Eo7oKN7nXGOh",
        "outputId": "c6e360b5-bd9b-4102-f95f-3f5e587b7825"
      },
      "outputs": [
        {
          "name": "stdout",
          "output_type": "stream",
          "text": [
            "wick.john\n"
          ]
        }
      ],
      "source": [
        "username = \"wick.john\"\n",
        "\n",
        "'''Ambito: La variable que está fuera de la función\n",
        "puede ser utilizada por una o varias funciones diferentes. Si se define una variable dentro de una función\n",
        "(la variable está en el ambito de la función-se debe retornar para poderla visualizar)\n",
        "no se podrá llamar para otra función diferente.\n",
        "'''\n",
        "\n",
        "def print_username():\n",
        "    print(username)\n",
        "\n",
        "\n",
        "print_username()"
      ]
    },
    {
      "cell_type": "code",
      "execution_count": null,
      "metadata": {
        "colab": {
          "base_uri": "https://localhost:8080/"
        },
        "id": "KOthn37acwV9",
        "outputId": "a36b174d-a41d-4a82-a416-a57460381845"
      },
      "outputs": [
        {
          "name": "stdout",
          "output_type": "stream",
          "text": [
            "inside: 3\n",
            "outside: 5\n"
          ]
        }
      ],
      "source": [
        "int_var = 5   #Variable creada afuera de la función\n",
        "\n",
        "\n",
        "def my_function(int_var):\n",
        "    int_var = 3       #Se volvió a llamar la variable dentro de la función y se le reasignó el valor. No hay problema con esto.\n",
        "    print(\"inside:\", int_var)\n",
        "\n",
        "\n",
        "my_function(int_var)\n",
        "print(\"outside:\", int_var)"
      ]
    },
    {
      "cell_type": "markdown",
      "metadata": {
        "id": "J5_70R0klMVB"
      },
      "source": [
        "# * args y ** kwargs"
      ]
    },
    {
      "cell_type": "code",
      "execution_count": null,
      "metadata": {
        "colab": {
          "base_uri": "https://localhost:8080/"
        },
        "id": "uMuXb7GMlKS3",
        "outputId": "8f144083-8774-4a46-d98c-548482994186"
      },
      "outputs": [
        {
          "data": {
            "text/plain": [
              "10"
            ]
          },
          "execution_count": 2,
          "metadata": {},
          "output_type": "execute_result"
        }
      ],
      "source": [
        "sum([1,2,3,4])"
      ]
    },
    {
      "cell_type": "code",
      "execution_count": null,
      "metadata": {
        "id": "D8bt4OA2liKi"
      },
      "outputs": [],
      "source": [
        "def datos(*valores: list):\n",
        "  print(valores)\n",
        "  print(type(valores))\n",
        "  return sum(valores)"
      ]
    },
    {
      "cell_type": "code",
      "execution_count": null,
      "metadata": {
        "colab": {
          "base_uri": "https://localhost:8080/"
        },
        "id": "_zxa6hSemXkf",
        "outputId": "70b36d3e-5b09-4598-856c-fc0d5e4fc9c2"
      },
      "outputs": [
        {
          "name": "stdout",
          "output_type": "stream",
          "text": [
            "(1, 2, 3, 4, 5, 6)\n",
            "<class 'tuple'>\n"
          ]
        },
        {
          "data": {
            "text/plain": [
              "21"
            ]
          },
          "execution_count": 6,
          "metadata": {},
          "output_type": "execute_result"
        }
      ],
      "source": [
        "datos(1,2,3,4,5,6)"
      ]
    },
    {
      "cell_type": "code",
      "execution_count": null,
      "metadata": {
        "id": "AT4xV1Mip9wY"
      },
      "outputs": [],
      "source": [
        "def datos2(**valores):\n",
        "  print(valores)\n",
        "  print(type(valores))\n",
        "  return valores.keys()"
      ]
    },
    {
      "cell_type": "code",
      "execution_count": null,
      "metadata": {
        "colab": {
          "base_uri": "https://localhost:8080/"
        },
        "id": "26RZ8--hrCye",
        "outputId": "29a19576-8a02-43ab-f376-b2226309e4b8"
      },
      "outputs": [
        {
          "name": "stdout",
          "output_type": "stream",
          "text": [
            "{'Hector': 'unal', 'johan': 'unal1', 'juan': 'unal2'}\n",
            "<class 'dict'>\n"
          ]
        },
        {
          "data": {
            "text/plain": [
              "dict_keys(['Hector', 'johan', 'juan'])"
            ]
          },
          "execution_count": 9,
          "metadata": {},
          "output_type": "execute_result"
        }
      ],
      "source": [
        "datos2(Hector=\"unal\", johan=\"unal1\", juan=\"unal2\") #Argumentos nombrados directamente"
      ]
    },
    {
      "cell_type": "code",
      "execution_count": null,
      "metadata": {
        "colab": {
          "base_uri": "https://localhost:8080/"
        },
        "id": "ds6o-R_2eEHK",
        "outputId": "11afd5b6-63a3-45ce-ea0e-d182278b574b"
      },
      "outputs": [
        {
          "name": "stdout",
          "output_type": "stream",
          "text": [
            " first_arg: 1\n",
            "second_arg: 2\n",
            "      args: ()\n",
            "    kwargs: {}\n"
          ]
        }
      ],
      "source": [
        "#\n",
        "# Tipos de argumentos\n",
        "#\n",
        "def my_function(first_arg, second_arg=2, *args, **kwargs):\n",
        "    print(\" first_arg:\", first_arg)\n",
        "    print(\"second_arg:\", second_arg)\n",
        "    print(\"      args:\", args)\n",
        "    print(\"    kwargs:\", kwargs)\n",
        "\n",
        "\n",
        "#\n",
        "# Llamada con argumentos posicionales\n",
        "#\n",
        "my_function(1, 2)"
      ]
    },
    {
      "cell_type": "code",
      "execution_count": null,
      "metadata": {
        "colab": {
          "base_uri": "https://localhost:8080/"
        },
        "id": "rPsYQSgtq2d0",
        "outputId": "cd7240f6-6543-49d5-e091-2ba5b15e14b0"
      },
      "outputs": [
        {
          "name": "stdout",
          "output_type": "stream",
          "text": [
            " first_arg: 1\n",
            "second_arg: 2\n",
            "      args: ()\n",
            "    kwargs: {}\n"
          ]
        }
      ],
      "source": [
        "my_function(second_arg=2, first_arg=1)"
      ]
    },
    {
      "cell_type": "code",
      "execution_count": null,
      "metadata": {
        "colab": {
          "base_uri": "https://localhost:8080/"
        },
        "id": "Ns_icgNUq6lA",
        "outputId": "e42b9127-0c4c-4140-b122-736c4b2a29bd"
      },
      "outputs": [
        {
          "name": "stdout",
          "output_type": "stream",
          "text": [
            " first_arg: 1\n",
            "second_arg: 2\n",
            "      args: (3, 4)\n",
            "    kwargs: {}\n"
          ]
        }
      ],
      "source": [
        "my_function(1, 2, 3, 4)"
      ]
    },
    {
      "cell_type": "code",
      "execution_count": null,
      "metadata": {
        "colab": {
          "base_uri": "https://localhost:8080/"
        },
        "id": "_Uq24s9CrAqw",
        "outputId": "191b2b80-77ae-4c90-ea81-7bb65b059fc6"
      },
      "outputs": [
        {
          "name": "stdout",
          "output_type": "stream",
          "text": [
            " first_arg: 1\n",
            "second_arg: 2\n",
            "      args: ()\n",
            "    kwargs: {'third_arg': 3}\n"
          ]
        }
      ],
      "source": [
        "my_function(first_arg=1, second_arg=2, third_arg=3)"
      ]
    },
    {
      "cell_type": "code",
      "execution_count": null,
      "metadata": {
        "colab": {
          "base_uri": "https://localhost:8080/"
        },
        "id": "BvKUkc7MrNwn",
        "outputId": "533cdc60-f856-4cb9-fb60-595847e72458"
      },
      "outputs": [
        {
          "name": "stdout",
          "output_type": "stream",
          "text": [
            " first_arg: 1\n",
            "second_arg: 2\n",
            "      args: ()\n",
            "    kwargs: {}\n"
          ]
        }
      ],
      "source": [
        "def my_function(first_arg, second_arg=2, *David, **Zuleta):  #Lo que ayuda a identificar los args y kwargs son los * y ** respectivamente\n",
        "    print(\" first_arg:\", first_arg)\n",
        "    print(\"second_arg:\", second_arg)\n",
        "    print(\"      args:\", David)\n",
        "    print(\"    kwargs:\", Zuleta)\n",
        "\n",
        "my_function(1, 2)"
      ]
    },
    {
      "cell_type": "code",
      "execution_count": null,
      "metadata": {
        "colab": {
          "base_uri": "https://localhost:8080/"
        },
        "id": "1xJ3iLrMrloQ",
        "outputId": "437849ba-008e-466f-d3e4-f59fb8ce4f57"
      },
      "outputs": [
        {
          "name": "stdout",
          "output_type": "stream",
          "text": [
            " first_arg: 1\n",
            "second_arg: 2\n",
            "      args: (3, 4)\n",
            "    kwargs: {'a': 5, 'b': 6, 'c': 7}\n"
          ]
        }
      ],
      "source": [
        "my_function(1, 2, 3, 4, a=5, b=6, c=7)"
      ]
    },
    {
      "cell_type": "code",
      "execution_count": null,
      "metadata": {
        "colab": {
          "base_uri": "https://localhost:8080/"
        },
        "id": "HxNhbdAPr07S",
        "outputId": "52ae0a95-5853-4c1a-b0df-f020b12108f5"
      },
      "outputs": [
        {
          "data": {
            "text/plain": [
              "function"
            ]
          },
          "execution_count": 7,
          "metadata": {},
          "output_type": "execute_result"
        }
      ],
      "source": [
        "type(my_function)"
      ]
    },
    {
      "cell_type": "markdown",
      "metadata": {
        "id": "W4QveLgxt0bS"
      },
      "source": [
        "## Funciones anónimas"
      ]
    },
    {
      "cell_type": "code",
      "execution_count": null,
      "metadata": {
        "colab": {
          "base_uri": "https://localhost:8080/"
        },
        "id": "tiqJKlXvt3dZ",
        "outputId": "1317ea61-4116-4b01-8100-d70af840fcb7"
      },
      "outputs": [
        {
          "name": "stdout",
          "output_type": "stream",
          "text": [
            "9999\n"
          ]
        }
      ],
      "source": [
        "print(\"9999\")  #El 9999 es un valor quemado que se ejecuta en esa línea de código pero que posterior no se puede reutilizar"
      ]
    },
    {
      "cell_type": "code",
      "execution_count": null,
      "metadata": {
        "colab": {
          "base_uri": "https://localhost:8080/"
        },
        "id": "o_HBPgjNudrP",
        "outputId": "b53014b3-0417-497a-f5c4-af9f68b010fd"
      },
      "outputs": [
        {
          "name": "stdout",
          "output_type": "stream",
          "text": [
            "25\n"
          ]
        }
      ],
      "source": [
        "#Las funciones anónimas tienen el mismo concepto planteado con el ejemplo anterior\n",
        "print((lambda x,y: x**y)(5,2))"
      ]
    },
    {
      "cell_type": "code",
      "execution_count": null,
      "metadata": {
        "colab": {
          "base_uri": "https://localhost:8080/"
        },
        "id": "4Dfi1rDWyudM",
        "outputId": "75e12d59-a181-45cb-ffda-92da7843230c"
      },
      "outputs": [
        {
          "data": {
            "text/plain": [
              "3"
            ]
          },
          "execution_count": 16,
          "metadata": {},
          "output_type": "execute_result"
        }
      ],
      "source": [
        "(lambda y, z : y//z)(7,2)"
      ]
    },
    {
      "cell_type": "code",
      "execution_count": null,
      "metadata": {
        "colab": {
          "base_uri": "https://localhost:8080/"
        },
        "id": "pDWpxtTVvBOe",
        "outputId": "3432d730-7652-4fe1-96cf-ee327dec8b1a"
      },
      "outputs": [
        {
          "data": {
            "text/plain": [
              "25"
            ]
          },
          "execution_count": 11,
          "metadata": {},
          "output_type": "execute_result"
        }
      ],
      "source": [
        "#Comparación con una función declarada en la línea anterior\n",
        "def exponencial(x: int,y: int):\n",
        "  exp = x**y\n",
        "  return exp\n",
        "\n",
        "exponencial(5,2)"
      ]
    },
    {
      "cell_type": "code",
      "execution_count": null,
      "metadata": {
        "id": "-2B5DF9Kwwkc"
      },
      "outputs": [],
      "source": [
        "my_exp = (lambda x,y: x**y)"
      ]
    },
    {
      "cell_type": "code",
      "execution_count": null,
      "metadata": {
        "colab": {
          "base_uri": "https://localhost:8080/"
        },
        "id": "fh0wY0VKxihk",
        "outputId": "03b9f02e-cea7-4f48-f0c6-ee3dc73a8089"
      },
      "outputs": [
        {
          "data": {
            "text/plain": [
              "function"
            ]
          },
          "execution_count": 13,
          "metadata": {},
          "output_type": "execute_result"
        }
      ],
      "source": [
        "type(my_exp)"
      ]
    },
    {
      "cell_type": "code",
      "execution_count": null,
      "metadata": {
        "colab": {
          "base_uri": "https://localhost:8080/"
        },
        "id": "n_UmfmrRxnO1",
        "outputId": "69805625-3a25-4ce2-bdd8-b5fc6b162b05"
      },
      "outputs": [
        {
          "data": {
            "text/plain": [
              "9"
            ]
          },
          "execution_count": 14,
          "metadata": {},
          "output_type": "execute_result"
        }
      ],
      "source": [
        "my_exp(3,2)"
      ]
    },
    {
      "cell_type": "code",
      "execution_count": null,
      "metadata": {
        "colab": {
          "base_uri": "https://localhost:8080/"
        },
        "id": "klv7pEfHzJ_c",
        "outputId": "cc758d36-120e-4310-b196-05b06b04a9b2"
      },
      "outputs": [
        {
          "data": {
            "text/plain": [
              "43"
            ]
          },
          "execution_count": 17,
          "metadata": {},
          "output_type": "execute_result"
        }
      ],
      "source": [
        "def make_incrementor(n):\n",
        "    return lambda x: x + n   #Es redundante esta sintaxis. Es lo mismo a colocar solo return x+n. Se presenta para mostrar casos posibles de sintaxis permitida\n",
        "\n",
        "\n",
        "f = make_incrementor(42)\n",
        "f(1)"
      ]
    },
    {
      "cell_type": "code",
      "execution_count": null,
      "metadata": {
        "colab": {
          "base_uri": "https://localhost:8080/"
        },
        "id": "Tq2cUV471Dym",
        "outputId": "70bd6ca9-b4a9-4164-ba5f-e30db7d0bd68"
      },
      "outputs": [
        {
          "data": {
            "text/plain": [
              "7"
            ]
          },
          "execution_count": 18,
          "metadata": {},
          "output_type": "execute_result"
        }
      ],
      "source": [
        "#\n",
        "# Función compuesta de varias subfunciones\n",
        "# Principio de responsabilidad simple:\n",
        "# cada función hace una tarea y solo una tarea\n",
        "#\n",
        "def complex_function(x):\n",
        "    def constant():    #Está dentro del ambito de la función. No se podrá llamar para otra función.\n",
        "        return 1\n",
        "\n",
        "    def first():\n",
        "        return x\n",
        "\n",
        "    def second():\n",
        "        return x ** 2\n",
        "\n",
        "    result = constant() + first() + second()\n",
        "    return result\n",
        "\n",
        "\n",
        "complex_function(2)"
      ]
    },
    {
      "cell_type": "markdown",
      "metadata": {
        "id": "oPrvCr6M3flB"
      },
      "source": [
        "# Desempaquetado de listas"
      ]
    },
    {
      "cell_type": "code",
      "execution_count": null,
      "metadata": {
        "id": "r9XpBsGK3iqg"
      },
      "outputs": [],
      "source": [
        "#Empaquetamiento\n",
        "Lista1 = [1,2]\n",
        "x,y = Lista1"
      ]
    },
    {
      "cell_type": "code",
      "execution_count": null,
      "metadata": {
        "colab": {
          "base_uri": "https://localhost:8080/"
        },
        "id": "RVwLoFhL36Bu",
        "outputId": "49611f1c-02b6-437e-99d4-47a96457f71e"
      },
      "outputs": [
        {
          "data": {
            "text/plain": [
              "1"
            ]
          },
          "execution_count": 20,
          "metadata": {},
          "output_type": "execute_result"
        }
      ],
      "source": [
        "x"
      ]
    },
    {
      "cell_type": "code",
      "execution_count": null,
      "metadata": {
        "colab": {
          "base_uri": "https://localhost:8080/"
        },
        "id": "JbX-Kusl3-aZ",
        "outputId": "b5466187-0e42-401d-c5be-90f85ee90827"
      },
      "outputs": [
        {
          "name": "stdout",
          "output_type": "stream",
          "text": [
            "1\n",
            "[2, 3]\n"
          ]
        }
      ],
      "source": [
        "#Desempaquetamiento\n",
        "first, *sec = [1,2,3]\n",
        "print(first)\n",
        "print(sec)"
      ]
    },
    {
      "cell_type": "code",
      "execution_count": null,
      "metadata": {
        "colab": {
          "base_uri": "https://localhost:8080/"
        },
        "id": "OTnnqhQO7eXH",
        "outputId": "e25ddaff-2029-47c7-eb05-70ac1501b067"
      },
      "outputs": [
        {
          "data": {
            "text/plain": [
              "(1, [2, 3], 4)"
            ]
          },
          "execution_count": 23,
          "metadata": {},
          "output_type": "execute_result"
        }
      ],
      "source": [
        "first, *middle, last = [1, 2, 3, 4]  #Desempaquetamiento parcial\n",
        "first , middle , last"
      ]
    },
    {
      "cell_type": "markdown",
      "metadata": {
        "id": "Dnqy7GS18shg"
      },
      "source": [
        "#Reemplazo de elementos en listas"
      ]
    },
    {
      "cell_type": "code",
      "execution_count": null,
      "metadata": {
        "id": "ldR_zvYN8v73"
      },
      "outputs": [],
      "source": [
        "lista2 = [1,2,3,4]"
      ]
    },
    {
      "cell_type": "code",
      "execution_count": null,
      "metadata": {
        "colab": {
          "base_uri": "https://localhost:8080/"
        },
        "id": "8CZjHggk9r2W",
        "outputId": "87c2fd5d-c848-40b7-f0a9-483af75e960c"
      },
      "outputs": [
        {
          "name": "stdout",
          "output_type": "stream",
          "text": [
            "[1, 2, 3, 4]\n"
          ]
        }
      ],
      "source": [
        "print(lista2)"
      ]
    },
    {
      "cell_type": "code",
      "execution_count": null,
      "metadata": {
        "colab": {
          "base_uri": "https://localhost:8080/"
        },
        "id": "CFAkdoP39vsE",
        "outputId": "daf6f67a-76be-4f4e-8661-ebf3c37aa90d"
      },
      "outputs": [
        {
          "name": "stdout",
          "output_type": "stream",
          "text": [
            "[1, 10, 3, 4]\n"
          ]
        }
      ],
      "source": [
        "lista2[1]=10\n",
        "print(lista2)"
      ]
    },
    {
      "cell_type": "code",
      "execution_count": null,
      "metadata": {
        "colab": {
          "base_uri": "https://localhost:8080/"
        },
        "id": "hPgaYNfK_Dbd",
        "outputId": "96b692fd-4cc6-4d7a-a5ff-f6b0215e3f8a"
      },
      "outputs": [
        {
          "name": "stdout",
          "output_type": "stream",
          "text": [
            "['a', 'Z', 'Y', 'd']\n"
          ]
        }
      ],
      "source": [
        "lista_strings = ['a','b','c','d']\n",
        "lista_strings[1:3] = ['Z', 'Y']\n",
        "print(lista_strings)"
      ]
    },
    {
      "cell_type": "markdown",
      "metadata": {
        "id": "wnC-DMxO_3SP"
      },
      "source": [
        "#Principales métodos de las listas"
      ]
    },
    {
      "cell_type": "code",
      "execution_count": null,
      "metadata": {
        "colab": {
          "base_uri": "https://localhost:8080/"
        },
        "id": "MT2RpZ7H_9wc",
        "outputId": "ffb9928c-76cf-4d69-acab-801bc5a0c1c4"
      },
      "outputs": [
        {
          "data": {
            "text/plain": [
              "[1, 8, 27, 64, 125, 216, 343]"
            ]
          },
          "execution_count": 28,
          "metadata": {},
          "output_type": "execute_result"
        }
      ],
      "source": [
        "#\n",
        "# Método append\n",
        "# =============================================================================\n",
        "#\n",
        "cubes_list = [1, 8, 27, 64, 125]\n",
        "\n",
        "#\n",
        "# Se agrega el cubo de 6 al final de la lista.\n",
        "#\n",
        "cubes_list.append(216)\n",
        "\n",
        "#\n",
        "# Se agrega el cubo de 7 al final de la lista.\n",
        "#\n",
        "cubes_list.append(7 ** 3)\n",
        "cubes_list"
      ]
    },
    {
      "cell_type": "code",
      "execution_count": null,
      "metadata": {
        "colab": {
          "base_uri": "https://localhost:8080/"
        },
        "id": "E3FkK6Qp7t0o",
        "outputId": "313b537c-5e12-4556-b7ac-b2a4509c9cac"
      },
      "outputs": [
        {
          "data": {
            "text/plain": [
              "[1]"
            ]
          },
          "execution_count": 2,
          "metadata": {},
          "output_type": "execute_result"
        }
      ],
      "source": [
        "lista = []\n",
        "lista.append(1)\n",
        "lista"
      ]
    },
    {
      "cell_type": "code",
      "execution_count": null,
      "metadata": {
        "colab": {
          "base_uri": "https://localhost:8080/"
        },
        "id": "_GkZ-WA878xv",
        "outputId": "37172c9d-80f5-4505-be34-0ad58b25bcef"
      },
      "outputs": [
        {
          "data": {
            "text/plain": [
              "[1, 2]"
            ]
          },
          "execution_count": 3,
          "metadata": {},
          "output_type": "execute_result"
        }
      ],
      "source": [
        "lista.append(2)\n",
        "lista"
      ]
    },
    {
      "cell_type": "code",
      "execution_count": null,
      "metadata": {
        "colab": {
          "base_uri": "https://localhost:8080/"
        },
        "id": "zCmNtYEYA-q8",
        "outputId": "7a27d54d-446f-4d37-b8d2-819aff0a606f"
      },
      "outputs": [
        {
          "data": {
            "text/plain": [
              "[1, 4, 9, 16, 25, 36, 49, 64, 81, 100]"
            ]
          },
          "execution_count": 29,
          "metadata": {},
          "output_type": "execute_result"
        }
      ],
      "source": [
        "#\n",
        "# Método append usando el operador +\n",
        "#\n",
        "squares_list = [1, 4, 9, 16, 25]\n",
        "\n",
        "#\n",
        "# Concatenacion de listas usando el operador +\n",
        "#\n",
        "squares_list + [36, 49, 64, 81, 100]"
      ]
    },
    {
      "cell_type": "code",
      "execution_count": null,
      "metadata": {
        "colab": {
          "base_uri": "https://localhost:8080/"
        },
        "id": "Tt4rPDALBac2",
        "outputId": "6b6d1809-dcf1-4cce-80aa-0c609201888c"
      },
      "outputs": [
        {
          "data": {
            "text/plain": [
              "[]"
            ]
          },
          "execution_count": 30,
          "metadata": {},
          "output_type": "execute_result"
        }
      ],
      "source": [
        "#\n",
        "# Método clear\n",
        "# =============================================================================\n",
        "#\n",
        "list_to_clear = [1, 2, 3, 4, 5, 6]  #Se utiliza cuando se trabaja con datos temporales\n",
        "list_to_clear.clear()\n",
        "list_to_clear"
      ]
    },
    {
      "cell_type": "code",
      "execution_count": null,
      "metadata": {
        "colab": {
          "base_uri": "https://localhost:8080/"
        },
        "id": "HZ2hux_pBgOQ",
        "outputId": "ef814fb6-a460-4b08-d076-27031e54bd4c"
      },
      "outputs": [
        {
          "data": {
            "text/plain": [
              "[1, 4, 9, 16, 25]"
            ]
          },
          "execution_count": 31,
          "metadata": {},
          "output_type": "execute_result"
        }
      ],
      "source": [
        "#\n",
        "# Método pop\n",
        "# =============================================================================\n",
        "# Lista antes de pop()\n",
        "squares_list"
      ]
    },
    {
      "cell_type": "code",
      "execution_count": null,
      "metadata": {
        "colab": {
          "base_uri": "https://localhost:8080/"
        },
        "id": "gBCFGBxFBy5Z",
        "outputId": "741359a3-ccd0-4272-ce5f-e2ec85233333"
      },
      "outputs": [
        {
          "data": {
            "text/plain": [
              "25"
            ]
          },
          "execution_count": 32,
          "metadata": {},
          "output_type": "execute_result"
        }
      ],
      "source": [
        "squares_list.pop()"
      ]
    },
    {
      "cell_type": "code",
      "execution_count": null,
      "metadata": {
        "colab": {
          "base_uri": "https://localhost:8080/"
        },
        "id": "9KZJka19B-Vy",
        "outputId": "b861635d-682a-481a-d9c8-4c5e453d9ccf"
      },
      "outputs": [
        {
          "data": {
            "text/plain": [
              "[1, 4, 9, 16]"
            ]
          },
          "execution_count": 33,
          "metadata": {},
          "output_type": "execute_result"
        }
      ],
      "source": [
        "#\n",
        "# Contenido de squares despues de pop()\n",
        "#\n",
        "squares_list"
      ]
    },
    {
      "cell_type": "code",
      "execution_count": null,
      "metadata": {
        "colab": {
          "base_uri": "https://localhost:8080/"
        },
        "id": "i_CKgxgpCGdY",
        "outputId": "fb24a9eb-246d-4cdf-9a73-a18f1015894e"
      },
      "outputs": [
        {
          "data": {
            "text/plain": [
              "[4, 9, 16]"
            ]
          },
          "execution_count": 34,
          "metadata": {},
          "output_type": "execute_result"
        }
      ],
      "source": [
        "#\n",
        "# Pop() indicando la posición\n",
        "#\n",
        "squares_list.pop(0)\n",
        "squares_list"
      ]
    },
    {
      "cell_type": "code",
      "execution_count": null,
      "metadata": {
        "colab": {
          "base_uri": "https://localhost:8080/"
        },
        "id": "hmW_PewJCZsB",
        "outputId": "896dfb50-beee-4077-ada0-b4ed5f945c33"
      },
      "outputs": [
        {
          "data": {
            "text/plain": [
              "[0, 1, 2, 3, 4, 5, 6, 7, 8, 9]"
            ]
          },
          "execution_count": 35,
          "metadata": {},
          "output_type": "execute_result"
        }
      ],
      "source": [
        "#\n",
        "# Método extend\n",
        "# =============================================================================\n",
        "#\n",
        "list_a = [0, 1, 2, 3, 4, 5]\n",
        "list_b = [6, 7, 8, 9]\n",
        "\n",
        "#\n",
        "# Agrega lista_b al final de lista_a\n",
        "#\n",
        "list_a.extend(list_b)    #Es lo mismo que haber sumado ambos listados \"+\"\n",
        "list_a"
      ]
    },
    {
      "cell_type": "code",
      "execution_count": null,
      "metadata": {
        "colab": {
          "base_uri": "https://localhost:8080/"
        },
        "id": "mCz8KWZrC15b",
        "outputId": "f16a499b-be0d-4bac-ae6a-ea8e80c5fc9c"
      },
      "outputs": [
        {
          "data": {
            "text/plain": [
              "['a', 0, 1, 2, 3, 4, 5, 6, 7, 8, 9]"
            ]
          },
          "execution_count": 36,
          "metadata": {},
          "output_type": "execute_result"
        }
      ],
      "source": [
        "#\n",
        "# Método insert\n",
        "# =============================================================================\n",
        "#\n",
        "list_a.insert(0, \"a\")\n",
        "list_a"
      ]
    },
    {
      "cell_type": "code",
      "execution_count": null,
      "metadata": {
        "colab": {
          "base_uri": "https://localhost:8080/"
        },
        "id": "dfgyAKVQC7Hr",
        "outputId": "3045cd31-2d02-4d55-fdc8-4885b261b4bc"
      },
      "outputs": [
        {
          "data": {
            "text/plain": [
              "3"
            ]
          },
          "execution_count": 37,
          "metadata": {},
          "output_type": "execute_result"
        }
      ],
      "source": [
        "#\n",
        "# Método count\n",
        "# =============================================================================\n",
        "#\n",
        "list_c = [\"a\", \"b\", \"b\", \"c\", \"c\", \"c\", \"d\", \"d\", \"d\", \"d\"]\n",
        "\n",
        "#\n",
        "# Cantidad de veces que aparece 'c'.\n",
        "#\n",
        "list_c.count(\"c\")"
      ]
    },
    {
      "cell_type": "code",
      "execution_count": null,
      "metadata": {
        "colab": {
          "base_uri": "https://localhost:8080/"
        },
        "id": "KheD_vbxDaPu",
        "outputId": "2c10b28d-1098-4e16-cf7f-c720c61bb92a"
      },
      "outputs": [
        {
          "data": {
            "text/plain": [
              "3"
            ]
          },
          "execution_count": 38,
          "metadata": {},
          "output_type": "execute_result"
        }
      ],
      "source": [
        "#\n",
        "# Método index\n",
        "# =============================================================================\n",
        "#\n",
        "list_c = [\"a\", \"b\", \"b\", \"c\", \"c\", \"c\", \"d\", \"d\", \"d\", \"d\"]\n",
        "list_c.index(\"c\")  #Siempre devuelve la primera ocurrencia. No hace nada con las demás. Todas las funciones de listados tienen el mismo comportamiento"
      ]
    },
    {
      "cell_type": "code",
      "execution_count": null,
      "metadata": {
        "colab": {
          "base_uri": "https://localhost:8080/"
        },
        "id": "cLBIKVZkEDY3",
        "outputId": "62310dfb-e00b-4980-d970-fa65dc585852"
      },
      "outputs": [
        {
          "data": {
            "text/plain": [
              "['a', 'c', 'd', 'e', 'f', 'g']"
            ]
          },
          "execution_count": 40,
          "metadata": {},
          "output_type": "execute_result"
        }
      ],
      "source": [
        "#\n",
        "# Método remove\n",
        "# =============================================================================\n",
        "#\n",
        "letters_list = [\"a\", \"b\", \"c\", \"d\", \"e\", \"f\", \"g\"]\n",
        "letters_list.remove(\"b\")    #Solo eliminará el primer elemento en el que encuentre coincidencia. Si \"b\" apareciera varias veces, no se elimina más que el primero\n",
        "letters_list"
      ]
    },
    {
      "cell_type": "code",
      "execution_count": null,
      "metadata": {
        "colab": {
          "base_uri": "https://localhost:8080/"
        },
        "id": "PUASNrT9Fdoj",
        "outputId": "9b3aff78-b443-47bf-b2fe-a528eb217acd"
      },
      "outputs": [
        {
          "data": {
            "text/plain": [
              "['g', 'f', 'e', 'd', 'c', 'b', 'a']"
            ]
          },
          "execution_count": 42,
          "metadata": {},
          "output_type": "execute_result"
        }
      ],
      "source": [
        "#\n",
        "# Método reverse\n",
        "# =============================================================================\n",
        "#\n",
        "letters_list = [\"a\", \"b\", \"c\", \"d\", \"e\", \"f\", \"g\"]\n",
        "\n",
        "letters_list.reverse()\n",
        "letters_list"
      ]
    },
    {
      "cell_type": "code",
      "execution_count": null,
      "metadata": {
        "colab": {
          "base_uri": "https://localhost:8080/"
        },
        "id": "eC2WEC4uFlVL",
        "outputId": "499540e7-033a-4eb8-dcd3-3f0f96914c50"
      },
      "outputs": [
        {
          "data": {
            "text/plain": [
              "['g', 'f', 'e', 'd', 'c', 'b', 'a']"
            ]
          },
          "execution_count": 43,
          "metadata": {},
          "output_type": "execute_result"
        }
      ],
      "source": [
        "letters_list = [\"a\", \"b\", \"c\", \"d\", \"e\", \"f\", \"g\"]\n",
        "letters_list [::-1]   #Hace lo mismo que el método reverse. \"Hay varias formas de llegar al mismo resultado\""
      ]
    },
    {
      "cell_type": "code",
      "execution_count": null,
      "metadata": {
        "colab": {
          "base_uri": "https://localhost:8080/"
        },
        "id": "R6dYjfl5F5Gp",
        "outputId": "9afc3c24-7723-4213-f25e-064c6dbf4c12"
      },
      "outputs": [
        {
          "data": {
            "text/plain": [
              "['g', 'f', 'e', 'd', 'c', 'b', 'a']"
            ]
          },
          "execution_count": 44,
          "metadata": {},
          "output_type": "execute_result"
        }
      ],
      "source": [
        "#\n",
        "# Método sort\n",
        "# =============================================================================\n",
        "#\n",
        "letters_list = [\"a\", \"b\", \"c\", \"d\", \"e\", \"f\", \"g\"]\n",
        "letters_list.sort(reverse=True)\n",
        "letters_list"
      ]
    },
    {
      "cell_type": "code",
      "execution_count": null,
      "metadata": {
        "colab": {
          "base_uri": "https://localhost:8080/"
        },
        "id": "UtLRrc8rHv1k",
        "outputId": "4499fa3d-333b-4166-89e0-3c1f4301bb1f"
      },
      "outputs": [
        {
          "data": {
            "text/plain": [
              "['g', 'f', 'e', 'd', 'c', 'b', 'a']"
            ]
          },
          "execution_count": 46,
          "metadata": {},
          "output_type": "execute_result"
        }
      ],
      "source": [
        "#\n",
        "# Función sorted -- A diferencia del método sort, no solo trabaja con listas, también trabaja con tuplas, sets, diccionarios.\n",
        "# =============================================================================\n",
        "#\n",
        "letters_list = [\"a\", \"b\", \"c\", \"d\", \"e\", \"f\", \"g\"]\n",
        "sorted(letters_list, reverse=True)     #\"Sorted\" con otro color, se le llaman funciones globales (ESTÁN PRECARGADAS) a todas (No palabras reservadas)\n",
        "#hace lo mismo que la sintaxis del \"Método Sort\""
      ]
    },
    {
      "cell_type": "code",
      "execution_count": null,
      "metadata": {
        "colab": {
          "base_uri": "https://localhost:8080/",
          "height": 210
        },
        "id": "5BlQo2PhIqlb",
        "outputId": "a40f5e89-1eac-4afb-b0ae-79f6e13ff63b"
      },
      "outputs": [
        {
          "ename": "NameError",
          "evalue": "ignored",
          "output_type": "error",
          "traceback": [
            "\u001b[0;31m---------------------------------------------------------------------------\u001b[0m",
            "\u001b[0;31mNameError\u001b[0m                                 Traceback (most recent call last)",
            "\u001b[0;32m<ipython-input-8-d6622b53b9ec>\u001b[0m in \u001b[0;36m<cell line: 5>\u001b[0;34m()\u001b[0m\n\u001b[1;32m      3\u001b[0m \u001b[0;31m#\u001b[0m\u001b[0;34m\u001b[0m\u001b[0;34m\u001b[0m\u001b[0m\n\u001b[1;32m      4\u001b[0m \u001b[0mtuples_list\u001b[0m \u001b[0;34m=\u001b[0m \u001b[0;34m[\u001b[0m\u001b[0;34m(\u001b[0m\u001b[0;36m10\u001b[0m\u001b[0;34m,\u001b[0m \u001b[0;34m\"b\"\u001b[0m\u001b[0;34m)\u001b[0m\u001b[0;34m,\u001b[0m \u001b[0;34m(\u001b[0m\u001b[0;36m8\u001b[0m\u001b[0;34m,\u001b[0m \u001b[0;34m\"a\"\u001b[0m\u001b[0;34m)\u001b[0m\u001b[0;34m,\u001b[0m \u001b[0;34m(\u001b[0m\u001b[0;36m12\u001b[0m\u001b[0;34m,\u001b[0m \u001b[0;34m\"d\"\u001b[0m\u001b[0;34m)\u001b[0m\u001b[0;34m,\u001b[0m \u001b[0;34m(\u001b[0m\u001b[0;36m9\u001b[0m\u001b[0;34m,\u001b[0m \u001b[0;34m\"c\"\u001b[0m\u001b[0;34m)\u001b[0m\u001b[0;34m]\u001b[0m\u001b[0;34m\u001b[0m\u001b[0;34m\u001b[0m\u001b[0m\n\u001b[0;32m----> 5\u001b[0;31m \u001b[0msorted\u001b[0m\u001b[0;34m(\u001b[0m\u001b[0mtuples_list\u001b[0m\u001b[0;34m,\u001b[0m \u001b[0mkey\u001b[0m\u001b[0;34m=\u001b[0m\u001b[0mitemgetter\u001b[0m\u001b[0;34m(\u001b[0m\u001b[0;36m1\u001b[0m\u001b[0;34m)\u001b[0m\u001b[0;34m,\u001b[0m \u001b[0mreverse\u001b[0m\u001b[0;34m=\u001b[0m\u001b[0;32mFalse\u001b[0m\u001b[0;34m)\u001b[0m\u001b[0;34m\u001b[0m\u001b[0;34m\u001b[0m\u001b[0m\n\u001b[0m",
            "\u001b[0;31mNameError\u001b[0m: name 'itemgetter' is not defined"
          ]
        }
      ],
      "source": [
        "#\n",
        "# Ordenamiento de listas complejas con sorted\n",
        "#\n",
        "tuples_list = [(10, \"b\"), (8, \"a\"), (12, \"d\"), (9, \"c\")]\n",
        "sorted(tuples_list, key=itemgetter(1), reverse=False)"
      ]
    },
    {
      "cell_type": "markdown",
      "metadata": {
        "id": "MWdnbCt42H91"
      },
      "source": [
        "#Programación funcional"
      ]
    },
    {
      "cell_type": "code",
      "execution_count": null,
      "metadata": {
        "colab": {
          "base_uri": "https://localhost:8080/"
        },
        "id": "5H6otx5w1sPu",
        "outputId": "cf488f19-8c53-4c22-e48f-2369212602a2"
      },
      "outputs": [
        {
          "name": "stdout",
          "output_type": "stream",
          "text": [
            "['a', 'b', 'c', 'd', 'e', 'f', 'a', 'a', 'f', 'f', 'q', 't', 'yyyy', 'x']\n"
          ]
        }
      ],
      "source": [
        "lista_1: str = \"a,b,c,d,e,f,a,a,f,f,q,t,yyyy,x\".split(\",\")\n",
        "print(lista_1)"
      ]
    },
    {
      "cell_type": "code",
      "execution_count": null,
      "metadata": {
        "colab": {
          "base_uri": "https://localhost:8080/",
          "height": 35
        },
        "id": "gQIy77g82j7v",
        "outputId": "9d808d3b-4538-41a1-f49a-eead530fd306"
      },
      "outputs": [
        {
          "data": {
            "application/vnd.google.colaboratory.intrinsic+json": {
              "type": "string"
            },
            "text/plain": [
              "'BBB'"
            ]
          },
          "execution_count": 3,
          "metadata": {},
          "output_type": "execute_result"
        }
      ],
      "source": [
        "#¿Qué se quiere? Cambiar a --- AAA\n",
        "#Primero intentamos con funciones declaradas\n",
        "\n",
        "def acciones (letra:str):\n",
        "  return letra.upper()*3\n",
        "\n",
        "#Prueba de escritorio ---- Solo tome una muestra pequeña de toda la serie de datos para hacer la prueba\n",
        "acciones(\"a\")\n",
        "acciones(\"b\")"
      ]
    },
    {
      "cell_type": "code",
      "execution_count": null,
      "metadata": {
        "colab": {
          "base_uri": "https://localhost:8080/"
        },
        "id": "YJL00SXL6fAU",
        "outputId": "d9d85abb-7a2b-4538-b0c2-eb2d8d34639b"
      },
      "outputs": [
        {
          "name": "stdout",
          "output_type": "stream",
          "text": [
            "['AAA', 'BBB', 'CCC', 'DDD', 'EEE', 'FFF', 'AAA', 'AAA', 'FFF', 'FFF', 'QQQ', 'TTT', 'YYYYYYYYYYYY', 'XXX']\n"
          ]
        }
      ],
      "source": [
        "elementos = []\n",
        "for letra in lista_1:\n",
        "  elementos.append(acciones(letra))\n",
        "\n",
        "print(elementos)"
      ]
    },
    {
      "cell_type": "code",
      "execution_count": null,
      "metadata": {
        "colab": {
          "base_uri": "https://localhost:8080/"
        },
        "id": "lW1u61GP86HO",
        "outputId": "3f93a160-38e7-4175-944f-6fe8c3b9d0d0"
      },
      "outputs": [
        {
          "data": {
            "text/plain": [
              "['AAA',\n",
              " 'BBB',\n",
              " 'CCC',\n",
              " 'DDD',\n",
              " 'EEE',\n",
              " 'FFF',\n",
              " 'AAA',\n",
              " 'AAA',\n",
              " 'FFF',\n",
              " 'FFF',\n",
              " 'QQQ',\n",
              " 'TTT',\n",
              " 'YYYYYYYYYYYY',\n",
              " 'XXX']"
            ]
          },
          "execution_count": 4,
          "metadata": {},
          "output_type": "execute_result"
        }
      ],
      "source": [
        "#Ahora usamos programación funcional\n",
        "list (map(acciones, lista_1))\n",
        "#Desde la programación funcional, python implicitamente es capaz de ejecutar\n",
        "#según los datos cargados y los parámetros que está recibiendo."
      ]
    },
    {
      "cell_type": "code",
      "execution_count": null,
      "metadata": {
        "colab": {
          "base_uri": "https://localhost:8080/"
        },
        "id": "kHQWEgWJsgp8",
        "outputId": "04d2ca7a-3467-4f36-c777-5b7721dd7bed"
      },
      "outputs": [
        {
          "data": {
            "text/plain": [
              "['AAA',\n",
              " 'BBB',\n",
              " 'CCC',\n",
              " 'DDD',\n",
              " 'EEE',\n",
              " 'FFF',\n",
              " 'AAA',\n",
              " 'AAA',\n",
              " 'FFF',\n",
              " 'FFF',\n",
              " 'QQQ',\n",
              " 'TTT',\n",
              " 'YYYYYYYYYYYY',\n",
              " 'XXX']"
            ]
          },
          "execution_count": 7,
          "metadata": {},
          "output_type": "execute_result"
        }
      ],
      "source": [
        "#Usando funciones anónimas\n",
        "list(map(lambda letra: letra.upper()*3, lista_1))"
      ]
    },
    {
      "cell_type": "code",
      "execution_count": null,
      "metadata": {
        "colab": {
          "base_uri": "https://localhost:8080/"
        },
        "id": "ZzWVGEa-taVN",
        "outputId": "fac6b577-cf73-486d-fb23-3c822edd67e7"
      },
      "outputs": [
        {
          "data": {
            "text/plain": [
              "21"
            ]
          },
          "execution_count": 14,
          "metadata": {},
          "output_type": "execute_result"
        }
      ],
      "source": [
        "from functools import reduce\n",
        "\n",
        "my_list = [1, 2, 3, 4, 5, 6]\n",
        "\n",
        "reduce(lambda item_1, item_2: item_1 + item_2, my_list) #reduce hace referencia a barrer\n",
        "#todo el objeto sobre el que se ejecutará la función y llevar hasta la más mínima\n",
        "#expresión el resultado sobre la operación que se está aplicando."
      ]
    },
    {
      "cell_type": "code",
      "execution_count": null,
      "metadata": {
        "colab": {
          "base_uri": "https://localhost:8080/"
        },
        "id": "KwS1U3sYxv17",
        "outputId": "815002b1-d89c-47c9-ef3f-f6cfc8776bcf"
      },
      "outputs": [
        {
          "data": {
            "text/plain": [
              "[5, 6, 7, 8, 9]"
            ]
          },
          "execution_count": 13,
          "metadata": {},
          "output_type": "execute_result"
        }
      ],
      "source": [
        "#\n",
        "# Filter retorna los elementos para los\n",
        "# cuales el condicional da verdadero\n",
        "#\n",
        "list_a = [0, 1, 2, 3, 4, 5, 6, 7, 8, 9]\n",
        "list(filter(lambda element: element > 4, list_a))"
      ]
    },
    {
      "cell_type": "markdown",
      "metadata": {
        "id": "CVj8e4c30_D1"
      },
      "source": [
        "#Impresión con formato usando f-strings"
      ]
    },
    {
      "cell_type": "code",
      "execution_count": null,
      "metadata": {
        "colab": {
          "base_uri": "https://localhost:8080/"
        },
        "id": "1sHk2bQ9y1Wu",
        "outputId": "ec0d28a2-dcf5-4fd8-c3d9-f5575540f10b"
      },
      "outputs": [
        {
          "name": "stdout",
          "output_type": "stream",
          "text": [
            "Saludo a David de edad 27\n"
          ]
        }
      ],
      "source": [
        "#Proceso tradicional\n",
        "nombre:str = \"David\"\n",
        "edad:int = 27\n",
        "\n",
        "print(\"Saludo a \"+nombre+\" de edad \"+str(edad))  #Imprimir a partir de variables"
      ]
    },
    {
      "cell_type": "code",
      "execution_count": null,
      "metadata": {
        "colab": {
          "base_uri": "https://localhost:8080/"
        },
        "id": "5lsbjboG8QqN",
        "outputId": "71c7353c-f393-4f24-e482-f7ab95d56cf8"
      },
      "outputs": [
        {
          "name": "stdout",
          "output_type": "stream",
          "text": [
            "saludo a David de edad 27\n"
          ]
        }
      ],
      "source": [
        "#Con formateo - Versión más actual\n",
        "print(f\"saludo a {nombre} de edad {edad}\")"
      ]
    },
    {
      "cell_type": "code",
      "execution_count": null,
      "metadata": {
        "colab": {
          "base_uri": "https://localhost:8080/"
        },
        "id": "28RQierU8_Bp",
        "outputId": "1937be0d-9b15-4873-893a-9ed99e9d8b69"
      },
      "outputs": [
        {
          "name": "stdout",
          "output_type": "stream",
          "text": [
            "The value of pi is approximately 3.142.\n"
          ]
        }
      ],
      "source": [
        "import math\n",
        "\n",
        "print(f\"The value of pi is approximately {math.pi:.3f}.\")\n",
        "# Los dos puntos dentro de las llaves {match.pi:} sirven para especificar escalas\n",
        "#decimales o darle formato a la cadena."
      ]
    },
    {
      "cell_type": "code",
      "execution_count": null,
      "metadata": {
        "colab": {
          "base_uri": "https://localhost:8080/"
        },
        "id": "HvMoRpc799_X",
        "outputId": "755a718e-9f8c-44c6-f95b-4c1d183d314c"
      },
      "outputs": [
        {
          "name": "stdout",
          "output_type": "stream",
          "text": [
            "Sjoerd     ==>       4127\n",
            "Jack       ==>       4098\n",
            "Dcab       ==>       7678\n"
          ]
        }
      ],
      "source": [
        "table = {\"Sjoerd\": 4127, \"Jack\": 4098, \"Dcab\": 7678}\n",
        "for name, phone in table.items():\n",
        "    print(f\"{name:10} ==> {phone:10d}\")"
      ]
    },
    {
      "cell_type": "code",
      "execution_count": null,
      "metadata": {
        "colab": {
          "base_uri": "https://localhost:8080/"
        },
        "id": "Ay8r1ASt-f-w",
        "outputId": "28b7fc7d-e261-47e4-80fe-06fede6ec123"
      },
      "outputs": [
        {
          "name": "stdout",
          "output_type": "stream",
          "text": [
            "My hovercraft is full of eels.\n"
          ]
        }
      ],
      "source": [
        "animals = \"eels\"\n",
        "\n",
        "print(f\"My hovercraft is full of {animals}.\")"
      ]
    },
    {
      "cell_type": "code",
      "execution_count": null,
      "metadata": {
        "colab": {
          "base_uri": "https://localhost:8080/"
        },
        "id": "jc_iC6UK-t2n",
        "outputId": "7f19b866-0db7-4e2a-8132-34ab64a5ea44"
      },
      "outputs": [
        {
          "name": "stdout",
          "output_type": "stream",
          "text": [
            "user|age\n",
            "David|27\n"
          ]
        }
      ],
      "source": [
        "print(\"user|age\")\n",
        "print(f\"{nombre}|{edad}\")  #Sirve para crear archivos usando cualquier delimitación \"|\""
      ]
    },
    {
      "cell_type": "code",
      "execution_count": null,
      "metadata": {
        "colab": {
          "base_uri": "https://localhost:8080/"
        },
        "id": "WX1a_O9T_hGW",
        "outputId": "1674642e-546b-41ac-ea5a-9ee405c52b00"
      },
      "outputs": [
        {
          "name": "stdout",
          "output_type": "stream",
          "text": [
            "user|age|etapa\n",
            "David|27|5\n"
          ]
        }
      ],
      "source": [
        "print(\"user|age|etapa\")\n",
        "print(f\"{nombre}|{edad}|{len(nombre)}\")   #Se pueden aplicar funciones externas\n",
        "#o funciones relacionadas al formateo."
      ]
    },
    {
      "cell_type": "code",
      "execution_count": null,
      "metadata": {
        "colab": {
          "base_uri": "https://localhost:8080/"
        },
        "id": "fj5rP8K2DCq2",
        "outputId": "bc39afb0-c4ea-413f-ed21-799e701fd900"
      },
      "outputs": [
        {
          "name": "stdout",
          "output_type": "stream",
          "text": [
            "user|age|etapa\n",
            "David|27|DAVID\n"
          ]
        }
      ],
      "source": [
        "print(f\"{nombre}|{edad}|{(nombre).upper()}\")"
      ]
    },
    {
      "cell_type": "code",
      "execution_count": null,
      "metadata": {
        "colab": {
          "base_uri": "https://localhost:8080/"
        },
        "id": "zCdsbl90F1-M",
        "outputId": "3aad07a4-a196-4743-8dd4-8eb8b4211fca"
      },
      "outputs": [
        {
          "name": "stdout",
          "output_type": "stream",
          "text": [
            "\n",
            "select  \n",
            "from xy\n",
            "union \n",
            "select * \n",
            "from ab\n",
            "\n"
          ]
        }
      ],
      "source": [
        "#Formateo para imprimir un query de SQL.\n",
        "# ¿Cómo hacer formateo si no se quiere declarar variables antes?\n",
        "#Declarando variables\n",
        "tabla1 = \"xy\"\n",
        "tabla2 = \"ab\"\n",
        "sql = f'''\n",
        "select\n",
        "from {tabla1}\n",
        "union\n",
        "select *\n",
        "from {tabla2}\n",
        "'''\n",
        "\n",
        "print (sql)"
      ]
    },
    {
      "cell_type": "code",
      "execution_count": null,
      "metadata": {
        "id": "30k-ru8aMx7e"
      },
      "outputs": [],
      "source": [
        "#Formateo multiple para reemplazar varias variables al tiempo que se declaran antes.\n",
        "#Se define el template\n",
        "sql = '''\n",
        "select t1.v1, t2.v2\n",
        "from {zona}.{tablax} t1\n",
        "inner join\n",
        "{zona}.{tablay} t2\n",
        "on (t1.v1 = t2.v2)\n",
        "union\n",
        "select *\n",
        "from {zona}.{tablaz}\n",
        "'''\n"
      ]
    },
    {
      "cell_type": "code",
      "execution_count": null,
      "metadata": {
        "id": "hHIlXQ8FNavx"
      },
      "outputs": [],
      "source": [
        "datos:dict = {\n",
        "    \"tablax\":\"proceso\",\n",
        "    \"tablay\":\"resultado\",\n",
        "    \"tablaz\":\"datos_crudos\",\n",
        "    \"zona\": \"entorno\",\n",
        "}"
      ]
    },
    {
      "cell_type": "code",
      "execution_count": null,
      "metadata": {
        "colab": {
          "base_uri": "https://localhost:8080/",
          "height": 35
        },
        "id": "DQJVr1DgRKFl",
        "outputId": "bf0fdfb4-05cd-4630-c32f-7d2a9f28737b"
      },
      "outputs": [
        {
          "data": {
            "application/vnd.google.colaboratory.intrinsic+json": {
              "type": "string"
            },
            "text/plain": [
              "'     \\nselect t1.v1, t2.v2\\nfrom entorno.proceso t1\\ninner join \\nentorno.resultado t2\\non (t1.v1 = t2.v2)\\nunion \\nselect * \\nfrom entorno.datos_crudos\\n'"
            ]
          },
          "execution_count": 43,
          "metadata": {},
          "output_type": "execute_result"
        }
      ],
      "source": [
        "sql.format(**datos)"
      ]
    },
    {
      "cell_type": "code",
      "execution_count": null,
      "metadata": {
        "colab": {
          "base_uri": "https://localhost:8080/"
        },
        "id": "ggjUgBfyUzKd",
        "outputId": "caafd055-3a63-4956-ccef-aed6364ba173"
      },
      "outputs": [
        {
          "name": "stdout",
          "output_type": "stream",
          "text": [
            "     \n",
            "select t1.v1, t2.v2\n",
            "from entorno.proceso t1\n",
            "inner join \n",
            "entorno.resultado t2\n",
            "on (t1.v1 = t2.v2)\n",
            "union \n",
            "select * \n",
            "from entorno.datos_crudos\n",
            "\n"
          ]
        }
      ],
      "source": [
        "print(sql.format(**datos))"
      ]
    },
    {
      "cell_type": "code",
      "execution_count": null,
      "metadata": {
        "id": "b1jB-poJWQKH"
      },
      "outputs": [],
      "source": [
        "datos:dict = {\n",
        "    \"tablax\":\"proceso\",\n",
        "    \"tablay\":\"resultado\",\n",
        "    \"tablaz\":\"datos_crudos\",\n",
        "    \"zona\": \"uat\",\n",
        "}"
      ]
    },
    {
      "cell_type": "code",
      "execution_count": null,
      "metadata": {
        "colab": {
          "base_uri": "https://localhost:8080/"
        },
        "id": "AgRGIWAObXqu",
        "outputId": "4fe2c4c9-07b3-49fe-cd14-ad21fa176699"
      },
      "outputs": [
        {
          "name": "stdout",
          "output_type": "stream",
          "text": [
            "     \n",
            "select t1.v1, t2.v2\n",
            "from uat.proceso t1\n",
            "inner join \n",
            "uat.resultado t2\n",
            "on (t1.v1 = t2.v2)\n",
            "union \n",
            "select * \n",
            "from uat.datos_crudos\n",
            "\n"
          ]
        }
      ],
      "source": [
        "print(sql.format(**datos))"
      ]
    },
    {
      "cell_type": "code",
      "execution_count": null,
      "metadata": {
        "id": "N9wD-ylqtsZ4"
      },
      "outputs": [],
      "source": [
        "#Método Format() --- No se evaluará en el curso. Es importante conocerlo dado que se usa muy seguido.\n",
        "#Versión anterior"
      ]
    },
    {
      "cell_type": "code",
      "execution_count": null,
      "metadata": {
        "id": "9vu4ethJtsO7"
      },
      "outputs": [],
      "source": []
    },
    {
      "cell_type": "code",
      "execution_count": null,
      "metadata": {
        "colab": {
          "base_uri": "https://localhost:8080/",
          "height": 193
        },
        "id": "5XnAfPvEQvA8",
        "outputId": "bfd8128a-9713-4329-cf7c-728af6ea9e0d"
      },
      "outputs": [
        {
          "ename": "ZeroDivisionError",
          "evalue": "ignored",
          "output_type": "error",
          "traceback": [
            "\u001b[0;31m---------------------------------------------------------------------------\u001b[0m",
            "\u001b[0;31mZeroDivisionError\u001b[0m                         Traceback (most recent call last)",
            "\u001b[0;32m<ipython-input-1-0a33967fb5be>\u001b[0m in \u001b[0;36m<cell line: 2>\u001b[0;34m()\u001b[0m\n\u001b[1;32m      1\u001b[0m \u001b[0;31m#Manejo de Excepciones\u001b[0m\u001b[0;34m\u001b[0m\u001b[0;34m\u001b[0m\u001b[0m\n\u001b[0;32m----> 2\u001b[0;31m \u001b[0;36m1\u001b[0m\u001b[0;34m/\u001b[0m\u001b[0;36m0\u001b[0m\u001b[0;34m\u001b[0m\u001b[0;34m\u001b[0m\u001b[0m\n\u001b[0m",
            "\u001b[0;31mZeroDivisionError\u001b[0m: division by zero"
          ]
        }
      ],
      "source": [
        "#Manejo de Excepciones\n",
        "1/0"
      ]
    },
    {
      "cell_type": "code",
      "execution_count": null,
      "metadata": {
        "id": "okYpGCFdvhXN"
      },
      "outputs": [],
      "source": [
        "#Manejo de excepciones\n",
        "try: #Obligatorio\n",
        " #El código que se quiere validar en caso de fallos\n",
        "except: #Obligatorio\n",
        " #Intercepta la excepción y se le da un tratamiento adecuado\n",
        "else: #Opcional\n",
        " #Se ejecuta cuando todo sale bien\n",
        "finally: #Opcional\n",
        " #Ejecutarse termine bien o termine mal"
      ]
    },
    {
      "cell_type": "code",
      "execution_count": null,
      "metadata": {
        "colab": {
          "base_uri": "https://localhost:8080/"
        },
        "id": "CL15aNBOQWJJ",
        "outputId": "51b6ede7-0f86-4163-98b7-43f53b44e312"
      },
      "outputs": [
        {
          "name": "stdout",
          "output_type": "stream",
          "text": [
            "Es un error\n"
          ]
        }
      ],
      "source": [
        "try:\n",
        "  1/0\n",
        "except:\n",
        "  print('Es un error')"
      ]
    },
    {
      "cell_type": "code",
      "execution_count": null,
      "metadata": {
        "colab": {
          "base_uri": "https://localhost:8080/"
        },
        "id": "9pCAQq_ef7pd",
        "outputId": "545592fb-ad33-4588-f08b-b2dd0e8b679a"
      },
      "outputs": [
        {
          "name": "stdout",
          "output_type": "stream",
          "text": [
            "un error, fue division by zero\n",
            "Comuniquese con el Admin.\n"
          ]
        }
      ],
      "source": [
        "try:\n",
        "  1/0\n",
        "except Exception as ex:\n",
        "  print(f'un error, fue {ex}')\n",
        "  print(\"Comuniquese con el Admin.\")"
      ]
    },
    {
      "cell_type": "code",
      "execution_count": null,
      "metadata": {
        "colab": {
          "base_uri": "https://localhost:8080/"
        },
        "id": "s6xGhuD5gmHe",
        "outputId": "f753c0c6-8b0d-4a9a-93bc-81f866ce3c3e"
      },
      "outputs": [
        {
          "name": "stdout",
          "output_type": "stream",
          "text": [
            "un error de división sobre 0\n",
            "Comuniquese con el Admin.\n"
          ]
        }
      ],
      "source": [
        "try:\n",
        "  1/0\n",
        "except ZeroDivisionError as ex: #Se obtiene copiando el tipo de error arrojado cuando se intentó hacer la división sobre 0.\n",
        "  print(f'un error de división sobre 0')\n",
        "  print(\"Comuniquese con el Admin.\")\n",
        "except Exception as ex:\n",
        "  print(f'un error desconocido, fue {ex}')\n",
        "  print(\"Comuniquese con el Admin.\")"
      ]
    },
    {
      "cell_type": "code",
      "execution_count": null,
      "metadata": {
        "id": "BWl_3JcvsQnH"
      },
      "outputs": [],
      "source": []
    }
  ],
  "metadata": {
    "colab": {
      "provenance": []
    },
    "kernelspec": {
      "display_name": "Python 3",
      "name": "python3"
    },
    "language_info": {
      "codemirror_mode": {
        "name": "ipython",
        "version": 3
      },
      "file_extension": ".py",
      "mimetype": "text/x-python",
      "name": "python",
      "nbconvert_exporter": "python",
      "pygments_lexer": "ipython3",
      "version": "3.11.5"
    }
  },
  "nbformat": 4,
  "nbformat_minor": 0
}
